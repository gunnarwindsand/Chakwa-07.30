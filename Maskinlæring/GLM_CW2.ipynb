{
 "cells": [
  {
   "cell_type": "code",
   "execution_count": 1,
   "metadata": {},
   "outputs": [],
   "source": [
    "import numpy as np\n",
    "import pandas as pd \n",
    "import matplotlib.pyplot as plt \n",
    "import seaborn as sns\n",
    "import scipy.stats as stats\n",
    "# Suppress warnings from pandas\n",
    "import warnings\n",
    "warnings.filterwarnings('ignore')\n",
    "import h2o\n",
    "from h2o.estimators import H2ORandomForestEstimator\n",
    "from h2o.grid.grid_search import H2OGridSearch\n",
    "from h2o.estimators.glm import H2OGeneralizedLinearEstimator"
   ]
  },
  {
   "cell_type": "code",
   "execution_count": 2,
   "metadata": {},
   "outputs": [],
   "source": [
    "df_train = pd.read_csv(\"train.csv\",index_col='id')\n",
    "df_test = pd.read_csv('test.csv', index_col='id')\n",
    "df_gender_sub = pd.read_csv(\"sampleSubmission.csv\", index_col='id')"
   ]
  },
  {
   "cell_type": "code",
   "execution_count": 3,
   "metadata": {},
   "outputs": [],
   "source": [
    "#Create variable for test data filled with nan\n",
    "df_test[\"target\"] = np.nan"
   ]
  },
  {
   "cell_type": "code",
   "execution_count": 4,
   "metadata": {},
   "outputs": [
    {
     "data": {
      "text/plain": [
       "(17083, 231)"
      ]
     },
     "execution_count": 4,
     "metadata": {},
     "output_type": "execute_result"
    }
   ],
   "source": [
    "df_all = pd.concat([df_train, df_test])\n",
    "df_all.shape"
   ]
  },
  {
   "cell_type": "code",
   "execution_count": 5,
   "metadata": {},
   "outputs": [],
   "source": [
    "cat_obs = df_all.select_dtypes(include = ['object'].copy())\n",
    "# converting to categorical data for faster computing purposes \n",
    "for i in cat_obs:\n",
    "    cat_obs[i] = cat_obs[i].astype('category')"
   ]
  },
  {
   "cell_type": "code",
   "execution_count": 6,
   "metadata": {},
   "outputs": [],
   "source": [
    "vars_all = df_all.columns.values\n",
    "var_dep = ['target']\n",
    "\n",
    "\n",
    "\n",
    "vars_ind = [var for var in vars_all if var not in (var_dep)]"
   ]
  },
  {
   "cell_type": "code",
   "execution_count": 7,
   "metadata": {},
   "outputs": [],
   "source": [
    "vars_ind_numeric = list(df_all[vars_ind].columns[df_all[vars_ind].dtypes != 'object'])\n",
    "vars_ind_categorical = list(df_all[vars_ind].columns[df_all[vars_ind].dtypes == 'object'])"
   ]
  },
  {
   "cell_type": "code",
   "execution_count": 9,
   "metadata": {},
   "outputs": [
    {
     "name": "stdout",
     "output_type": "stream",
     "text": [
      "Checking whether there is an H2O instance running at http://localhost:54321 . connected.\n"
     ]
    },
    {
     "data": {
      "text/html": [
       "<div style=\"overflow:auto\"><table style=\"width:50%\"><tr><td>H2O cluster uptime:</td>\n",
       "<td>08 secs</td></tr>\n",
       "<tr><td>H2O cluster timezone:</td>\n",
       "<td>Europe/Paris</td></tr>\n",
       "<tr><td>H2O data parsing timezone:</td>\n",
       "<td>UTC</td></tr>\n",
       "<tr><td>H2O cluster version:</td>\n",
       "<td>3.24.0.3</td></tr>\n",
       "<tr><td>H2O cluster version age:</td>\n",
       "<td>1 month and 20 days </td></tr>\n",
       "<tr><td>H2O cluster name:</td>\n",
       "<td>H2O_from_python_gunnarwindsand_sfx2ci</td></tr>\n",
       "<tr><td>H2O cluster total nodes:</td>\n",
       "<td>1</td></tr>\n",
       "<tr><td>H2O cluster free memory:</td>\n",
       "<td>4 Gb</td></tr>\n",
       "<tr><td>H2O cluster total cores:</td>\n",
       "<td>12</td></tr>\n",
       "<tr><td>H2O cluster allowed cores:</td>\n",
       "<td>12</td></tr>\n",
       "<tr><td>H2O cluster status:</td>\n",
       "<td>locked, healthy</td></tr>\n",
       "<tr><td>H2O connection url:</td>\n",
       "<td>http://localhost:54321</td></tr>\n",
       "<tr><td>H2O connection proxy:</td>\n",
       "<td>None</td></tr>\n",
       "<tr><td>H2O internal security:</td>\n",
       "<td>False</td></tr>\n",
       "<tr><td>H2O API Extensions:</td>\n",
       "<td>Amazon S3, XGBoost, Algos, AutoML, Core V3, Core V4</td></tr>\n",
       "<tr><td>Python version:</td>\n",
       "<td>3.6.7 final</td></tr></table></div>"
      ],
      "text/plain": [
       "--------------------------  ---------------------------------------------------\n",
       "H2O cluster uptime:         08 secs\n",
       "H2O cluster timezone:       Europe/Paris\n",
       "H2O data parsing timezone:  UTC\n",
       "H2O cluster version:        3.24.0.3\n",
       "H2O cluster version age:    1 month and 20 days\n",
       "H2O cluster name:           H2O_from_python_gunnarwindsand_sfx2ci\n",
       "H2O cluster total nodes:    1\n",
       "H2O cluster free memory:    4 Gb\n",
       "H2O cluster total cores:    12\n",
       "H2O cluster allowed cores:  12\n",
       "H2O cluster status:         locked, healthy\n",
       "H2O connection url:         http://localhost:54321\n",
       "H2O connection proxy:\n",
       "H2O internal security:      False\n",
       "H2O API Extensions:         Amazon S3, XGBoost, Algos, AutoML, Core V3, Core V4\n",
       "Python version:             3.6.7 final\n",
       "--------------------------  ---------------------------------------------------"
      ]
     },
     "metadata": {},
     "output_type": "display_data"
    }
   ],
   "source": [
    "h2o.init()\n",
    "h2o.remove_all() "
   ]
  },
  {
   "cell_type": "code",
   "execution_count": 10,
   "metadata": {},
   "outputs": [
    {
     "name": "stdout",
     "output_type": "stream",
     "text": [
      "Parse progress: |█████████████████████████████████████████████████████████| 100%\n"
     ]
    }
   ],
   "source": [
    "h2o_df_all = h2o.H2OFrame(df_all[vars_ind + var_dep])"
   ]
  },
  {
   "cell_type": "code",
   "execution_count": 11,
   "metadata": {},
   "outputs": [
    {
     "name": "stdout",
     "output_type": "stream",
     "text": [
      "Parse progress: |█████████████████████████████████████████████████████████| 100%\n",
      "Parse progress: |█████████████████████████████████████████████████████████| 100%\n"
     ]
    }
   ],
   "source": [
    "# To use for predictions\n",
    "h2o_train = h2o.import_file(\"train.csv\")\n",
    "h2o_test = h2o.import_file(\"test.csv\")"
   ]
  },
  {
   "cell_type": "code",
   "execution_count": 12,
   "metadata": {},
   "outputs": [],
   "source": [
    "y = \"target\"\n",
    "x = h2o_df_all.names \n",
    "x.remove(y)"
   ]
  },
  {
   "cell_type": "code",
   "execution_count": 13,
   "metadata": {},
   "outputs": [],
   "source": [
    "train, valid, test = h2o_df_all.split_frame([0.75, 0.15 ])"
   ]
  },
  {
   "cell_type": "code",
   "execution_count": 14,
   "metadata": {},
   "outputs": [],
   "source": [
    "train[\"target\"] = train[\"target\"].asfactor()\n",
    "valid[\"target\"] = valid[\"target\"].asfactor()\n",
    "test[\"target\"] = test[\"target\"].asfactor()"
   ]
  },
  {
   "cell_type": "code",
   "execution_count": 16,
   "metadata": {},
   "outputs": [],
   "source": [
    "glm1 = H2OGeneralizedLinearEstimator(alpha=1,\n",
    "                                     family=\"binomial\",\n",
    "                                      standardize = True,\n",
    "                                     link=\"logit\",\n",
    "                                     lambda_search=True,\n",
    "                                     seed=1)"
   ]
  },
  {
   "cell_type": "code",
   "execution_count": 17,
   "metadata": {},
   "outputs": [
    {
     "name": "stdout",
     "output_type": "stream",
     "text": [
      "glm Model Build progress: |███████████████████████████████████████████████| 100%\n"
     ]
    }
   ],
   "source": [
    "glm1.train(x=x, y=y, training_frame=train, validation_frame=valid)"
   ]
  },
  {
   "cell_type": "code",
   "execution_count": 18,
   "metadata": {},
   "outputs": [
    {
     "data": {
      "text/plain": [
       "0.8784658075996771"
      ]
     },
     "execution_count": 18,
     "metadata": {},
     "output_type": "execute_result"
    }
   ],
   "source": [
    "glm1.model_performance(train).auc()"
   ]
  },
  {
   "cell_type": "code",
   "execution_count": 19,
   "metadata": {},
   "outputs": [
    {
     "data": {
      "text/plain": [
       "0.8513396715643907"
      ]
     },
     "execution_count": 19,
     "metadata": {},
     "output_type": "execute_result"
    }
   ],
   "source": [
    "glm1.model_performance(test).auc()"
   ]
  },
  {
   "cell_type": "code",
   "execution_count": 21,
   "metadata": {},
   "outputs": [
    {
     "name": "stdout",
     "output_type": "stream",
     "text": [
      "Confusion Matrix (Act/Pred) for max f1 @ threshold = 0.2285329088599211: \n"
     ]
    },
    {
     "data": {
      "text/html": [
       "<div style=\"overflow:auto\"><table style=\"width:50%\"><tr><td><b></b></td>\n",
       "<td><b>0</b></td>\n",
       "<td><b>1</b></td>\n",
       "<td><b>Error</b></td>\n",
       "<td><b>Rate</b></td></tr>\n",
       "<tr><td>0</td>\n",
       "<td>7618.0</td>\n",
       "<td>487.0</td>\n",
       "<td>0.0601</td>\n",
       "<td> (487.0/8105.0)</td></tr>\n",
       "<tr><td>1</td>\n",
       "<td>363.0</td>\n",
       "<td>460.0</td>\n",
       "<td>0.4411</td>\n",
       "<td> (363.0/823.0)</td></tr>\n",
       "<tr><td>Total</td>\n",
       "<td>7981.0</td>\n",
       "<td>947.0</td>\n",
       "<td>0.0952</td>\n",
       "<td> (850.0/8928.0)</td></tr></table></div>"
      ],
      "text/plain": [
       "       0     1    Error    Rate\n",
       "-----  ----  ---  -------  --------------\n",
       "0      7618  487  0.0601   (487.0/8105.0)\n",
       "1      363   460  0.4411   (363.0/823.0)\n",
       "Total  7981  947  0.0952   (850.0/8928.0)"
      ]
     },
     "metadata": {},
     "output_type": "display_data"
    },
    {
     "data": {
      "text/plain": []
     },
     "execution_count": 21,
     "metadata": {},
     "output_type": "execute_result"
    }
   ],
   "source": [
    "glm1.confusion_matrix()"
   ]
  },
  {
   "cell_type": "markdown",
   "metadata": {},
   "source": [
    "### Glm2"
   ]
  },
  {
   "cell_type": "code",
   "execution_count": 25,
   "metadata": {},
   "outputs": [
    {
     "name": "stdout",
     "output_type": "stream",
     "text": [
      "glm Grid Build progress: |████████████████████████████████████████████████| 100%\n",
      "Errors/Warnings building gridsearch model\n",
      "\n",
      "Hyper-parameter: alpha, [0.5]\n",
      "Hyper-parameter: lambda, [1e-07]\n",
      "failure_details: class hex.glm.GLMModel glm2_model_1 is already in use.  Unable to use it now.  Consider using a different destination name.\n",
      "failure_stack_traces: java.lang.IllegalArgumentException: class hex.glm.GLMModel glm2_model_1 is already in use.  Unable to use it now.  Consider using a different destination name.\n",
      "\tat water.Lockable$PriorWriteLock.atomic(Lockable.java:119)\n",
      "\tat water.Lockable$PriorWriteLock.atomic(Lockable.java:108)\n",
      "\tat water.TAtomic.atomic(TAtomic.java:17)\n",
      "\tat water.Atomic.compute2(Atomic.java:56)\n",
      "\tat water.Atomic.fork(Atomic.java:39)\n",
      "\tat water.Atomic.invoke(Atomic.java:31)\n",
      "\tat water.Lockable.write_lock(Lockable.java:61)\n",
      "\tat water.Lockable.delete_and_lock(Lockable.java:70)\n",
      "\tat hex.glm.GLM.buildModel(GLM.java:566)\n",
      "\tat hex.glm.GLM.init(GLM.java:556)\n",
      "\tat hex.glm.GLM.computeCrossValidation(GLM.java:96)\n",
      "\tat hex.ModelBuilder.trainModelNested(ModelBuilder.java:349)\n",
      "\tat hex.ModelBuilder$TrainModelNestedRunnable.run(ModelBuilder.java:383)\n",
      "\tat water.H2O.runOnH2ONode(H2O.java:1304)\n",
      "\tat water.H2O.runOnH2ONode(H2O.java:1297)\n",
      "\tat hex.ModelBuilder.trainModelNested(ModelBuilder.java:364)\n",
      "\tat hex.grid.GridSearch.buildModel(GridSearch.java:345)\n",
      "\tat hex.grid.GridSearch.gridSearch(GridSearch.java:221)\n",
      "\tat hex.grid.GridSearch.access$000(GridSearch.java:71)\n",
      "\tat hex.grid.GridSearch$1.compute2(GridSearch.java:139)\n",
      "\tat water.H2O$H2OCountedCompleter.compute(H2O.java:1416)\n",
      "\tat jsr166y.CountedCompleter.exec(CountedCompleter.java:468)\n",
      "\tat jsr166y.ForkJoinTask.doExec(ForkJoinTask.java:263)\n",
      "\tat jsr166y.ForkJoinPool$WorkQueue.runTask(ForkJoinPool.java:974)\n",
      "\tat jsr166y.ForkJoinPool.runWorker(ForkJoinPool.java:1477)\n",
      "\tat jsr166y.ForkJoinWorkerThread.run(ForkJoinWorkerThread.java:104)\n",
      "\n",
      "\n"
     ]
    }
   ],
   "source": [
    "from h2o.grid.grid_search import H2OGridSearch\n",
    "\n",
    "hyper_parameters = { 'alpha': [0.01,0.1,0.3,0.5,0.7,0.9],\n",
    "                     'lambda': [1e-4,1e-5,1e-6,1e-7,1e-8] }\n",
    "search_criteria = { 'strategy': \"RandomDiscrete\", 'seed': 1,\n",
    "                    'stopping_metric': \"AUC\",\n",
    "                    'stopping_tolerance': 0.001,\n",
    "                    'stopping_rounds': 2 }\n",
    "glm2 = H2OGridSearch(H2OGeneralizedLinearEstimator(family='binomial', nfolds=5),\n",
    "      hyper_parameters,\n",
    "      grid_id=\"glm2\",\n",
    "      search_criteria=search_criteria)\n",
    "glm2.train(x=x,y=y, training_frame=train)"
   ]
  },
  {
   "cell_type": "code",
   "execution_count": 26,
   "metadata": {},
   "outputs": [
    {
     "name": "stdout",
     "output_type": "stream",
     "text": [
      "       alpha    lambda      model_ids              logloss\n",
      "0      [0.7]  [1.0E-4]  glm2_model_28  0.23182413840042188\n",
      "1      [0.9]  [1.0E-4]  glm2_model_12  0.23353611885120112\n",
      "2      [0.5]  [1.0E-4]  glm2_model_13  0.23537745708065902\n",
      "3      [0.3]  [1.0E-4]  glm2_model_19   0.2378087666065096\n",
      "4     [0.01]  [1.0E-4]  glm2_model_20  0.23936028094354223\n",
      "5      [0.1]  [1.0E-4]  glm2_model_15  0.23960471838012007\n",
      "6      [0.5]  [1.0E-5]  glm2_model_25  0.24611863101540102\n",
      "7      [0.9]  [1.0E-5]  glm2_model_27  0.24706303908128704\n",
      "8     [0.01]  [1.0E-5]  glm2_model_11  0.24825998340879732\n",
      "9      [0.7]  [1.0E-5]  glm2_model_21  0.24847662450535676\n",
      "10     [0.1]  [1.0E-5]  glm2_model_23  0.24887067376873773\n",
      "11     [0.3]  [1.0E-5]   glm2_model_4  0.24906717904913112\n",
      "12    [0.01]  [1.0E-6]  glm2_model_24   0.2526213067191588\n",
      "13     [0.1]  [1.0E-6]  glm2_model_16   0.2534200764456941\n",
      "14     [0.7]  [1.0E-6]  glm2_model_18  0.25387407930009137\n",
      "15    [0.01]  [1.0E-7]  glm2_model_17  0.25404424287263716\n",
      "16     [0.5]  [1.0E-6]   glm2_model_9  0.25652529473155283\n",
      "17     [0.9]  [1.0E-7]  glm2_model_22  0.25746357128977865\n",
      "18     [0.3]  [1.0E-6]   glm2_model_7   0.2584307757684103\n",
      "19     [0.3]  [1.0E-8]   glm2_model_3  0.25916306902873637\n",
      "20     [0.1]  [1.0E-7]   glm2_model_2   0.2593547417247058\n",
      "21     [0.7]  [1.0E-7]   glm2_model_5   0.2600842127578679\n",
      "22     [0.3]  [1.0E-7]  glm2_model_30  0.26058418206108835\n",
      "23     [0.9]  [1.0E-6]  glm2_model_26   0.2610579451802715\n",
      "24     [0.7]  [1.0E-8]   glm2_model_8   0.2618024819797405\n",
      "25     [0.9]  [1.0E-8]  glm2_model_29   0.2618289407023004\n",
      "26     [0.1]  [1.0E-8]  glm2_model_10  0.26375310650438405\n",
      "27     [0.5]  [1.0E-8]  glm2_model_14   0.2638215449981844\n",
      "28    [0.01]  [1.0E-8]   glm2_model_6  0.26728907129501367\n",
      "[WARNING] in <ipython-input-26-4a62bb5917fa> line 2:\n",
      "    >>> print(glm2.sort_by('F1', False))\n",
      "        ^^^^ grid.sort_by() is deprecated; use grid.get_grid() instead\n",
      "Grid Search Results for H2OGeneralizedLinearEstimator: \n"
     ]
    },
    {
     "data": {
      "text/html": [
       "<div style=\"overflow:auto\"><table style=\"width:50%\"><tr><td><b>Model Id</b></td>\n",
       "<td><b>Hyperparameters: [alpha, lambda]</b></td>\n",
       "<td><b>F1</b></td></tr>\n",
       "<tr><td>glm2_model_11</td>\n",
       "<td>[0.01, 1e-05]</td>\n",
       "<td>[[0.3107915552652147, 0.5685149776927979]]</td></tr>\n",
       "<tr><td>glm2_model_4</td>\n",
       "<td>[0.3, 1e-05]</td>\n",
       "<td>[[0.30789293542879653, 0.5676190476190476]]</td></tr>\n",
       "<tr><td>glm2_model_23</td>\n",
       "<td>[0.1, 1e-05]</td>\n",
       "<td>[[0.3077467191779241, 0.5674300254452926]]</td></tr>\n",
       "<tr><td>glm2_model_26</td>\n",
       "<td>[0.9, 1e-06]</td>\n",
       "<td>[[0.304767295961698, 0.5708931917551531]]</td></tr>\n",
       "<tr><td>glm2_model_22</td>\n",
       "<td>[0.9, 1e-07]</td>\n",
       "<td>[[0.3033245933087322, 0.5705368289637953]]</td></tr>\n",
       "<tr><td>---</td>\n",
       "<td>---</td>\n",
       "<td>---</td></tr>\n",
       "<tr><td>glm2_model_20</td>\n",
       "<td>[0.01, 0.0001]</td>\n",
       "<td>[[0.2446762597832381, 0.5594087549744172]]</td></tr>\n",
       "<tr><td>glm2_model_15</td>\n",
       "<td>[0.1, 0.0001]</td>\n",
       "<td>[[0.24146230505138094, 0.5559322033898305]]</td></tr>\n",
       "<tr><td>glm2_model_12</td>\n",
       "<td>[0.9, 0.0001]</td>\n",
       "<td>[[0.23635586650297102, 0.5458663646659117]]</td></tr>\n",
       "<tr><td>glm2_model_28</td>\n",
       "<td>[0.7, 0.0001]</td>\n",
       "<td>[[0.23602554547929863, 0.5476056338028168]]</td></tr>\n",
       "<tr><td>glm2_model_13</td>\n",
       "<td>[0.5, 0.0001]</td>\n",
       "<td>[[0.22747924894194402, 0.548653106102254]]</td></tr></table></div>"
      ],
      "text/plain": [
       "Model Id       Hyperparameters: [alpha, lambda]    F1\n",
       "-------------  ----------------------------------  -------------------------------------------\n",
       "glm2_model_11  [0.01, 1e-05]                       [[0.3107915552652147, 0.5685149776927979]]\n",
       "glm2_model_4   [0.3, 1e-05]                        [[0.30789293542879653, 0.5676190476190476]]\n",
       "glm2_model_23  [0.1, 1e-05]                        [[0.3077467191779241, 0.5674300254452926]]\n",
       "glm2_model_26  [0.9, 1e-06]                        [[0.304767295961698, 0.5708931917551531]]\n",
       "glm2_model_22  [0.9, 1e-07]                        [[0.3033245933087322, 0.5705368289637953]]\n",
       "---            ---                                 ---\n",
       "glm2_model_20  [0.01, 0.0001]                      [[0.2446762597832381, 0.5594087549744172]]\n",
       "glm2_model_15  [0.1, 0.0001]                       [[0.24146230505138094, 0.5559322033898305]]\n",
       "glm2_model_12  [0.9, 0.0001]                       [[0.23635586650297102, 0.5458663646659117]]\n",
       "glm2_model_28  [0.7, 0.0001]                       [[0.23602554547929863, 0.5476056338028168]]\n",
       "glm2_model_13  [0.5, 0.0001]                       [[0.22747924894194402, 0.548653106102254]]"
      ]
     },
     "metadata": {},
     "output_type": "display_data"
    },
    {
     "name": "stdout",
     "output_type": "stream",
     "text": [
      "\n",
      "See the whole table with table.as_data_frame()\n",
      "\n"
     ]
    }
   ],
   "source": [
    "glm2.show()\n",
    "print(glm2.sort_by('F1', False))"
   ]
  },
  {
   "cell_type": "code",
   "execution_count": 27,
   "metadata": {},
   "outputs": [],
   "source": [
    "best_glm2 = glm2[0]"
   ]
  },
  {
   "cell_type": "code",
   "execution_count": 28,
   "metadata": {},
   "outputs": [
    {
     "data": {
      "text/plain": [
       "0.890486948713086"
      ]
     },
     "execution_count": 28,
     "metadata": {},
     "output_type": "execute_result"
    }
   ],
   "source": [
    "best_glm2.model_performance(train).auc()"
   ]
  },
  {
   "cell_type": "code",
   "execution_count": 29,
   "metadata": {},
   "outputs": [
    {
     "data": {
      "text/plain": [
       "0.8404329752644359"
      ]
     },
     "execution_count": 29,
     "metadata": {},
     "output_type": "execute_result"
    }
   ],
   "source": [
    "best_glm2.model_performance(test).auc()"
   ]
  },
  {
   "cell_type": "code",
   "execution_count": 30,
   "metadata": {},
   "outputs": [
    {
     "name": "stdout",
     "output_type": "stream",
     "text": [
      "Confusion Matrix (Act/Pred) for max f1 @ threshold = 0.23602554547929863: \n"
     ]
    },
    {
     "data": {
      "text/html": [
       "<div style=\"overflow:auto\"><table style=\"width:50%\"><tr><td><b></b></td>\n",
       "<td><b>0</b></td>\n",
       "<td><b>1</b></td>\n",
       "<td><b>Error</b></td>\n",
       "<td><b>Rate</b></td></tr>\n",
       "<tr><td>0</td>\n",
       "<td>7639.0</td>\n",
       "<td>466.0</td>\n",
       "<td>0.0575</td>\n",
       "<td> (466.0/8105.0)</td></tr>\n",
       "<tr><td>1</td>\n",
       "<td>337.0</td>\n",
       "<td>486.0</td>\n",
       "<td>0.4095</td>\n",
       "<td> (337.0/823.0)</td></tr>\n",
       "<tr><td>Total</td>\n",
       "<td>7976.0</td>\n",
       "<td>952.0</td>\n",
       "<td>0.0899</td>\n",
       "<td> (803.0/8928.0)</td></tr></table></div>"
      ],
      "text/plain": [
       "       0     1    Error    Rate\n",
       "-----  ----  ---  -------  --------------\n",
       "0      7639  466  0.0575   (466.0/8105.0)\n",
       "1      337   486  0.4095   (337.0/823.0)\n",
       "Total  7976  952  0.0899   (803.0/8928.0)"
      ]
     },
     "metadata": {},
     "output_type": "display_data"
    },
    {
     "data": {
      "text/plain": []
     },
     "execution_count": 30,
     "metadata": {},
     "output_type": "execute_result"
    }
   ],
   "source": [
    "best_glm2.confusion_matrix()"
   ]
  },
  {
   "cell_type": "markdown",
   "metadata": {},
   "source": [
    "### Glm3 "
   ]
  },
  {
   "cell_type": "code",
   "execution_count": 63,
   "metadata": {},
   "outputs": [
    {
     "name": "stdout",
     "output_type": "stream",
     "text": [
      "glm Grid Build progress: |████████████████████████████████████████████████| 100%\n"
     ]
    }
   ],
   "source": [
    "hyper_parameters = {'alpha': [0.01,0.3,0.5, 0.7, 0.9], 'lambda': [1e-5,1e-6,1e-7,1e-8,1e-9 ]}\n",
    "# test search_criteria plumbing and max_models\n",
    "search_criteria = { 'strategy': \"RandomDiscrete\",\n",
    "                   'stopping_metric': \"AUC\",\n",
    "                   'max_models': 5,\n",
    "                  \"seed\": 1}\n",
    "glm3 = H2OGridSearch(H2OGeneralizedLinearEstimator(family='binomial'),\n",
    "                             hyper_parameters,grid_id=\"glm3\", search_criteria=search_criteria)\n",
    "glm3.train(x=x,y=y, training_frame=train)\n"
   ]
  },
  {
   "cell_type": "code",
   "execution_count": 64,
   "metadata": {},
   "outputs": [
    {
     "name": "stdout",
     "output_type": "stream",
     "text": [
      "       alpha    lambda      model_ids              logloss\n",
      "0     [0.01]  [1.0E-9]   glm3_model_6  0.19139885791055483\n",
      "1     [0.01]  [1.0E-9]  glm3_model_30  0.19139885791055483\n",
      "2      [0.3]  [1.0E-9]  glm3_model_35  0.19139949135813586\n",
      "3      [0.5]  [1.0E-9]  glm3_model_33  0.19139977168708702\n",
      "4      [0.7]  [1.0E-9]  glm3_model_21  0.19139999724310547\n",
      "5      [0.9]  [1.0E-9]  glm3_model_22   0.1914001784108692\n",
      "6      [0.9]  [1.0E-9]   glm3_model_7   0.1914001784108692\n",
      "7     [0.01]  [1.0E-8]  glm3_model_14  0.19140126511086716\n",
      "8     [0.01]  [1.0E-8]  glm3_model_17  0.19140126511086716\n",
      "9      [0.3]  [1.0E-8]  glm3_model_24  0.19140345375762272\n",
      "10     [0.5]  [1.0E-8]   glm3_model_3   0.1914036739667621\n",
      "11     [0.5]  [1.0E-8]  glm3_model_32   0.1914036739667621\n",
      "12     [0.5]  [1.0E-8]  glm3_model_19   0.1914036739667621\n",
      "13     [0.7]  [1.0E-8]   glm3_model_8  0.19140387133953568\n",
      "14     [0.9]  [1.0E-8]  glm3_model_31  0.19140397758590633\n",
      "15    [0.01]  [1.0E-7]   glm3_model_2  0.19142422058609596\n",
      "16    [0.01]  [1.0E-7]  glm3_model_15  0.19142422058609596\n",
      "17    [0.01]  [1.0E-7]  glm3_model_18  0.19142422058609596\n",
      "18     [0.3]  [1.0E-7]  glm3_model_28   0.1914254956558934\n",
      "19     [0.7]  [1.0E-7]  glm3_model_29  0.19142667260739324\n",
      "20     [0.5]  [1.0E-7]   glm3_model_9   0.1914267144444375\n",
      "21     [0.5]  [1.0E-7]  glm3_model_16   0.1914267144444375\n",
      "22     [0.5]  [1.0E-7]  glm3_model_34   0.1914267144444375\n",
      "23    [0.01]  [1.0E-6]  glm3_model_10  0.19154672807324286\n",
      "24    [0.01]  [1.0E-6]   glm3_model_4  0.19154672807324286\n",
      "25    [0.01]  [1.0E-6]  glm3_model_23  0.19154672807324286\n",
      "26     [0.9]  [1.0E-6]  glm3_model_26  0.19154805246235634\n",
      "27     [0.7]  [1.0E-6]  glm3_model_25  0.19155445215707947\n",
      "28     [0.5]  [1.0E-6]  glm3_model_27  0.19155756588417383\n",
      "29     [0.5]  [1.0E-6]   glm3_model_5  0.19155756588417383\n",
      "30     [0.3]  [1.0E-5]  glm3_model_20   0.1922391719292815\n",
      "31     [0.3]  [1.0E-5]   glm3_model_1   0.1922391719292815\n",
      "32    [0.01]  [1.0E-5]  glm3_model_13  0.19224106173944153\n",
      "33     [0.7]  [1.0E-5]  glm3_model_11  0.19251588071620326\n",
      "34     [0.9]  [1.0E-5]  glm3_model_12  0.19264735400250838\n",
      "glm3\n",
      "[WARNING] in <ipython-input-64-966e5f7e1055> line 3:\n",
      "    >>> print(glm3.sort_by('F1', False))\n",
      "        ^^^^ grid.sort_by() is deprecated; use grid.get_grid() instead\n",
      "Grid Search Results for H2OGeneralizedLinearEstimator: \n"
     ]
    },
    {
     "data": {
      "text/html": [
       "<div style=\"overflow:auto\"><table style=\"width:50%\"><tr><td><b>Model Id</b></td>\n",
       "<td><b>Hyperparameters: [alpha, lambda]</b></td>\n",
       "<td><b>F1</b></td></tr>\n",
       "<tr><td>glm3_model_13</td>\n",
       "<td>[0.01, 1e-05]</td>\n",
       "<td>[[0.3107915552652147, 0.5685149776927979]]</td></tr>\n",
       "<tr><td>glm3_model_1</td>\n",
       "<td>[0.3, 1e-05]</td>\n",
       "<td>[[0.30789293542879653, 0.5676190476190476]]</td></tr>\n",
       "<tr><td>glm3_model_20</td>\n",
       "<td>[0.3, 1e-05]</td>\n",
       "<td>[[0.30789293542879653, 0.5676190476190476]]</td></tr>\n",
       "<tr><td>glm3_model_26</td>\n",
       "<td>[0.9, 1e-06]</td>\n",
       "<td>[[0.304767295961698, 0.5708931917551531]]</td></tr>\n",
       "<tr><td>glm3_model_29</td>\n",
       "<td>[0.7, 1e-07]</td>\n",
       "<td>[[0.30330673640070654, 0.5705368289637953]]</td></tr>\n",
       "<tr><td>---</td>\n",
       "<td>---</td>\n",
       "<td>---</td></tr>\n",
       "<tr><td>glm3_model_21</td>\n",
       "<td>[0.7, 1e-09]</td>\n",
       "<td>[[0.2452240900418963, 0.5707915273132663]]</td></tr>\n",
       "<tr><td>glm3_model_33</td>\n",
       "<td>[0.5, 1e-09]</td>\n",
       "<td>[[0.24522248739120162, 0.5707915273132663]]</td></tr>\n",
       "<tr><td>glm3_model_35</td>\n",
       "<td>[0.3, 1e-09]</td>\n",
       "<td>[[0.2452203408772389, 0.5707915273132663]]</td></tr>\n",
       "<tr><td>glm3_model_30</td>\n",
       "<td>[0.01, 1e-09]</td>\n",
       "<td>[[0.24521613097297726, 0.5707915273132663]]</td></tr>\n",
       "<tr><td>glm3_model_6</td>\n",
       "<td>[0.01, 1e-09]</td>\n",
       "<td>[[0.24521613097297726, 0.5707915273132663]]</td></tr></table></div>"
      ],
      "text/plain": [
       "Model Id       Hyperparameters: [alpha, lambda]    F1\n",
       "-------------  ----------------------------------  -------------------------------------------\n",
       "glm3_model_13  [0.01, 1e-05]                       [[0.3107915552652147, 0.5685149776927979]]\n",
       "glm3_model_1   [0.3, 1e-05]                        [[0.30789293542879653, 0.5676190476190476]]\n",
       "glm3_model_20  [0.3, 1e-05]                        [[0.30789293542879653, 0.5676190476190476]]\n",
       "glm3_model_26  [0.9, 1e-06]                        [[0.304767295961698, 0.5708931917551531]]\n",
       "glm3_model_29  [0.7, 1e-07]                        [[0.30330673640070654, 0.5705368289637953]]\n",
       "---            ---                                 ---\n",
       "glm3_model_21  [0.7, 1e-09]                        [[0.2452240900418963, 0.5707915273132663]]\n",
       "glm3_model_33  [0.5, 1e-09]                        [[0.24522248739120162, 0.5707915273132663]]\n",
       "glm3_model_35  [0.3, 1e-09]                        [[0.2452203408772389, 0.5707915273132663]]\n",
       "glm3_model_30  [0.01, 1e-09]                       [[0.24521613097297726, 0.5707915273132663]]\n",
       "glm3_model_6   [0.01, 1e-09]                       [[0.24521613097297726, 0.5707915273132663]]"
      ]
     },
     "metadata": {},
     "output_type": "display_data"
    },
    {
     "name": "stdout",
     "output_type": "stream",
     "text": [
      "\n",
      "See the whole table with table.as_data_frame()\n",
      "\n"
     ]
    },
    {
     "ename": "AssertionError",
     "evalue": "expected 5 models, got: 35",
     "output_type": "error",
     "traceback": [
      "\u001b[0;31m---------------------------------------------------------------------------\u001b[0m",
      "\u001b[0;31mAssertionError\u001b[0m                            Traceback (most recent call last)",
      "\u001b[0;32m<ipython-input-64-966e5f7e1055>\u001b[0m in \u001b[0;36m<module>\u001b[0;34m\u001b[0m\n\u001b[1;32m      2\u001b[0m \u001b[0mprint\u001b[0m\u001b[0;34m(\u001b[0m\u001b[0mglm3\u001b[0m\u001b[0;34m.\u001b[0m\u001b[0mgrid_id\u001b[0m\u001b[0;34m)\u001b[0m\u001b[0;34m\u001b[0m\u001b[0;34m\u001b[0m\u001b[0m\n\u001b[1;32m      3\u001b[0m \u001b[0mprint\u001b[0m\u001b[0;34m(\u001b[0m\u001b[0mglm3\u001b[0m\u001b[0;34m.\u001b[0m\u001b[0msort_by\u001b[0m\u001b[0;34m(\u001b[0m\u001b[0;34m'F1'\u001b[0m\u001b[0;34m,\u001b[0m \u001b[0;32mFalse\u001b[0m\u001b[0;34m)\u001b[0m\u001b[0;34m)\u001b[0m\u001b[0;34m\u001b[0m\u001b[0;34m\u001b[0m\u001b[0m\n\u001b[0;32m----> 4\u001b[0;31m \u001b[0;32massert\u001b[0m \u001b[0mlen\u001b[0m\u001b[0;34m(\u001b[0m\u001b[0mglm3\u001b[0m\u001b[0;34m.\u001b[0m\u001b[0mmodels\u001b[0m\u001b[0;34m)\u001b[0m \u001b[0;34m==\u001b[0m \u001b[0;36m5\u001b[0m\u001b[0;34m,\u001b[0m \u001b[0;34m\"expected 5 models, got: {}\"\u001b[0m\u001b[0;34m.\u001b[0m\u001b[0mformat\u001b[0m\u001b[0;34m(\u001b[0m\u001b[0mlen\u001b[0m\u001b[0;34m(\u001b[0m\u001b[0mglm3\u001b[0m\u001b[0;34m.\u001b[0m\u001b[0mmodels\u001b[0m\u001b[0;34m)\u001b[0m\u001b[0;34m)\u001b[0m\u001b[0;34m\u001b[0m\u001b[0;34m\u001b[0m\u001b[0m\n\u001b[0m\u001b[1;32m      5\u001b[0m \u001b[0mprint\u001b[0m\u001b[0;34m(\u001b[0m\u001b[0mglm3\u001b[0m\u001b[0;34m.\u001b[0m\u001b[0msorted_metric_table\u001b[0m\u001b[0;34m(\u001b[0m\u001b[0;34m)\u001b[0m\u001b[0;34m)\u001b[0m\u001b[0;34m\u001b[0m\u001b[0;34m\u001b[0m\u001b[0m\n\u001b[1;32m      6\u001b[0m \u001b[0mprint\u001b[0m\u001b[0;34m(\u001b[0m\u001b[0mglm3\u001b[0m\u001b[0;34m.\u001b[0m\u001b[0mget_grid\u001b[0m\u001b[0;34m(\u001b[0m\u001b[0;34m\"r2\"\u001b[0m\u001b[0;34m)\u001b[0m\u001b[0;34m)\u001b[0m\u001b[0;34m\u001b[0m\u001b[0;34m\u001b[0m\u001b[0m\n",
      "\u001b[0;31mAssertionError\u001b[0m: expected 5 models, got: 35"
     ]
    }
   ],
   "source": [
    "glm3.show()\n",
    "print(glm3.grid_id)\n",
    "print(glm3.sort_by('F1', False))\n",
    "assert len(glm3.models) == 5, \"expected 5 models, got: {}\".format(len(glm3.models))\n",
    "print(glm3.sorted_metric_table())\n",
    "print(glm3.get_grid(\"r2\"))"
   ]
  },
  {
   "cell_type": "code",
   "execution_count": null,
   "metadata": {},
   "outputs": [],
   "source": [
    "best_glm3 = glm3[0]"
   ]
  },
  {
   "cell_type": "code",
   "execution_count": null,
   "metadata": {},
   "outputs": [],
   "source": [
    "best_glm3.model_performance(train).auc()"
   ]
  },
  {
   "cell_type": "code",
   "execution_count": null,
   "metadata": {},
   "outputs": [],
   "source": [
    "best_glm3.model_performance(test).auc()"
   ]
  },
  {
   "cell_type": "code",
   "execution_count": 62,
   "metadata": {},
   "outputs": [
    {
     "name": "stdout",
     "output_type": "stream",
     "text": [
      "Confusion Matrix (Act/Pred) for max f1 @ threshold = 0.24521613097297726: \n"
     ]
    },
    {
     "data": {
      "text/html": [
       "<div style=\"overflow:auto\"><table style=\"width:50%\"><tr><td><b></b></td>\n",
       "<td><b>0</b></td>\n",
       "<td><b>1</b></td>\n",
       "<td><b>Error</b></td>\n",
       "<td><b>Rate</b></td></tr>\n",
       "<tr><td>0</td>\n",
       "<td>7646.0</td>\n",
       "<td>459.0</td>\n",
       "<td>0.0566</td>\n",
       "<td> (459.0/8105.0)</td></tr>\n",
       "<tr><td>1</td>\n",
       "<td>311.0</td>\n",
       "<td>512.0</td>\n",
       "<td>0.3779</td>\n",
       "<td> (311.0/823.0)</td></tr>\n",
       "<tr><td>Total</td>\n",
       "<td>7957.0</td>\n",
       "<td>971.0</td>\n",
       "<td>0.0862</td>\n",
       "<td> (770.0/8928.0)</td></tr></table></div>"
      ],
      "text/plain": [
       "       0     1    Error    Rate\n",
       "-----  ----  ---  -------  --------------\n",
       "0      7646  459  0.0566   (459.0/8105.0)\n",
       "1      311   512  0.3779   (311.0/823.0)\n",
       "Total  7957  971  0.0862   (770.0/8928.0)"
      ]
     },
     "metadata": {},
     "output_type": "display_data"
    },
    {
     "data": {
      "text/plain": []
     },
     "execution_count": 62,
     "metadata": {},
     "output_type": "execute_result"
    }
   ],
   "source": [
    "best_glm3.confusion_matrix()"
   ]
  },
  {
   "cell_type": "code",
   "execution_count": 47,
   "metadata": {},
   "outputs": [
    {
     "data": {
      "image/png": "[encoded data removed]",
      "text/plain": [
       "<Figure size 1008x720 with 1 Axes>"
      ]
     },
     "metadata": {
      "needs_background": "light"
     },
     "output_type": "display_data"
    }
   ],
   "source": [
    "best_glm3.varimp_plot()"
   ]
  },
  {
   "cell_type": "code",
   "execution_count": 48,
   "metadata": {},
   "outputs": [
    {
     "data": {
      "text/plain": [
       "Intercept       4.623442\n",
       "v_char_100.A   -0.914313\n",
       "v_char_100.B   -4.379592\n",
       "v_char_100.E   -2.953014\n",
       "v_char_100.G   -4.502447\n",
       "dtype: float64"
      ]
     },
     "execution_count": 48,
     "metadata": {},
     "output_type": "execute_result"
    }
   ],
   "source": [
    "df_coef= pd.Series(best_glm3.coef())\n",
    "df_coef= df_coef[np.abs(df_coef) > 0]\n",
    "df_coef.head()"
   ]
  },
  {
   "cell_type": "code",
   "execution_count": 49,
   "metadata": {},
   "outputs": [
    {
     "data": {
      "text/plain": [
       "(581,)"
      ]
     },
     "execution_count": 49,
     "metadata": {},
     "output_type": "execute_result"
    }
   ],
   "source": [
    "df_coef.shape"
   ]
  },
  {
   "cell_type": "code",
   "execution_count": 50,
   "metadata": {},
   "outputs": [
    {
     "data": {
      "image/png": "[encoded data removed]",
      "text/plain": [
       "<Figure size 1008x720 with 1 Axes>"
      ]
     },
     "metadata": {
      "needs_background": "light"
     },
     "output_type": "display_data"
    }
   ],
   "source": [
    "best_glm3.std_coef_plot(num_of_features=10)"
   ]
  },
  {
   "cell_type": "code",
   "execution_count": 65,
   "metadata": {},
   "outputs": [],
   "source": [
    "best_glm3_path = h2o.save_model(model=best_glm3, force=True) #glm_3_model_6"
   ]
  },
  {
   "cell_type": "code",
   "execution_count": 51,
   "metadata": {},
   "outputs": [
    {
     "name": "stdout",
     "output_type": "stream",
     "text": [
      "glm prediction progress: |████████████████████████████████████████████████| 100%\n"
     ]
    },
    {
     "data": {
      "text/html": [
       "<div>\n",
       "<style scoped>\n",
       "    .dataframe tbody tr th:only-of-type {\n",
       "        vertical-align: middle;\n",
       "    }\n",
       "\n",
       "    .dataframe tbody tr th {\n",
       "        vertical-align: top;\n",
       "    }\n",
       "\n",
       "    .dataframe thead th {\n",
       "        text-align: right;\n",
       "    }\n",
       "</style>\n",
       "<table border=\"1\" class=\"dataframe\">\n",
       "  <thead>\n",
       "    <tr style=\"text-align: right;\">\n",
       "      <th></th>\n",
       "      <th>id</th>\n",
       "      <th>target</th>\n",
       "    </tr>\n",
       "  </thead>\n",
       "  <tbody>\n",
       "    <tr>\n",
       "      <th>0</th>\n",
       "      <td>5</td>\n",
       "      <td>0.092825</td>\n",
       "    </tr>\n",
       "    <tr>\n",
       "      <th>1</th>\n",
       "      <td>10</td>\n",
       "      <td>0.076578</td>\n",
       "    </tr>\n",
       "    <tr>\n",
       "      <th>2</th>\n",
       "      <td>11</td>\n",
       "      <td>0.049579</td>\n",
       "    </tr>\n",
       "    <tr>\n",
       "      <th>3</th>\n",
       "      <td>13</td>\n",
       "      <td>0.110317</td>\n",
       "    </tr>\n",
       "    <tr>\n",
       "      <th>4</th>\n",
       "      <td>16</td>\n",
       "      <td>0.016491</td>\n",
       "    </tr>\n",
       "  </tbody>\n",
       "</table>\n",
       "</div>"
      ],
      "text/plain": [
       "   id    target\n",
       "0   5  0.092825\n",
       "1  10  0.076578\n",
       "2  11  0.049579\n",
       "3  13  0.110317\n",
       "4  16  0.016491"
      ]
     },
     "execution_count": 51,
     "metadata": {},
     "output_type": "execute_result"
    }
   ],
   "source": [
    "predictions = best_glm3.predict(test_data=h2o_test)\n",
    "submission = pd.read_csv('sampleSubmission.csv')\n",
    "# Using fraud as indicator\n",
    "submission['target'] = predictions['p1'].as_data_frame()\n",
    "submission.head()"
   ]
  },
  {
   "cell_type": "code",
   "execution_count": null,
   "metadata": {},
   "outputs": [],
   "source": [
    "submission.to_csv('glm_20_submission.csv', index = False)\n",
    "submission.head()"
   ]
  },
  {
   "cell_type": "code",
   "execution_count": 70,
   "metadata": {},
   "outputs": [],
   "source": [
    "h2o.cluster().shutdown()"
   ]
  },
  {
   "cell_type": "code",
   "execution_count": null,
   "metadata": {},
   "outputs": [],
   "source": []
  }
 ],
 "metadata": {
  "kernelspec": {
   "display_name": "Python 3",
   "language": "python",
   "name": "python3"
  },
  "language_info": {
   "codemirror_mode": {
    "name": "ipython",
    "version": 3
   },
   "file_extension": ".py",
   "mimetype": "text/x-python",
   "name": "python",
   "nbconvert_exporter": "python",
   "pygments_lexer": "ipython3",
   "version": "3.6.7"
  }
 },
 "nbformat": 4,
 "nbformat_minor": 2
}
