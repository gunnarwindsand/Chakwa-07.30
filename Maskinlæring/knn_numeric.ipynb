{
 "cells": [
  {
   "cell_type": "markdown",
   "metadata": {},
   "source": [
    "# KNN"
   ]
  },
  {
   "cell_type": "code",
   "execution_count": 1,
   "metadata": {},
   "outputs": [],
   "source": [
    "import os\n",
    "import numpy as np\n",
    "import pandas as pd\n",
    "import pickle\n",
    "\n",
    "from sklearn.preprocessing import StandardScaler\n",
    "#from sklearn.neighbors import KNeighborsRegressor\n",
    "from sklearn.neighbors import KNeighborsClassifier\n",
    "\n",
    "import matplotlib.pyplot as plt\n",
    "%matplotlib inline"
   ]
  },
  {
   "cell_type": "code",
   "execution_count": 2,
   "metadata": {},
   "outputs": [
    {
     "name": "stdout",
     "output_type": "stream",
     "text": [
      "/home/jovyan/work/aml_cw/code\n"
     ]
    }
   ],
   "source": [
    "# Set directories\n",
    "print(os.getcwd())\n",
    "dirRawData = \"../rawdata/\"\n",
    "dirPData = \"../pydata/\"\n",
    "dirOutput = \"../output/\""
   ]
  },
  {
   "cell_type": "code",
   "execution_count": 3,
   "metadata": {},
   "outputs": [],
   "source": [
    "def fn_MAE(actuals, predictions):\n",
    "    return np.round(np.mean(np.abs(predictions - actuals)))\n",
    "\n",
    "def fn_RMSE(actuals, predictions):\n",
    "    return np.round(np.sqrt(np.mean((predictions - actuals)**2)))"
   ]
  },
  {
   "cell_type": "code",
   "execution_count": 4,
   "metadata": {},
   "outputs": [],
   "source": [
    "# Load up data - df_all\n",
    "\n",
    "f_name = dirPData + 'df_all.pickle'\n",
    "\n",
    "with (open(f_name, \"rb\")) as f:\n",
    "    dict_ = pickle.load(f)\n",
    "\n",
    "df_all = dict_['df_all_onehot']\n",
    "\n",
    "del f_name, dict_"
   ]
  },
  {
   "cell_type": "code",
   "execution_count": 5,
   "metadata": {},
   "outputs": [],
   "source": [
    "# Load up data - df_all\n",
    "\n",
    "f_name = dirPData + 'df_test_onehot.pickle'\n",
    "\n",
    "with (open(f_name, \"rb\")) as f:\n",
    "    dict_ = pickle.load(f)\n",
    "\n",
    "df_test = dict_['df_test_all_onehot']\n",
    "\n",
    "del f_name, dict_"
   ]
  },
  {
   "cell_type": "code",
   "execution_count": 6,
   "metadata": {},
   "outputs": [],
   "source": [
    "# load the variables information\n",
    "f_name = dirPData + 'variables.pickle'\n",
    "with open(f_name, \"rb\") as f:\n",
    "    dict_ = pickle.load(f)\n",
    "    \n",
    "var_dep = dict_['var_dep']\n",
    "vars_ind_numeric = dict_['vars_ind_numeric']\n",
    "vars_ind_categorical = dict_['vars_ind_categorical']\n",
    "vars_ind_onehot = dict_['vars_ind_onehot']\n",
    "\n",
    "del dict_"
   ]
  },
  {
   "cell_type": "code",
   "execution_count": 7,
   "metadata": {},
   "outputs": [
    {
     "data": {
      "text/plain": [
       "(11962, 486)"
      ]
     },
     "execution_count": 7,
     "metadata": {},
     "output_type": "execute_result"
    }
   ],
   "source": [
    "df_all.shape"
   ]
  },
  {
   "cell_type": "code",
   "execution_count": 8,
   "metadata": {},
   "outputs": [
    {
     "data": {
      "text/plain": [
       "(5121, 455)"
      ]
     },
     "execution_count": 8,
     "metadata": {},
     "output_type": "execute_result"
    }
   ],
   "source": [
    "df_test.shape"
   ]
  },
  {
   "cell_type": "code",
   "execution_count": 10,
   "metadata": {},
   "outputs": [],
   "source": [
    "testcols = list(df_test.columns)"
   ]
  },
  {
   "cell_type": "code",
   "execution_count": 11,
   "metadata": {},
   "outputs": [],
   "source": [
    "dfcols = list(df_all.columns)"
   ]
  },
  {
   "cell_type": "code",
   "execution_count": 20,
   "metadata": {},
   "outputs": [],
   "source": [
    "missing_cols = [var for var in df_all if var not in df_test]\n",
    "missing_cols.remove('fold')\n",
    "missing_cols.remove('target')"
   ]
  },
  {
   "cell_type": "code",
   "execution_count": 21,
   "metadata": {
    "scrolled": true
   },
   "outputs": [
    {
     "data": {
      "text/plain": [
       "['v_char_2_X_L',\n",
       " 'v_char_9_X_c',\n",
       " 'v_char_13_X_B',\n",
       " 'v_char_28_X_h',\n",
       " 'v_char_29_X_s',\n",
       " 'v_char_34_X_Y',\n",
       " 'v_char_38_X_l',\n",
       " 'v_char_45_X_H',\n",
       " 'v_char_48_X_D',\n",
       " 'v_char_52_X_L',\n",
       " 'v_char_54_X_S',\n",
       " 'v_char_57_X_o',\n",
       " 'v_char_59_X_Z',\n",
       " 'v_char_72_X_P',\n",
       " 'v_char_72_X_f',\n",
       " 'v_char_79_X_o',\n",
       " 'v_char_80_X_h',\n",
       " 'v_char_88_X_S',\n",
       " 'v_char_89_X_W',\n",
       " 'v_char_90_X_X',\n",
       " 'v_char_92_X_E',\n",
       " 'v_char_100_X_H',\n",
       " 'v_char_100_X_d',\n",
       " 'v_char_100_X_m',\n",
       " 'v_char_100_X_s',\n",
       " 'v_char_100_X_x',\n",
       " 'v_char_106_X_G',\n",
       " 'v_char_109_X_B',\n",
       " 'v_char_109_X_M',\n",
       " 'v_char_112_X_J',\n",
       " 'v_char_112_X_P',\n",
       " 'v_char_112_X_g',\n",
       " 'v_char_114_X_Y']"
      ]
     },
     "execution_count": 21,
     "metadata": {},
     "output_type": "execute_result"
    }
   ],
   "source": [
    "missing_cols"
   ]
  },
  {
   "cell_type": "code",
   "execution_count": 29,
   "metadata": {
    "scrolled": true
   },
   "outputs": [],
   "source": [
    "df_test = df_test.reindex(columns=[*df_test.columns.tolist(), *missing_cols], fill_value=0)"
   ]
  },
  {
   "cell_type": "code",
   "execution_count": 37,
   "metadata": {},
   "outputs": [
    {
     "data": {
      "text/plain": [
       "(5121, 484)"
      ]
     },
     "execution_count": 37,
     "metadata": {},
     "output_type": "execute_result"
    }
   ],
   "source": [
    "df_test.shape"
   ]
  },
  {
   "cell_type": "code",
   "execution_count": 33,
   "metadata": {},
   "outputs": [
    {
     "data": {
      "text/plain": [
       "['v_char_27_X_g', 'v_char_39_X_S', 'v_char_100_X_X', 'v_char_100_X_t']"
      ]
     },
     "execution_count": 33,
     "metadata": {},
     "output_type": "execute_result"
    }
   ],
   "source": [
    "testing_cols = [var for var in df_test if var not in df_all]\n",
    "testing_cols"
   ]
  },
  {
   "cell_type": "code",
   "execution_count": 36,
   "metadata": {},
   "outputs": [],
   "source": [
    "df_test= df_test.drop(columns=testing_cols, axis=1)"
   ]
  },
  {
   "cell_type": "markdown",
   "metadata": {},
   "source": [
    "## Processing done!"
   ]
  },
  {
   "cell_type": "code",
   "execution_count": 38,
   "metadata": {},
   "outputs": [],
   "source": [
    "vars_ind = vars_ind_numeric + vars_ind_onehot"
   ]
  },
  {
   "cell_type": "code",
   "execution_count": 39,
   "metadata": {},
   "outputs": [],
   "source": [
    "idx_train  = np.where(df_all['fold'].isin(np.arange(0,6)))[0]\n",
    "idx_val    = np.where(df_all['fold'].isin([6,7]))[0]\n",
    "idx_design = np.where(df_all['fold'].isin(np.arange(0,8)))[0]\n",
    "idx_test   = np.where(df_all['fold'].isin([8,9]))[0]"
   ]
  },
  {
   "cell_type": "code",
   "execution_count": 40,
   "metadata": {},
   "outputs": [],
   "source": [
    "n_train = len(idx_train)\n",
    "n_val = len(idx_val)\n",
    "n_test = len(idx_test)"
   ]
  },
  {
   "cell_type": "code",
   "execution_count": 59,
   "metadata": {},
   "outputs": [],
   "source": [
    "X = df_all[vars_ind].values\n",
    "\n",
    "# Standardise (each feature to have mean:0 and stdev:1)\n",
    "# This should not use the test data.  Why not?\n",
    "X_train  = X[idx_train, :]\n",
    "\n",
    "standardScaler_ = StandardScaler()\n",
    "standardScaler_.fit(X_train)\n",
    "\n",
    "# Now standardise all the data\n",
    "X = standardScaler_.transform(X)"
   ]
  },
  {
   "cell_type": "code",
   "execution_count": 60,
   "metadata": {},
   "outputs": [],
   "source": [
    "X_design = X[idx_design, :]\n",
    "X_train  = X[idx_train, :]\n",
    "X_val    = X[idx_val, :]\n",
    "X_test   = X[idx_test, :]\n",
    "\n",
    "y_design = df_all[var_dep].iloc[idx_design].copy().values.ravel()\n",
    "y_train  = df_all[var_dep].iloc[idx_train].copy().values.ravel()\n",
    "y_val    = df_all[var_dep].iloc[idx_val].copy().values.ravel()\n",
    "y_test   = df_all[var_dep].iloc[idx_test].copy().values.ravel()"
   ]
  },
  {
   "cell_type": "code",
   "execution_count": 61,
   "metadata": {},
   "outputs": [
    {
     "name": "stdout",
     "output_type": "stream",
     "text": [
      "predictions of the first 5 houses in val:\n",
      "sklearn: [0 0 0 0 0]\n"
     ]
    }
   ],
   "source": [
    "sknn_ = KNeighborsClassifier(n_neighbors=1, \n",
    "                            weights='uniform',\n",
    "                            algorithm='brute', \n",
    "                            p=2, \n",
    "                            metric='minkowski')\n",
    "sknn_.fit(X_train, y_train)\n",
    "sknn_pred_val = sknn_.predict(X_val)\n",
    "\n",
    "print('predictions of the first 5 ids in val:')\n",
    "#print('numpy: ' ,nn_pred_val[0:5])\n",
    "print('sklearn:', sknn_pred_val[0:5])"
   ]
  },
  {
   "cell_type": "code",
   "execution_count": 62,
   "metadata": {},
   "outputs": [],
   "source": [
    "k_range = range(1, 32)\n",
    "mae_k = np.zeros(len(k_range))\n",
    "for k in range(1, 32):\n",
    "    sknn_ = KNeighborsClassifier(n_neighbors=k, \n",
    "                                weights='uniform',\n",
    "                                algorithm='auto', \n",
    "                                p=2, \n",
    "                                metric='minkowski')\n",
    "    sknn_.fit(X_train, y_train)\n",
    "    sknn_pred_val = sknn_.predict(X_val)\n",
    "    mae_k[k - 1] = np.mean(np.abs(y_val - sknn_pred_val))\n"
   ]
  },
  {
   "cell_type": "code",
   "execution_count": 63,
   "metadata": {},
   "outputs": [
    {
     "data": {
      "image/png": "[encoded data removed]",
      "text/plain": [
       "<Figure size 720x432 with 1 Axes>"
      ]
     },
     "metadata": {
      "needs_background": "light"
     },
     "output_type": "display_data"
    }
   ],
   "source": [
    "fig = plt.figure(figsize = (10,6))\n",
    "ax1 = fig.add_subplot(1, 1, 1)\n",
    "\n",
    "ax1.plot(k_range, mae_k, 'ko-')\n",
    "ax1.set_xlabel('k (number of nearest neighbours used)')\n",
    "ax1.set_ylabel('mae $ ')\n",
    "_ = plt.title('validation curve for kNN')\n"
   ]
  },
  {
   "cell_type": "code",
   "execution_count": 64,
   "metadata": {},
   "outputs": [
    {
     "data": {
      "text/plain": [
       "8"
      ]
     },
     "execution_count": 64,
     "metadata": {},
     "output_type": "execute_result"
    }
   ],
   "source": [
    "best_k = 1 + np.argmin(mae_k)\n",
    "best_k"
   ]
  },
  {
   "cell_type": "code",
   "execution_count": 65,
   "metadata": {},
   "outputs": [
    {
     "name": "stdout",
     "output_type": "stream",
     "text": [
      "MAE on the test data, using k =  8\n",
      "0.08852459016393442\n"
     ]
    }
   ],
   "source": [
    "sknn_ = KNeighborsClassifier(n_neighbors=best_k, \n",
    "                            weights='uniform',\n",
    "                            algorithm='auto', \n",
    "                            p=2, \n",
    "                            metric='minkowski')\n",
    "sknn_.fit(X_design, y_design)\n",
    "sknn_pred_test = sknn_.predict(X_test)\n",
    "print('MAE on the test data, using k = ', best_k)\n",
    "print(np.mean(np.abs(y_test - sknn_pred_test)))"
   ]
  },
  {
   "cell_type": "code",
   "execution_count": 66,
   "metadata": {},
   "outputs": [
    {
     "data": {
      "text/plain": [
       "array([0, 0, 0, ..., 0, 0, 0])"
      ]
     },
     "execution_count": 66,
     "metadata": {},
     "output_type": "execute_result"
    }
   ],
   "source": [
    "sknn_pred_test"
   ]
  },
  {
   "cell_type": "code",
   "execution_count": 49,
   "metadata": {},
   "outputs": [],
   "source": [
    "#df_test = pd.read_csv(dirRawData + 'test.csv')"
   ]
  },
  {
   "cell_type": "code",
   "execution_count": 67,
   "metadata": {},
   "outputs": [],
   "source": [
    "df_test_id = df_test[['id']]\n",
    "df_test_var = df_test.loc[:, df_test.columns != 'id']"
   ]
  },
  {
   "cell_type": "code",
   "execution_count": 68,
   "metadata": {},
   "outputs": [
    {
     "data": {
      "text/plain": [
       "(5121, 483)"
      ]
     },
     "execution_count": 68,
     "metadata": {},
     "output_type": "execute_result"
    }
   ],
   "source": [
    "df_test_var.shape"
   ]
  },
  {
   "cell_type": "code",
   "execution_count": 69,
   "metadata": {},
   "outputs": [
    {
     "data": {
      "text/plain": [
       "(7175, 483)"
      ]
     },
     "execution_count": 69,
     "metadata": {},
     "output_type": "execute_result"
    }
   ],
   "source": [
    "X_train.shape"
   ]
  },
  {
   "cell_type": "code",
   "execution_count": 73,
   "metadata": {},
   "outputs": [],
   "source": [
    "sknn_predictions = sknn_.predict_proba(df_test_var)"
   ]
  },
  {
   "cell_type": "code",
   "execution_count": 74,
   "metadata": {},
   "outputs": [],
   "source": [
    "df_sknn = pd.DataFrame(sknn_predictions)"
   ]
  },
  {
   "cell_type": "code",
   "execution_count": 75,
   "metadata": {},
   "outputs": [
    {
     "data": {
      "text/html": [
       "<div>\n",
       "<style scoped>\n",
       "    .dataframe tbody tr th:only-of-type {\n",
       "        vertical-align: middle;\n",
       "    }\n",
       "\n",
       "    .dataframe tbody tr th {\n",
       "        vertical-align: top;\n",
       "    }\n",
       "\n",
       "    .dataframe thead th {\n",
       "        text-align: right;\n",
       "    }\n",
       "</style>\n",
       "<table border=\"1\" class=\"dataframe\">\n",
       "  <thead>\n",
       "    <tr style=\"text-align: right;\">\n",
       "      <th></th>\n",
       "      <th>0</th>\n",
       "      <th>1</th>\n",
       "    </tr>\n",
       "  </thead>\n",
       "  <tbody>\n",
       "    <tr>\n",
       "      <th>5116</th>\n",
       "      <td>0.875</td>\n",
       "      <td>0.125</td>\n",
       "    </tr>\n",
       "    <tr>\n",
       "      <th>5117</th>\n",
       "      <td>1.000</td>\n",
       "      <td>0.000</td>\n",
       "    </tr>\n",
       "    <tr>\n",
       "      <th>5118</th>\n",
       "      <td>0.875</td>\n",
       "      <td>0.125</td>\n",
       "    </tr>\n",
       "    <tr>\n",
       "      <th>5119</th>\n",
       "      <td>0.875</td>\n",
       "      <td>0.125</td>\n",
       "    </tr>\n",
       "    <tr>\n",
       "      <th>5120</th>\n",
       "      <td>0.875</td>\n",
       "      <td>0.125</td>\n",
       "    </tr>\n",
       "  </tbody>\n",
       "</table>\n",
       "</div>"
      ],
      "text/plain": [
       "          0      1\n",
       "5116  0.875  0.125\n",
       "5117  1.000  0.000\n",
       "5118  0.875  0.125\n",
       "5119  0.875  0.125\n",
       "5120  0.875  0.125"
      ]
     },
     "execution_count": 75,
     "metadata": {},
     "output_type": "execute_result"
    }
   ],
   "source": [
    "df_sknn.tail()"
   ]
  },
  {
   "cell_type": "code",
   "execution_count": 76,
   "metadata": {},
   "outputs": [],
   "source": [
    "df_submission = df_test.loc[:,['id']]\n",
    "df_submission = df_submission.join(df_sknn[1])\n",
    "#df_sumission = df_submission.join(df_test['1'])"
   ]
  },
  {
   "cell_type": "code",
   "execution_count": 77,
   "metadata": {},
   "outputs": [
    {
     "data": {
      "text/html": [
       "<div>\n",
       "<style scoped>\n",
       "    .dataframe tbody tr th:only-of-type {\n",
       "        vertical-align: middle;\n",
       "    }\n",
       "\n",
       "    .dataframe tbody tr th {\n",
       "        vertical-align: top;\n",
       "    }\n",
       "\n",
       "    .dataframe thead th {\n",
       "        text-align: right;\n",
       "    }\n",
       "</style>\n",
       "<table border=\"1\" class=\"dataframe\">\n",
       "  <thead>\n",
       "    <tr style=\"text-align: right;\">\n",
       "      <th></th>\n",
       "      <th>id</th>\n",
       "      <th>target</th>\n",
       "    </tr>\n",
       "  </thead>\n",
       "  <tbody>\n",
       "    <tr>\n",
       "      <th>5116</th>\n",
       "      <td>17074</td>\n",
       "      <td>0.125</td>\n",
       "    </tr>\n",
       "    <tr>\n",
       "      <th>5117</th>\n",
       "      <td>17076</td>\n",
       "      <td>0.000</td>\n",
       "    </tr>\n",
       "    <tr>\n",
       "      <th>5118</th>\n",
       "      <td>17079</td>\n",
       "      <td>0.125</td>\n",
       "    </tr>\n",
       "    <tr>\n",
       "      <th>5119</th>\n",
       "      <td>17082</td>\n",
       "      <td>0.125</td>\n",
       "    </tr>\n",
       "    <tr>\n",
       "      <th>5120</th>\n",
       "      <td>17083</td>\n",
       "      <td>0.125</td>\n",
       "    </tr>\n",
       "  </tbody>\n",
       "</table>\n",
       "</div>"
      ],
      "text/plain": [
       "         id  target\n",
       "5116  17074   0.125\n",
       "5117  17076   0.000\n",
       "5118  17079   0.125\n",
       "5119  17082   0.125\n",
       "5120  17083   0.125"
      ]
     },
     "execution_count": 77,
     "metadata": {},
     "output_type": "execute_result"
    }
   ],
   "source": [
    "df_submission.columns = ['id', 'target']\n",
    "df_submission.tail()"
   ]
  },
  {
   "cell_type": "code",
   "execution_count": 78,
   "metadata": {},
   "outputs": [],
   "source": [
    "df_submission.to_csv(dirOutput+ 'knn_onehot_prob.csv', index=False)"
   ]
  },
  {
   "cell_type": "code",
   "execution_count": 79,
   "metadata": {},
   "outputs": [
    {
     "name": "stdout",
     "output_type": "stream",
     "text": [
      "<class 'pandas.core.frame.DataFrame'>\n",
      "RangeIndex: 5121 entries, 0 to 5120\n",
      "Data columns (total 2 columns):\n",
      "id        5121 non-null int64\n",
      "target    5121 non-null float64\n",
      "dtypes: float64(1), int64(1)\n",
      "memory usage: 80.1 KB\n"
     ]
    }
   ],
   "source": [
    "df_submission.info()"
   ]
  },
  {
   "cell_type": "code",
   "execution_count": null,
   "metadata": {},
   "outputs": [],
   "source": []
  }
 ],
 "metadata": {
  "kernelspec": {
   "display_name": "Python 3",
   "language": "python",
   "name": "python3"
  },
  "language_info": {
   "codemirror_mode": {
    "name": "ipython",
    "version": 3
   },
   "file_extension": ".py",
   "mimetype": "text/x-python",
   "name": "python",
   "nbconvert_exporter": "python",
   "pygments_lexer": "ipython3",
   "version": "3.6.7"
  }
 },
 "nbformat": 4,
 "nbformat_minor": 2
}
