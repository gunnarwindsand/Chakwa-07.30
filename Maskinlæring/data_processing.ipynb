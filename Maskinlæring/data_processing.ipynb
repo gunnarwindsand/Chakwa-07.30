{
 "cells": [
  {
   "cell_type": "code",
   "execution_count": 1,
   "metadata": {},
   "outputs": [],
   "source": [
    "# Data processing"
   ]
  },
  {
   "cell_type": "code",
   "execution_count": 2,
   "metadata": {},
   "outputs": [],
   "source": [
    "import os\n",
    "import numpy as np\n",
    "import pandas as pd\n",
    "import pickle"
   ]
  },
  {
   "cell_type": "code",
   "execution_count": 3,
   "metadata": {},
   "outputs": [
    {
     "name": "stdout",
     "output_type": "stream",
     "text": [
      "/home/jovyan/work/aml_cw/code\n"
     ]
    }
   ],
   "source": [
    "# Set directories\n",
    "print(os.getcwd())\n",
    "dirRawData = \"../rawdata/\"\n",
    "dirPData = \"../pydata/\"\n",
    "dirOutput = \"../output/\""
   ]
  },
  {
   "cell_type": "code",
   "execution_count": 4,
   "metadata": {},
   "outputs": [],
   "source": [
    "# Load up data\n",
    "df_all = pd.read_csv(dirRawData +'train.csv') # contains data for training and validation"
   ]
  },
  {
   "cell_type": "code",
   "execution_count": 5,
   "metadata": {
    "scrolled": true
   },
   "outputs": [
    {
     "data": {
      "text/html": [
       "<div>\n",
       "<style scoped>\n",
       "    .dataframe tbody tr th:only-of-type {\n",
       "        vertical-align: middle;\n",
       "    }\n",
       "\n",
       "    .dataframe tbody tr th {\n",
       "        vertical-align: top;\n",
       "    }\n",
       "\n",
       "    .dataframe thead th {\n",
       "        text-align: right;\n",
       "    }\n",
       "</style>\n",
       "<table border=\"1\" class=\"dataframe\">\n",
       "  <thead>\n",
       "    <tr style=\"text-align: right;\">\n",
       "      <th></th>\n",
       "      <th>id</th>\n",
       "      <th>v_char_1</th>\n",
       "      <th>v_char_2</th>\n",
       "      <th>v_char_3</th>\n",
       "      <th>v_char_4</th>\n",
       "      <th>v_char_5</th>\n",
       "      <th>v_char_6</th>\n",
       "      <th>v_char_7</th>\n",
       "      <th>v_char_8</th>\n",
       "      <th>v_char_9</th>\n",
       "      <th>...</th>\n",
       "      <th>v_num_101</th>\n",
       "      <th>v_num_102</th>\n",
       "      <th>v_num_103</th>\n",
       "      <th>v_num_104</th>\n",
       "      <th>v_num_105</th>\n",
       "      <th>v_num_106</th>\n",
       "      <th>v_num_107</th>\n",
       "      <th>v_num_108</th>\n",
       "      <th>v_num_109</th>\n",
       "      <th>v_num_110</th>\n",
       "    </tr>\n",
       "  </thead>\n",
       "  <tbody>\n",
       "    <tr>\n",
       "      <th>0</th>\n",
       "      <td>1</td>\n",
       "      <td>G</td>\n",
       "      <td>V</td>\n",
       "      <td>q</td>\n",
       "      <td>S</td>\n",
       "      <td>Q</td>\n",
       "      <td>K</td>\n",
       "      <td>Q</td>\n",
       "      <td>d</td>\n",
       "      <td>Y</td>\n",
       "      <td>...</td>\n",
       "      <td>0</td>\n",
       "      <td>6</td>\n",
       "      <td>0</td>\n",
       "      <td>6</td>\n",
       "      <td>8</td>\n",
       "      <td>0</td>\n",
       "      <td>1</td>\n",
       "      <td>0</td>\n",
       "      <td>16</td>\n",
       "      <td>19</td>\n",
       "    </tr>\n",
       "    <tr>\n",
       "      <th>1</th>\n",
       "      <td>2</td>\n",
       "      <td>G</td>\n",
       "      <td>I</td>\n",
       "      <td>q</td>\n",
       "      <td>S</td>\n",
       "      <td>Q</td>\n",
       "      <td>i</td>\n",
       "      <td>Q</td>\n",
       "      <td>d</td>\n",
       "      <td>I</td>\n",
       "      <td>...</td>\n",
       "      <td>0</td>\n",
       "      <td>7</td>\n",
       "      <td>1</td>\n",
       "      <td>5</td>\n",
       "      <td>1</td>\n",
       "      <td>5</td>\n",
       "      <td>1</td>\n",
       "      <td>1</td>\n",
       "      <td>7</td>\n",
       "      <td>2</td>\n",
       "    </tr>\n",
       "    <tr>\n",
       "      <th>2</th>\n",
       "      <td>3</td>\n",
       "      <td>G</td>\n",
       "      <td>I</td>\n",
       "      <td>L</td>\n",
       "      <td>S</td>\n",
       "      <td>Q</td>\n",
       "      <td>L</td>\n",
       "      <td>Q</td>\n",
       "      <td>h</td>\n",
       "      <td>I</td>\n",
       "      <td>...</td>\n",
       "      <td>0</td>\n",
       "      <td>6</td>\n",
       "      <td>0</td>\n",
       "      <td>8</td>\n",
       "      <td>9</td>\n",
       "      <td>0</td>\n",
       "      <td>1</td>\n",
       "      <td>0</td>\n",
       "      <td>1</td>\n",
       "      <td>4</td>\n",
       "    </tr>\n",
       "    <tr>\n",
       "      <th>3</th>\n",
       "      <td>4</td>\n",
       "      <td>G</td>\n",
       "      <td>I</td>\n",
       "      <td>q</td>\n",
       "      <td>S</td>\n",
       "      <td>Q</td>\n",
       "      <td>i</td>\n",
       "      <td>Q</td>\n",
       "      <td>h</td>\n",
       "      <td>I</td>\n",
       "      <td>...</td>\n",
       "      <td>0</td>\n",
       "      <td>6</td>\n",
       "      <td>0</td>\n",
       "      <td>8</td>\n",
       "      <td>1</td>\n",
       "      <td>0</td>\n",
       "      <td>1</td>\n",
       "      <td>0</td>\n",
       "      <td>12</td>\n",
       "      <td>8</td>\n",
       "    </tr>\n",
       "    <tr>\n",
       "      <th>4</th>\n",
       "      <td>6</td>\n",
       "      <td>G</td>\n",
       "      <td>V</td>\n",
       "      <td>q</td>\n",
       "      <td>S</td>\n",
       "      <td>Q</td>\n",
       "      <td>i</td>\n",
       "      <td>Q</td>\n",
       "      <td>d</td>\n",
       "      <td>Y</td>\n",
       "      <td>...</td>\n",
       "      <td>0</td>\n",
       "      <td>11</td>\n",
       "      <td>0</td>\n",
       "      <td>5</td>\n",
       "      <td>3</td>\n",
       "      <td>0</td>\n",
       "      <td>1</td>\n",
       "      <td>0</td>\n",
       "      <td>16</td>\n",
       "      <td>4</td>\n",
       "    </tr>\n",
       "  </tbody>\n",
       "</table>\n",
       "<p>5 rows × 232 columns</p>\n",
       "</div>"
      ],
      "text/plain": [
       "   id v_char_1 v_char_2 v_char_3 v_char_4 v_char_5 v_char_6 v_char_7 v_char_8  \\\n",
       "0   1        G        V        q        S        Q        K        Q        d   \n",
       "1   2        G        I        q        S        Q        i        Q        d   \n",
       "2   3        G        I        L        S        Q        L        Q        h   \n",
       "3   4        G        I        q        S        Q        i        Q        h   \n",
       "4   6        G        V        q        S        Q        i        Q        d   \n",
       "\n",
       "  v_char_9  ... v_num_101 v_num_102 v_num_103 v_num_104 v_num_105 v_num_106  \\\n",
       "0        Y  ...         0         6         0         6         8         0   \n",
       "1        I  ...         0         7         1         5         1         5   \n",
       "2        I  ...         0         6         0         8         9         0   \n",
       "3        I  ...         0         6         0         8         1         0   \n",
       "4        Y  ...         0        11         0         5         3         0   \n",
       "\n",
       "  v_num_107 v_num_108 v_num_109 v_num_110  \n",
       "0         1         0        16        19  \n",
       "1         1         1         7         2  \n",
       "2         1         0         1         4  \n",
       "3         1         0        12         8  \n",
       "4         1         0        16         4  \n",
       "\n",
       "[5 rows x 232 columns]"
      ]
     },
     "execution_count": 5,
     "metadata": {},
     "output_type": "execute_result"
    }
   ],
   "source": [
    "df_all.head()"
   ]
  },
  {
   "cell_type": "code",
   "execution_count": 15,
   "metadata": {},
   "outputs": [],
   "source": [
    "dict_ = {'df_all': df_all}\n",
    "\n",
    "f_name = dirPData + 'df_all.pickle'\n",
    "with open(f_name, \"wb\") as f:\n",
    "    pickle.dump(dict_, f)\n",
    "del f_name"
   ]
  },
  {
   "cell_type": "markdown",
   "metadata": {},
   "source": [
    "## Lets identify all the different variables, the ones to use and not use i.e. ID"
   ]
  },
  {
   "cell_type": "code",
   "execution_count": 7,
   "metadata": {},
   "outputs": [],
   "source": [
    "vars_all = df_all.columns.values\n",
    "var_dep = ['target']\n",
    "\n",
    "vars_notToUse = ['id']\n",
    "vars_ind = [var for var in vars_all if var not in (vars_notToUse + var_dep)]"
   ]
  },
  {
   "cell_type": "markdown",
   "metadata": {},
   "source": [
    "## Lets also identify all the numeric variables in a list"
   ]
  },
  {
   "cell_type": "code",
   "execution_count": 17,
   "metadata": {},
   "outputs": [],
   "source": [
    "vars_ind_numeric = list(df_all[vars_ind].columns[df_all[vars_ind].dtypes != 'object']) "
   ]
  },
  {
   "cell_type": "code",
   "execution_count": 23,
   "metadata": {},
   "outputs": [],
   "source": [
    "vars_ind_categorical = df_all.columns[df_all.dtypes == 'object'].tolist()"
   ]
  },
  {
   "cell_type": "code",
   "execution_count": 24,
   "metadata": {},
   "outputs": [],
   "source": [
    "dict_ = {'vars_ind_numeric': vars_ind_numeric,\n",
    "        'vars_notToUse': vars_notToUse,\n",
    "        'var_dep': var_dep,\n",
    "        'vars_ind_categorical': vars_ind_categorical}\n",
    "\n",
    "f_name = dirPData + 'variables.pickle'\n",
    "with open(f_name, \"wb\") as f:\n",
    "    pickle.dump(dict_, f)\n",
    "del f_name, dict_"
   ]
  },
  {
   "cell_type": "code",
   "execution_count": null,
   "metadata": {},
   "outputs": [],
   "source": []
  },
  {
   "cell_type": "markdown",
   "metadata": {},
   "source": [
    "# add a fold variable"
   ]
  },
  {
   "cell_type": "code",
   "execution_count": 20,
   "metadata": {},
   "outputs": [],
   "source": [
    "rng = np.random.RandomState(2019)\n",
    "fold = rng.randint(0,10,df_all.shape[0])\n",
    "df_all['fold'] = fold"
   ]
  },
  {
   "cell_type": "code",
   "execution_count": 21,
   "metadata": {},
   "outputs": [],
   "source": [
    "dict_ = {'df_all': df_all}\n",
    "\n",
    "f_name = dirPData + 'df_all.pickle'\n",
    "with open(f_name, \"wb\") as f:\n",
    "    pickle.dump(dict_, f)\n",
    "del f_name"
   ]
  },
  {
   "cell_type": "code",
   "execution_count": null,
   "metadata": {},
   "outputs": [],
   "source": []
  }
 ],
 "metadata": {
  "kernelspec": {
   "display_name": "Python 3",
   "language": "python",
   "name": "python3"
  },
  "language_info": {
   "codemirror_mode": {
    "name": "ipython",
    "version": 3
   },
   "file_extension": ".py",
   "mimetype": "text/x-python",
   "name": "python",
   "nbconvert_exporter": "python",
   "pygments_lexer": "ipython3",
   "version": "3.7.3"
  }
 },
 "nbformat": 4,
 "nbformat_minor": 2
}
