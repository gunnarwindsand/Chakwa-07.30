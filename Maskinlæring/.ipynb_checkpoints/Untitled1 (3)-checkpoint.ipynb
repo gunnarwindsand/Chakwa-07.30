{
 "cells": [
  {
   "cell_type": "code",
   "execution_count": 1,
   "metadata": {},
   "outputs": [],
   "source": [
    "# h2o Python API with specific classes\n",
    "import h2o \n",
    "from h2o.estimators.glm import H2OGeneralizedLinearEstimator # for LIME\n",
    "from h2o.estimators.gbm import H2OGradientBoostingEstimator  # for GBM\n",
    "\n",
    "import operator # for sorting dictionaries\n",
    "\n",
    "import numpy as np   # array, vector, matrix calculations\n",
    "import pandas as pd  # DataFrame handling\n",
    "\n",
    "# display plots in notebook\n",
    "%matplotlib inline"
   ]
  },
  {
   "cell_type": "code",
   "execution_count": 2,
   "metadata": {},
   "outputs": [
    {
     "name": "stdout",
     "output_type": "stream",
     "text": [
      "Checking whether there is an H2O instance running at http://localhost:54321 ..... not found.\n",
      "Attempting to start a local H2O server...\n",
      "  Java Version: openjdk version \"11.0.1\" 2018-10-16 LTS; OpenJDK Runtime Environment Zulu11.2+3 (build 11.0.1+13-LTS); OpenJDK 64-Bit Server VM Zulu11.2+3 (build 11.0.1+13-LTS, mixed mode)\n",
      "  Starting server from /anaconda3/envs/deep_learning/lib/python3.6/site-packages/h2o/backend/bin/h2o.jar\n",
      "  Ice root: /var/folders/k7/m7h3wyzn4yb714dfsnq0ysx00000gn/T/tmplqw_4vgq\n",
      "  JVM stdout: /var/folders/k7/m7h3wyzn4yb714dfsnq0ysx00000gn/T/tmplqw_4vgq/h2o_gunnarwindsand_started_from_python.out\n",
      "  JVM stderr: /var/folders/k7/m7h3wyzn4yb714dfsnq0ysx00000gn/T/tmplqw_4vgq/h2o_gunnarwindsand_started_from_python.err\n",
      "  Server is running at http://127.0.0.1:54321\n",
      "Connecting to H2O server at http://127.0.0.1:54321 ... successful.\n"
     ]
    },
    {
     "data": {
      "text/html": [
       "<div style=\"overflow:auto\"><table style=\"width:50%\"><tr><td>H2O cluster uptime:</td>\n",
       "<td>02 secs</td></tr>\n",
       "<tr><td>H2O cluster timezone:</td>\n",
       "<td>Europe/London</td></tr>\n",
       "<tr><td>H2O data parsing timezone:</td>\n",
       "<td>UTC</td></tr>\n",
       "<tr><td>H2O cluster version:</td>\n",
       "<td>3.24.0.3</td></tr>\n",
       "<tr><td>H2O cluster version age:</td>\n",
       "<td>1 month and 24 days </td></tr>\n",
       "<tr><td>H2O cluster name:</td>\n",
       "<td>H2O_from_python_gunnarwindsand_707i09</td></tr>\n",
       "<tr><td>H2O cluster total nodes:</td>\n",
       "<td>1</td></tr>\n",
       "<tr><td>H2O cluster free memory:</td>\n",
       "<td>2 Gb</td></tr>\n",
       "<tr><td>H2O cluster total cores:</td>\n",
       "<td>12</td></tr>\n",
       "<tr><td>H2O cluster allowed cores:</td>\n",
       "<td>12</td></tr>\n",
       "<tr><td>H2O cluster status:</td>\n",
       "<td>accepting new members, healthy</td></tr>\n",
       "<tr><td>H2O connection url:</td>\n",
       "<td>http://127.0.0.1:54321</td></tr>\n",
       "<tr><td>H2O connection proxy:</td>\n",
       "<td>None</td></tr>\n",
       "<tr><td>H2O internal security:</td>\n",
       "<td>False</td></tr>\n",
       "<tr><td>H2O API Extensions:</td>\n",
       "<td>Amazon S3, XGBoost, Algos, AutoML, Core V3, Core V4</td></tr>\n",
       "<tr><td>Python version:</td>\n",
       "<td>3.6.7 final</td></tr></table></div>"
      ],
      "text/plain": [
       "--------------------------  ---------------------------------------------------\n",
       "H2O cluster uptime:         02 secs\n",
       "H2O cluster timezone:       Europe/London\n",
       "H2O data parsing timezone:  UTC\n",
       "H2O cluster version:        3.24.0.3\n",
       "H2O cluster version age:    1 month and 24 days\n",
       "H2O cluster name:           H2O_from_python_gunnarwindsand_707i09\n",
       "H2O cluster total nodes:    1\n",
       "H2O cluster free memory:    2 Gb\n",
       "H2O cluster total cores:    12\n",
       "H2O cluster allowed cores:  12\n",
       "H2O cluster status:         accepting new members, healthy\n",
       "H2O connection url:         http://127.0.0.1:54321\n",
       "H2O connection proxy:\n",
       "H2O internal security:      False\n",
       "H2O API Extensions:         Amazon S3, XGBoost, Algos, AutoML, Core V3, Core V4\n",
       "Python version:             3.6.7 final\n",
       "--------------------------  ---------------------------------------------------"
      ]
     },
     "metadata": {},
     "output_type": "display_data"
    }
   ],
   "source": [
    "h2o.init(max_mem_size='2G')       # start h2o\n",
    "h2o.remove_all() "
   ]
  },
  {
   "cell_type": "code",
   "execution_count": 3,
   "metadata": {},
   "outputs": [],
   "source": [
    "df_train = pd.read_csv(\"train.csv\")#,index_col='id')\n",
    "df_test = pd.read_csv('test.csv')#, index_col='id')\n",
    "df_gender_sub = pd.read_csv(\"sampleSubmission.csv\")#, index_col='id')"
   ]
  },
  {
   "cell_type": "code",
   "execution_count": 4,
   "metadata": {},
   "outputs": [
    {
     "name": "stderr",
     "output_type": "stream",
     "text": [
      "/anaconda3/envs/deep_learning/lib/python3.6/site-packages/ipykernel_launcher.py:4: FutureWarning: Sorting because non-concatenation axis is not aligned. A future version\n",
      "of pandas will change to not sort by default.\n",
      "\n",
      "To accept the future behavior, pass 'sort=False'.\n",
      "\n",
      "To retain the current behavior and silence the warning, pass 'sort=True'.\n",
      "\n",
      "  after removing the cwd from sys.path.\n"
     ]
    },
    {
     "data": {
      "text/plain": [
       "(17083, 232)"
      ]
     },
     "execution_count": 4,
     "metadata": {},
     "output_type": "execute_result"
    }
   ],
   "source": [
    "#Create variable for test data filled with nan\n",
    "df_test[\"target\"] = np.nan\n",
    "\n",
    "df_all = pd.concat([df_train, df_test])\n",
    "df_all.shape"
   ]
  },
  {
   "cell_type": "code",
   "execution_count": 5,
   "metadata": {},
   "outputs": [
    {
     "data": {
      "text/html": [
       "<div>\n",
       "<style scoped>\n",
       "    .dataframe tbody tr th:only-of-type {\n",
       "        vertical-align: middle;\n",
       "    }\n",
       "\n",
       "    .dataframe tbody tr th {\n",
       "        vertical-align: top;\n",
       "    }\n",
       "\n",
       "    .dataframe thead th {\n",
       "        text-align: right;\n",
       "    }\n",
       "</style>\n",
       "<table border=\"1\" class=\"dataframe\">\n",
       "  <thead>\n",
       "    <tr style=\"text-align: right;\">\n",
       "      <th></th>\n",
       "      <th>id</th>\n",
       "      <th>target</th>\n",
       "      <th>v_char_1</th>\n",
       "      <th>v_char_10</th>\n",
       "      <th>v_char_100</th>\n",
       "      <th>v_char_101</th>\n",
       "      <th>v_char_102</th>\n",
       "      <th>v_char_103</th>\n",
       "      <th>v_char_104</th>\n",
       "      <th>v_char_105</th>\n",
       "      <th>...</th>\n",
       "      <th>v_num_9</th>\n",
       "      <th>v_num_90</th>\n",
       "      <th>v_num_91</th>\n",
       "      <th>v_num_92</th>\n",
       "      <th>v_num_94</th>\n",
       "      <th>v_num_95</th>\n",
       "      <th>v_num_96</th>\n",
       "      <th>v_num_97</th>\n",
       "      <th>v_num_98</th>\n",
       "      <th>v_num_99</th>\n",
       "    </tr>\n",
       "  </thead>\n",
       "  <tbody>\n",
       "    <tr>\n",
       "      <th>5116</th>\n",
       "      <td>17074</td>\n",
       "      <td>NaN</td>\n",
       "      <td>G</td>\n",
       "      <td>V</td>\n",
       "      <td>g</td>\n",
       "      <td>v</td>\n",
       "      <td>F</td>\n",
       "      <td>I</td>\n",
       "      <td>t</td>\n",
       "      <td>h</td>\n",
       "      <td>...</td>\n",
       "      <td>1</td>\n",
       "      <td>1</td>\n",
       "      <td>0</td>\n",
       "      <td>11</td>\n",
       "      <td>0</td>\n",
       "      <td>0</td>\n",
       "      <td>0</td>\n",
       "      <td>5</td>\n",
       "      <td>9</td>\n",
       "      <td>0</td>\n",
       "    </tr>\n",
       "    <tr>\n",
       "      <th>5117</th>\n",
       "      <td>17076</td>\n",
       "      <td>NaN</td>\n",
       "      <td>G</td>\n",
       "      <td>V</td>\n",
       "      <td>Q</td>\n",
       "      <td>F</td>\n",
       "      <td>F</td>\n",
       "      <td>z</td>\n",
       "      <td>t</td>\n",
       "      <td>h</td>\n",
       "      <td>...</td>\n",
       "      <td>1</td>\n",
       "      <td>1</td>\n",
       "      <td>0</td>\n",
       "      <td>13</td>\n",
       "      <td>1</td>\n",
       "      <td>0</td>\n",
       "      <td>2</td>\n",
       "      <td>11</td>\n",
       "      <td>17</td>\n",
       "      <td>0</td>\n",
       "    </tr>\n",
       "    <tr>\n",
       "      <th>5118</th>\n",
       "      <td>17079</td>\n",
       "      <td>NaN</td>\n",
       "      <td>G</td>\n",
       "      <td>p</td>\n",
       "      <td>q</td>\n",
       "      <td>T</td>\n",
       "      <td>F</td>\n",
       "      <td>a</td>\n",
       "      <td>t</td>\n",
       "      <td>h</td>\n",
       "      <td>...</td>\n",
       "      <td>1</td>\n",
       "      <td>1</td>\n",
       "      <td>0</td>\n",
       "      <td>3</td>\n",
       "      <td>0</td>\n",
       "      <td>0</td>\n",
       "      <td>0</td>\n",
       "      <td>6</td>\n",
       "      <td>14</td>\n",
       "      <td>0</td>\n",
       "    </tr>\n",
       "    <tr>\n",
       "      <th>5119</th>\n",
       "      <td>17082</td>\n",
       "      <td>NaN</td>\n",
       "      <td>G</td>\n",
       "      <td>p</td>\n",
       "      <td>q</td>\n",
       "      <td>T</td>\n",
       "      <td>F</td>\n",
       "      <td>z</td>\n",
       "      <td>t</td>\n",
       "      <td>e</td>\n",
       "      <td>...</td>\n",
       "      <td>1</td>\n",
       "      <td>1</td>\n",
       "      <td>0</td>\n",
       "      <td>5</td>\n",
       "      <td>3</td>\n",
       "      <td>0</td>\n",
       "      <td>0</td>\n",
       "      <td>5</td>\n",
       "      <td>10</td>\n",
       "      <td>0</td>\n",
       "    </tr>\n",
       "    <tr>\n",
       "      <th>5120</th>\n",
       "      <td>17083</td>\n",
       "      <td>NaN</td>\n",
       "      <td>G</td>\n",
       "      <td>p</td>\n",
       "      <td>q</td>\n",
       "      <td>J</td>\n",
       "      <td>F</td>\n",
       "      <td>a</td>\n",
       "      <td>S</td>\n",
       "      <td>S</td>\n",
       "      <td>...</td>\n",
       "      <td>2</td>\n",
       "      <td>1</td>\n",
       "      <td>0</td>\n",
       "      <td>10</td>\n",
       "      <td>0</td>\n",
       "      <td>0</td>\n",
       "      <td>7</td>\n",
       "      <td>3</td>\n",
       "      <td>1</td>\n",
       "      <td>0</td>\n",
       "    </tr>\n",
       "  </tbody>\n",
       "</table>\n",
       "<p>5 rows × 232 columns</p>\n",
       "</div>"
      ],
      "text/plain": [
       "         id  target v_char_1 v_char_10 v_char_100 v_char_101 v_char_102  \\\n",
       "5116  17074     NaN        G         V          g          v          F   \n",
       "5117  17076     NaN        G         V          Q          F          F   \n",
       "5118  17079     NaN        G         p          q          T          F   \n",
       "5119  17082     NaN        G         p          q          T          F   \n",
       "5120  17083     NaN        G         p          q          J          F   \n",
       "\n",
       "     v_char_103 v_char_104 v_char_105  ... v_num_9 v_num_90 v_num_91 v_num_92  \\\n",
       "5116          I          t          h  ...       1        1        0       11   \n",
       "5117          z          t          h  ...       1        1        0       13   \n",
       "5118          a          t          h  ...       1        1        0        3   \n",
       "5119          z          t          e  ...       1        1        0        5   \n",
       "5120          a          S          S  ...       2        1        0       10   \n",
       "\n",
       "     v_num_94 v_num_95 v_num_96 v_num_97 v_num_98 v_num_99  \n",
       "5116        0        0        0        5        9        0  \n",
       "5117        1        0        2       11       17        0  \n",
       "5118        0        0        0        6       14        0  \n",
       "5119        3        0        0        5       10        0  \n",
       "5120        0        0        7        3        1        0  \n",
       "\n",
       "[5 rows x 232 columns]"
      ]
     },
     "execution_count": 5,
     "metadata": {},
     "output_type": "execute_result"
    }
   ],
   "source": [
    "df_all.tail()"
   ]
  },
  {
   "cell_type": "code",
   "execution_count": 6,
   "metadata": {},
   "outputs": [
    {
     "name": "stdout",
     "output_type": "stream",
     "text": [
      "y = target\n",
      "X = ['v_char_1', 'v_char_10', 'v_char_100', 'v_char_101', 'v_char_102', 'v_char_103', 'v_char_104', 'v_char_105', 'v_char_106', 'v_char_107', 'v_char_108', 'v_char_109', 'v_char_11', 'v_char_110', 'v_char_111', 'v_char_112', 'v_char_113', 'v_char_114', 'v_char_115', 'v_char_116', 'v_char_117', 'v_char_118', 'v_char_119', 'v_char_12', 'v_char_120', 'v_char_121', 'v_char_122', 'v_char_123', 'v_char_13', 'v_char_14', 'v_char_15', 'v_char_16', 'v_char_17', 'v_char_18', 'v_char_19', 'v_char_2', 'v_char_20', 'v_char_21', 'v_char_22', 'v_char_23', 'v_char_24', 'v_char_25', 'v_char_26', 'v_char_27', 'v_char_28', 'v_char_29', 'v_char_3', 'v_char_30', 'v_char_31', 'v_char_32', 'v_char_33', 'v_char_34', 'v_char_35', 'v_char_36', 'v_char_37', 'v_char_38', 'v_char_39', 'v_char_4', 'v_char_40', 'v_char_41', 'v_char_42', 'v_char_43', 'v_char_44', 'v_char_45', 'v_char_46', 'v_char_47', 'v_char_48', 'v_char_49', 'v_char_5', 'v_char_50', 'v_char_51', 'v_char_52', 'v_char_53', 'v_char_54', 'v_char_55', 'v_char_56', 'v_char_57', 'v_char_58', 'v_char_59', 'v_char_6', 'v_char_60', 'v_char_61', 'v_char_62', 'v_char_63', 'v_char_64', 'v_char_65', 'v_char_66', 'v_char_67', 'v_char_68', 'v_char_69', 'v_char_7', 'v_char_70', 'v_char_71', 'v_char_72', 'v_char_73', 'v_char_74', 'v_char_75', 'v_char_76', 'v_char_77', 'v_char_78', 'v_char_79', 'v_char_8', 'v_char_80', 'v_char_81', 'v_char_82', 'v_char_83', 'v_char_84', 'v_char_85', 'v_char_86', 'v_char_87', 'v_char_88', 'v_char_89', 'v_char_9', 'v_char_90', 'v_char_91', 'v_char_92', 'v_char_93', 'v_char_94', 'v_char_95', 'v_char_96', 'v_char_97', 'v_char_98', 'v_char_99', 'v_num_1', 'v_num_10', 'v_num_100', 'v_num_101', 'v_num_102', 'v_num_103', 'v_num_104', 'v_num_105', 'v_num_106', 'v_num_107', 'v_num_108', 'v_num_109', 'v_num_11', 'v_num_110', 'v_num_12', 'v_num_13', 'v_num_14', 'v_num_15', 'v_num_16', 'v_num_17', 'v_num_18', 'v_num_19', 'v_num_2', 'v_num_20', 'v_num_21', 'v_num_22', 'v_num_23', 'v_num_24', 'v_num_25', 'v_num_26', 'v_num_27', 'v_num_28', 'v_num_29', 'v_num_3', 'v_num_30', 'v_num_31', 'v_num_33', 'v_num_34', 'v_num_35', 'v_num_36', 'v_num_37', 'v_num_38', 'v_num_39', 'v_num_4', 'v_num_40', 'v_num_41', 'v_num_42', 'v_num_43', 'v_num_44', 'v_num_45', 'v_num_46', 'v_num_47', 'v_num_48', 'v_num_49', 'v_num_5', 'v_num_50', 'v_num_51', 'v_num_52', 'v_num_53', 'v_num_54', 'v_num_55', 'v_num_56', 'v_num_57', 'v_num_58', 'v_num_59', 'v_num_6', 'v_num_60', 'v_num_61', 'v_num_62', 'v_num_63', 'v_num_64', 'v_num_65', 'v_num_66', 'v_num_67', 'v_num_68', 'v_num_69', 'v_num_7', 'v_num_70', 'v_num_71', 'v_num_72', 'v_num_73', 'v_num_74', 'v_num_75', 'v_num_76', 'v_num_77', 'v_num_78', 'v_num_79', 'v_num_8', 'v_num_80', 'v_num_81', 'v_num_82', 'v_num_84', 'v_num_85', 'v_num_86', 'v_num_87', 'v_num_88', 'v_num_89', 'v_num_9', 'v_num_90', 'v_num_91', 'v_num_92', 'v_num_94', 'v_num_95', 'v_num_96', 'v_num_97', 'v_num_98', 'v_num_99']\n"
     ]
    }
   ],
   "source": [
    "# assign target and inputs for GBM\n",
    "y = 'target'\n",
    "X = [name for name in df_all.columns if name not in [y, 'id']]\n",
    "print('y =', y)\n",
    "print('X =', X)"
   ]
  },
  {
   "cell_type": "code",
   "execution_count": 7,
   "metadata": {},
   "outputs": [
    {
     "name": "stderr",
     "output_type": "stream",
     "text": [
      "/anaconda3/envs/deep_learning/lib/python3.6/site-packages/ipykernel_launcher.py:4: SettingWithCopyWarning: \n",
      "A value is trying to be set on a copy of a slice from a DataFrame.\n",
      "Try using .loc[row_indexer,col_indexer] = value instead\n",
      "\n",
      "See the caveats in the documentation: http://pandas.pydata.org/pandas-docs/stable/indexing.html#indexing-view-versus-copy\n",
      "  after removing the cwd from sys.path.\n"
     ]
    }
   ],
   "source": [
    "cat_obs = df_all.select_dtypes(include = ['object'].copy())\n",
    "# converting to categorical data for faster computing purposes \n",
    "for i in cat_obs:\n",
    "    cat_obs[i] = cat_obs[i].astype('category')\n",
    "    \n",
    "    \n",
    "vars_all = df_all.columns.values\n",
    "var_dep = ['target']\n",
    "var_not_toUse = [\"id\"]\n",
    "\n",
    "vars_ind = [var for var in vars_all if var not in (var_dep + var_not_toUse)]\n",
    "vars_ind_numeric = list(df_all[vars_ind].columns[df_all[vars_ind].dtypes != 'object'])\n",
    "vars_ind_categorical = list(df_all[vars_ind].columns[df_all[vars_ind].dtypes == 'object'])"
   ]
  },
  {
   "cell_type": "code",
   "execution_count": 8,
   "metadata": {},
   "outputs": [
    {
     "name": "stdout",
     "output_type": "stream",
     "text": [
      "Parse progress: |█████████████████████████████████████████████████████████| 100%\n",
      "Parse progress: |█████████████████████████████████████████████████████████| 100%\n",
      "Parse progress: |█████████████████████████████████████████████████████████| 100%\n"
     ]
    }
   ],
   "source": [
    "data = h2o.H2OFrame(df_all)\n",
    "# To use for predictions\n",
    "h2o_train = h2o.import_file(\"train.csv\")\n",
    "h2o_test = h2o.import_file(\"test.csv\")"
   ]
  },
  {
   "cell_type": "code",
   "execution_count": 9,
   "metadata": {},
   "outputs": [],
   "source": [
    "data[y] = data[y].asfactor() "
   ]
  },
  {
   "cell_type": "code",
   "execution_count": 10,
   "metadata": {},
   "outputs": [
    {
     "name": "stdout",
     "output_type": "stream",
     "text": [
      "Rows:17083\n",
      "Cols:232\n",
      "\n",
      "\n"
     ]
    },
    {
     "data": {
      "text/html": [
       "<table>\n",
       "<thead>\n",
       "<tr><th>       </th><th>id               </th><th>target  </th><th>v_char_1  </th><th>v_char_10  </th><th>v_char_100  </th><th>v_char_101  </th><th>v_char_102  </th><th>v_char_103  </th><th>v_char_104  </th><th>v_char_105  </th><th>v_char_106  </th><th>v_char_107  </th><th>v_char_108  </th><th>v_char_109  </th><th>v_char_11  </th><th>v_char_110  </th><th>v_char_111  </th><th>v_char_112  </th><th>v_char_113  </th><th>v_char_114  </th><th>v_char_115  </th><th>v_char_116  </th><th>v_char_117  </th><th>v_char_118  </th><th>v_char_119  </th><th>v_char_12  </th><th>v_char_120  </th><th>v_char_121  </th><th>v_char_122  </th><th>v_char_123  </th><th>v_char_13  </th><th>v_char_14  </th><th>v_char_15  </th><th>v_char_16  </th><th>v_char_17  </th><th>v_char_18  </th><th>v_char_19  </th><th>v_char_2  </th><th>v_char_20  </th><th>v_char_21  </th><th>v_char_22  </th><th>v_char_23  </th><th>v_char_24  </th><th>v_char_25  </th><th>v_char_26  </th><th>v_char_27  </th><th>v_char_28  </th><th>v_char_29  </th><th>v_char_3  </th><th>v_char_30  </th><th>v_char_31  </th><th>v_char_32  </th><th>v_char_33  </th><th>v_char_34  </th><th>v_char_35  </th><th>v_char_36  </th><th>v_char_37  </th><th>v_char_38  </th><th>v_char_39  </th><th>v_char_4  </th><th>v_char_40  </th><th>v_char_41  </th><th>v_char_42  </th><th>v_char_43  </th><th>v_char_44  </th><th>v_char_45  </th><th>v_char_46  </th><th>v_char_47  </th><th>v_char_48  </th><th>v_char_49  </th><th>v_char_5  </th><th>v_char_50  </th><th>v_char_51  </th><th>v_char_52  </th><th>v_char_53  </th><th>v_char_54  </th><th>v_char_55  </th><th>v_char_56  </th><th>v_char_57  </th><th>v_char_58  </th><th>v_char_59  </th><th>v_char_6  </th><th>v_char_60  </th><th>v_char_61  </th><th>v_char_62  </th><th>v_char_63  </th><th>v_char_64  </th><th>v_char_65  </th><th>v_char_66  </th><th>v_char_67  </th><th>v_char_68  </th><th>v_char_69  </th><th>v_char_7  </th><th>v_char_70  </th><th>v_char_71  </th><th>v_char_72  </th><th>v_char_73  </th><th>v_char_74  </th><th>v_char_75  </th><th>v_char_76  </th><th>v_char_77  </th><th>v_char_78  </th><th>v_char_79  </th><th>v_char_8  </th><th>v_char_80  </th><th>v_char_81  </th><th>v_char_82  </th><th>v_char_83  </th><th>v_char_84  </th><th>v_char_85  </th><th>v_char_86  </th><th>v_char_87  </th><th>v_char_88  </th><th>v_char_89  </th><th>v_char_9  </th><th>v_char_90  </th><th>v_char_91  </th><th>v_char_92  </th><th>v_char_93  </th><th>v_char_94  </th><th>v_char_95  </th><th>v_char_96  </th><th>v_char_97  </th><th>v_char_98  </th><th>v_char_99  </th><th>v_num_1           </th><th>v_num_10         </th><th>v_num_100         </th><th>v_num_101           </th><th>v_num_102         </th><th>v_num_103          </th><th>v_num_104         </th><th>v_num_105         </th><th>v_num_106         </th><th>v_num_107          </th><th>v_num_108          </th><th>v_num_109         </th><th>v_num_11            </th><th>v_num_110        </th><th>v_num_12           </th><th>v_num_13             </th><th>v_num_14          </th><th>v_num_15          </th><th>v_num_16         </th><th>v_num_17           </th><th>v_num_18         </th><th>v_num_19           </th><th>v_num_2          </th><th>v_num_20         </th><th>v_num_21          </th><th>v_num_22             </th><th>v_num_23         </th><th>v_num_24          </th><th>v_num_25          </th><th>v_num_26           </th><th>v_num_27          </th><th>v_num_28          </th><th>v_num_29            </th><th>v_num_3           </th><th>v_num_30           </th><th>v_num_31         </th><th>v_num_33          </th><th>v_num_34          </th><th>v_num_35          </th><th>v_num_36          </th><th>v_num_37          </th><th>v_num_38          </th><th>v_num_39          </th><th>v_num_4           </th><th>v_num_40            </th><th>v_num_41             </th><th>v_num_42          </th><th>v_num_43         </th><th>v_num_44         </th><th>v_num_45             </th><th>v_num_46           </th><th>v_num_47          </th><th>v_num_48            </th><th>v_num_49         </th><th>v_num_5          </th><th>v_num_50          </th><th>v_num_51         </th><th>v_num_52          </th><th>v_num_53         </th><th>v_num_54          </th><th>v_num_55          </th><th>v_num_56           </th><th>v_num_57         </th><th>v_num_58           </th><th>v_num_59          </th><th>v_num_6             </th><th>v_num_60          </th><th>v_num_61          </th><th>v_num_62          </th><th>v_num_63          </th><th>v_num_64            </th><th>v_num_65         </th><th>v_num_66          </th><th>v_num_67           </th><th>v_num_68          </th><th>v_num_69          </th><th>v_num_7           </th><th>v_num_70         </th><th>v_num_71          </th><th>v_num_72          </th><th>v_num_73             </th><th>v_num_74            </th><th>v_num_75         </th><th>v_num_76           </th><th>v_num_77          </th><th>v_num_78           </th><th>v_num_79          </th><th>v_num_8            </th><th>v_num_80          </th><th>v_num_81          </th><th>v_num_82          </th><th>v_num_84           </th><th>v_num_85          </th><th>v_num_86         </th><th>v_num_87            </th><th>v_num_88          </th><th>v_num_89          </th><th>v_num_9           </th><th>v_num_90           </th><th>v_num_91           </th><th>v_num_92         </th><th>v_num_94           </th><th>v_num_95            </th><th>v_num_96         </th><th>v_num_97         </th><th>v_num_98          </th><th>v_num_99            </th></tr>\n",
       "</thead>\n",
       "<tbody>\n",
       "<tr><td>type   </td><td>int              </td><td>enum    </td><td>enum      </td><td>enum       </td><td>enum        </td><td>enum        </td><td>enum        </td><td>enum        </td><td>enum        </td><td>enum        </td><td>enum        </td><td>enum        </td><td>enum        </td><td>enum        </td><td>enum       </td><td>enum        </td><td>enum        </td><td>enum        </td><td>enum        </td><td>enum        </td><td>enum        </td><td>enum        </td><td>enum        </td><td>enum        </td><td>enum        </td><td>enum       </td><td>enum        </td><td>enum        </td><td>enum        </td><td>enum        </td><td>enum       </td><td>enum       </td><td>enum       </td><td>enum       </td><td>enum       </td><td>enum       </td><td>enum       </td><td>enum      </td><td>enum       </td><td>enum       </td><td>enum       </td><td>enum       </td><td>enum       </td><td>enum       </td><td>enum       </td><td>enum       </td><td>enum       </td><td>enum       </td><td>enum      </td><td>enum       </td><td>enum       </td><td>enum       </td><td>enum       </td><td>enum       </td><td>enum       </td><td>enum       </td><td>enum       </td><td>enum       </td><td>enum       </td><td>enum      </td><td>enum       </td><td>enum       </td><td>enum       </td><td>enum       </td><td>enum       </td><td>enum       </td><td>enum       </td><td>enum       </td><td>enum       </td><td>enum       </td><td>enum      </td><td>enum       </td><td>enum       </td><td>enum       </td><td>enum       </td><td>enum       </td><td>enum       </td><td>enum       </td><td>enum       </td><td>enum       </td><td>enum       </td><td>enum      </td><td>enum       </td><td>enum       </td><td>enum       </td><td>enum       </td><td>enum       </td><td>enum       </td><td>enum       </td><td>enum       </td><td>enum       </td><td>enum       </td><td>enum      </td><td>enum       </td><td>enum       </td><td>enum       </td><td>enum       </td><td>enum       </td><td>enum       </td><td>enum       </td><td>enum       </td><td>enum       </td><td>enum       </td><td>enum      </td><td>enum       </td><td>enum       </td><td>enum       </td><td>enum       </td><td>enum       </td><td>enum       </td><td>enum       </td><td>enum       </td><td>enum       </td><td>enum       </td><td>enum      </td><td>enum       </td><td>enum       </td><td>enum       </td><td>enum       </td><td>enum       </td><td>enum       </td><td>enum       </td><td>enum       </td><td>enum       </td><td>enum       </td><td>int               </td><td>int              </td><td>int               </td><td>int                 </td><td>int               </td><td>int                </td><td>int               </td><td>int               </td><td>int               </td><td>int                </td><td>int                </td><td>int               </td><td>int                 </td><td>int              </td><td>int                </td><td>int                  </td><td>int               </td><td>int               </td><td>int              </td><td>int                </td><td>int              </td><td>int                </td><td>int              </td><td>int              </td><td>int               </td><td>int                  </td><td>int              </td><td>int               </td><td>int               </td><td>int                </td><td>int               </td><td>int               </td><td>int                 </td><td>int               </td><td>int                </td><td>int              </td><td>int               </td><td>int               </td><td>int               </td><td>int               </td><td>int               </td><td>int               </td><td>int               </td><td>int               </td><td>int                 </td><td>int                  </td><td>int               </td><td>int              </td><td>int              </td><td>int                  </td><td>int                </td><td>int               </td><td>int                 </td><td>int              </td><td>int              </td><td>int               </td><td>int              </td><td>int               </td><td>int              </td><td>int               </td><td>int               </td><td>int                </td><td>int              </td><td>int                </td><td>int               </td><td>int                 </td><td>int               </td><td>int               </td><td>int               </td><td>int               </td><td>int                 </td><td>int              </td><td>int               </td><td>int                </td><td>int               </td><td>int               </td><td>int               </td><td>int              </td><td>int               </td><td>int               </td><td>int                  </td><td>int                 </td><td>int              </td><td>int                </td><td>int               </td><td>int                </td><td>int               </td><td>int                </td><td>int               </td><td>int               </td><td>int               </td><td>int                </td><td>int               </td><td>int              </td><td>int                 </td><td>int               </td><td>int               </td><td>int               </td><td>int                </td><td>int                </td><td>int              </td><td>int                </td><td>int                 </td><td>int              </td><td>int              </td><td>int               </td><td>int                 </td></tr>\n",
       "<tr><td>mins   </td><td>1.0              </td><td>        </td><td>          </td><td>           </td><td>            </td><td>            </td><td>            </td><td>            </td><td>            </td><td>            </td><td>            </td><td>            </td><td>            </td><td>            </td><td>           </td><td>            </td><td>            </td><td>            </td><td>            </td><td>            </td><td>            </td><td>            </td><td>            </td><td>            </td><td>            </td><td>           </td><td>            </td><td>            </td><td>            </td><td>            </td><td>           </td><td>           </td><td>           </td><td>           </td><td>           </td><td>           </td><td>           </td><td>          </td><td>           </td><td>           </td><td>           </td><td>           </td><td>           </td><td>           </td><td>           </td><td>           </td><td>           </td><td>           </td><td>          </td><td>           </td><td>           </td><td>           </td><td>           </td><td>           </td><td>           </td><td>           </td><td>           </td><td>           </td><td>           </td><td>          </td><td>           </td><td>           </td><td>           </td><td>           </td><td>           </td><td>           </td><td>           </td><td>           </td><td>           </td><td>           </td><td>          </td><td>           </td><td>           </td><td>           </td><td>           </td><td>           </td><td>           </td><td>           </td><td>           </td><td>           </td><td>           </td><td>          </td><td>           </td><td>           </td><td>           </td><td>           </td><td>           </td><td>           </td><td>           </td><td>           </td><td>           </td><td>           </td><td>          </td><td>           </td><td>           </td><td>           </td><td>           </td><td>           </td><td>           </td><td>           </td><td>           </td><td>           </td><td>           </td><td>          </td><td>           </td><td>           </td><td>           </td><td>           </td><td>           </td><td>           </td><td>           </td><td>           </td><td>           </td><td>           </td><td>          </td><td>           </td><td>           </td><td>           </td><td>           </td><td>           </td><td>           </td><td>           </td><td>           </td><td>           </td><td>           </td><td>0.0               </td><td>1.0              </td><td>1.0               </td><td>0.0                 </td><td>0.0               </td><td>0.0                </td><td>0.0               </td><td>1.0               </td><td>0.0               </td><td>0.0                </td><td>0.0                </td><td>1.0               </td><td>-2.0                </td><td>0.0              </td><td>0.0                </td><td>0.0                  </td><td>-2.0              </td><td>-2.0              </td><td>1.0              </td><td>1.0                </td><td>-2.0             </td><td>0.0                </td><td>0.0              </td><td>1.0              </td><td>0.0               </td><td>0.0                  </td><td>1.0              </td><td>-2.0              </td><td>1.0               </td><td>0.0                </td><td>-1.0              </td><td>1.0               </td><td>-2.0                </td><td>0.0               </td><td>1.0                </td><td>1.0              </td><td>1.0               </td><td>0.0               </td><td>1.0               </td><td>1.0               </td><td>0.0               </td><td>1.0               </td><td>1.0               </td><td>0.0               </td><td>0.0                 </td><td>0.0                  </td><td>1.0               </td><td>0.0              </td><td>0.0              </td><td>-2.0                 </td><td>0.0                </td><td>0.0               </td><td>0.0                 </td><td>-2.0             </td><td>0.0              </td><td>0.0               </td><td>-2.0             </td><td>1.0               </td><td>1.0              </td><td>1.0               </td><td>0.0               </td><td>0.0                </td><td>1.0              </td><td>0.0                </td><td>1.0               </td><td>0.0                 </td><td>-2.0              </td><td>1.0               </td><td>1.0               </td><td>0.0               </td><td>-2.0                </td><td>0.0              </td><td>-1.0              </td><td>0.0                </td><td>-2.0              </td><td>1.0               </td><td>1.0               </td><td>0.0              </td><td>1.0               </td><td>1.0               </td><td>-2.0                 </td><td>1.0                 </td><td>-2.0             </td><td>0.0                </td><td>0.0               </td><td>0.0                </td><td>0.0               </td><td>0.0                </td><td>-2.0              </td><td>1.0               </td><td>0.0               </td><td>0.0                </td><td>0.0               </td><td>0.0              </td><td>0.0                 </td><td>1.0               </td><td>1.0               </td><td>0.0               </td><td>1.0                </td><td>0.0                </td><td>1.0              </td><td>0.0                </td><td>0.0                 </td><td>0.0              </td><td>1.0              </td><td>0.0               </td><td>0.0                 </td></tr>\n",
       "<tr><td>mean   </td><td>8541.999999999984</td><td>        </td><td>          </td><td>           </td><td>            </td><td>            </td><td>            </td><td>            </td><td>            </td><td>            </td><td>            </td><td>            </td><td>            </td><td>            </td><td>           </td><td>            </td><td>            </td><td>            </td><td>            </td><td>            </td><td>            </td><td>            </td><td>            </td><td>            </td><td>            </td><td>           </td><td>            </td><td>            </td><td>            </td><td>            </td><td>           </td><td>           </td><td>           </td><td>           </td><td>           </td><td>           </td><td>           </td><td>          </td><td>           </td><td>           </td><td>           </td><td>           </td><td>           </td><td>           </td><td>           </td><td>           </td><td>           </td><td>           </td><td>          </td><td>           </td><td>           </td><td>           </td><td>           </td><td>           </td><td>           </td><td>           </td><td>           </td><td>           </td><td>           </td><td>          </td><td>           </td><td>           </td><td>           </td><td>           </td><td>           </td><td>           </td><td>           </td><td>           </td><td>           </td><td>           </td><td>          </td><td>           </td><td>           </td><td>           </td><td>           </td><td>           </td><td>           </td><td>           </td><td>           </td><td>           </td><td>           </td><td>          </td><td>           </td><td>           </td><td>           </td><td>           </td><td>           </td><td>           </td><td>           </td><td>           </td><td>           </td><td>           </td><td>          </td><td>           </td><td>           </td><td>           </td><td>           </td><td>           </td><td>           </td><td>           </td><td>           </td><td>           </td><td>           </td><td>          </td><td>           </td><td>           </td><td>           </td><td>           </td><td>           </td><td>           </td><td>           </td><td>           </td><td>           </td><td>           </td><td>          </td><td>           </td><td>           </td><td>           </td><td>           </td><td>           </td><td>           </td><td>           </td><td>           </td><td>           </td><td>           </td><td>1.139553942515954 </td><td>5.557454779605455</td><td>1.3012936837791955</td><td>0.013522215067611075</td><td>6.0157466487150915</td><td>0.29438623192647667</td><td>6.824211204121073 </td><td>4.253936662178776 </td><td>4.8272551659544485</td><td>0.9992975472692154 </td><td>0.35883626997599954</td><td>10.350348299479025</td><td>-0.18193525727331267</td><td>10.42650588304161</td><td>0.06480126441491542</td><td>5.853772756541591e-05</td><td>2.5559327986887603</td><td>2.8179476672715573</td><td>5.0886846572616  </td><td>1.1506175730258121 </td><td>6.730902066381785</td><td>0.09834338230989872</td><td>6.367499853655679</td><td>8.498097523854128</td><td>3.7060235321664843</td><td>0.0019317450096587251</td><td>9.078264941754957</td><td>1.8291283732365493</td><td>1.3876953696657495</td><td>0.28273722414095886</td><td>1.9822045308201135</td><td>10.421413100743413</td><td>-0.19569162325118533</td><td>6.47684832874788  </td><td>1.187847567757419  </td><td>9.140022244336459</td><td>1.2658198208745515</td><td>0.3202599075103907</td><td>2.391090557864541 </td><td>10.259848972662864</td><td>2.876426857109407 </td><td>10.342035942164722</td><td>10.329508868465714</td><td>0.2728443481824032</td><td>0.011649007785517768</td><td>0.0017561318269624774</td><td>7.253878124451202 </td><td>5.999765849089736</td><td>6.153544459404081</td><td>5.853772756541383e-05</td><td>0.02435169466721304</td><td>0.5115612011941694</td><td>0.017502780542059358</td><td>2.472633612363168</td><td>6.777907861616825</td><td>3.3439091494468194</td><td>4.868290112977805</td><td>6.3988760756307554</td><td>5.839021249195099</td><td>6.236550957091843 </td><td>3.6023532166481265</td><td>0.9903412749517065 </td><td>6.619738921735064</td><td>0.01562957325996605</td><td>2.8672949716092053</td><td>0.025054147397998022</td><td>1.4659603114207085</td><td>4.609202130773292 </td><td>10.351401978575183</td><td>1.3559093835977287</td><td>-0.18158403090792005</td><td>8.591816425686346</td><td>2.7866299830240573</td><td>1.0134636773400447 </td><td>4.843470116490082 </td><td>6.638178305918163 </td><td>7.624597553122983 </td><td>2.693964760288004</td><td>1.0043317918398407</td><td>1.900778551776621 </td><td>0.0029268863782707954</td><td>1.0000585377275655  </td><td>9.989931510858769</td><td>1.0039220277468817 </td><td>1.9639992975472658</td><td>0.16888134402622487</td><td>10.468301820523317</td><td>0.20306737692442783</td><td>4.761985599719019 </td><td>10.284142129602536</td><td>1.038225136100214 </td><td>0.05531815254931804</td><td>0.4382134285547035</td><td>6.780015219809172</td><td>0.030732306971843353</td><td>4.306093777439564 </td><td>1.973306796230172 </td><td>1.25551718082304  </td><td>1.0365860797283837 </td><td>0.03535678744951123</td><td>9.299830240590058</td><td>0.11818767195457472</td><td>0.006907451852719078</td><td>3.10724111689984 </td><td>6.8629046420418  </td><td>10.418720365275435</td><td>0.017854006907451852</td></tr>\n",
       "<tr><td>maxs   </td><td>17083.0          </td><td>        </td><td>          </td><td>           </td><td>            </td><td>            </td><td>            </td><td>            </td><td>            </td><td>            </td><td>            </td><td>            </td><td>            </td><td>            </td><td>           </td><td>            </td><td>            </td><td>            </td><td>            </td><td>            </td><td>            </td><td>            </td><td>            </td><td>            </td><td>            </td><td>           </td><td>            </td><td>            </td><td>            </td><td>            </td><td>           </td><td>           </td><td>           </td><td>           </td><td>           </td><td>           </td><td>           </td><td>          </td><td>           </td><td>           </td><td>           </td><td>           </td><td>           </td><td>           </td><td>           </td><td>           </td><td>           </td><td>           </td><td>          </td><td>           </td><td>           </td><td>           </td><td>           </td><td>           </td><td>           </td><td>           </td><td>           </td><td>           </td><td>           </td><td>          </td><td>           </td><td>           </td><td>           </td><td>           </td><td>           </td><td>           </td><td>           </td><td>           </td><td>           </td><td>           </td><td>          </td><td>           </td><td>           </td><td>           </td><td>           </td><td>           </td><td>           </td><td>           </td><td>           </td><td>           </td><td>           </td><td>          </td><td>           </td><td>           </td><td>           </td><td>           </td><td>           </td><td>           </td><td>           </td><td>           </td><td>           </td><td>           </td><td>          </td><td>           </td><td>           </td><td>           </td><td>           </td><td>           </td><td>           </td><td>           </td><td>           </td><td>           </td><td>           </td><td>          </td><td>           </td><td>           </td><td>           </td><td>           </td><td>           </td><td>           </td><td>           </td><td>           </td><td>           </td><td>           </td><td>          </td><td>           </td><td>           </td><td>           </td><td>           </td><td>           </td><td>           </td><td>           </td><td>           </td><td>           </td><td>           </td><td>11.0              </td><td>12.0             </td><td>3.0               </td><td>1.0                 </td><td>12.0              </td><td>2.0                </td><td>14.0              </td><td>11.0              </td><td>19.0              </td><td>2.0                </td><td>1.0                </td><td>20.0              </td><td>4.0                 </td><td>20.0             </td><td>1.0                </td><td>1.0                  </td><td>12.0              </td><td>15.0              </td><td>11.0             </td><td>3.0                </td><td>18.0             </td><td>1.0                </td><td>19.0             </td><td>18.0             </td><td>12.0              </td><td>1.0                  </td><td>18.0             </td><td>18.0              </td><td>4.0               </td><td>2.0                </td><td>12.0              </td><td>20.0              </td><td>3.0                 </td><td>9.0               </td><td>3.0                </td><td>18.0             </td><td>4.0               </td><td>4.0               </td><td>6.0               </td><td>20.0              </td><td>20.0              </td><td>20.0              </td><td>20.0              </td><td>4.0               </td><td>2.0                 </td><td>1.0                  </td><td>15.0              </td><td>19.0             </td><td>15.0             </td><td>5.0                  </td><td>2.0                </td><td>2.0               </td><td>1.0                 </td><td>16.0             </td><td>18.0             </td><td>10.0              </td><td>19.0             </td><td>13.0              </td><td>13.0             </td><td>12.0              </td><td>9.0               </td><td>2.0                </td><td>12.0             </td><td>2.0                </td><td>5.0               </td><td>4.0                 </td><td>10.0              </td><td>7.0               </td><td>20.0              </td><td>5.0               </td><td>3.0                 </td><td>18.0             </td><td>20.0              </td><td>2.0                </td><td>19.0              </td><td>12.0              </td><td>15.0              </td><td>9.0              </td><td>2.0               </td><td>3.0               </td><td>2.0                  </td><td>2.0                 </td><td>20.0             </td><td>2.0                </td><td>7.0               </td><td>2.0                </td><td>20.0              </td><td>3.0                </td><td>18.0              </td><td>20.0              </td><td>2.0               </td><td>2.0                </td><td>1.0               </td><td>16.0             </td><td>1.0                 </td><td>8.0               </td><td>4.0               </td><td>3.0               </td><td>2.0                </td><td>2.0                </td><td>18.0             </td><td>3.0                </td><td>1.0                 </td><td>11.0             </td><td>16.0             </td><td>20.0              </td><td>1.0                 </td></tr>\n",
       "<tr><td>sigma  </td><td>4931.581659738243</td><td>        </td><td>          </td><td>           </td><td>            </td><td>            </td><td>            </td><td>            </td><td>            </td><td>            </td><td>            </td><td>            </td><td>            </td><td>            </td><td>           </td><td>            </td><td>            </td><td>            </td><td>            </td><td>            </td><td>            </td><td>            </td><td>            </td><td>            </td><td>            </td><td>           </td><td>            </td><td>            </td><td>            </td><td>            </td><td>           </td><td>           </td><td>           </td><td>           </td><td>           </td><td>           </td><td>           </td><td>          </td><td>           </td><td>           </td><td>           </td><td>           </td><td>           </td><td>           </td><td>           </td><td>           </td><td>           </td><td>           </td><td>          </td><td>           </td><td>           </td><td>           </td><td>           </td><td>           </td><td>           </td><td>           </td><td>           </td><td>           </td><td>           </td><td>          </td><td>           </td><td>           </td><td>           </td><td>           </td><td>           </td><td>           </td><td>           </td><td>           </td><td>           </td><td>           </td><td>          </td><td>           </td><td>           </td><td>           </td><td>           </td><td>           </td><td>           </td><td>           </td><td>           </td><td>           </td><td>           </td><td>          </td><td>           </td><td>           </td><td>           </td><td>           </td><td>           </td><td>           </td><td>           </td><td>           </td><td>           </td><td>           </td><td>          </td><td>           </td><td>           </td><td>           </td><td>           </td><td>           </td><td>           </td><td>           </td><td>           </td><td>           </td><td>           </td><td>          </td><td>           </td><td>           </td><td>           </td><td>           </td><td>           </td><td>           </td><td>           </td><td>           </td><td>           </td><td>           </td><td>          </td><td>           </td><td>           </td><td>           </td><td>           </td><td>           </td><td>           </td><td>           </td><td>           </td><td>           </td><td>           </td><td>2.4739753431313436</td><td>3.050528294248183</td><td>0.5270041451633445</td><td>0.11549954835015247 </td><td>2.831310504915116 </td><td>0.4691970411895787 </td><td>3.7306979433763177</td><td>2.9874500676224196</td><td>6.187302214932383 </td><td>0.08024358864573972</td><td>0.47967308664662855</td><td>5.784535041989894 </td><td>1.6332538567718196  </td><td>5.746816786787402</td><td>0.24618206323720837</td><td>0.007650995200979799 </td><td>4.457236125887194 </td><td>5.511214191682017 </td><td>3.228475802745437</td><td>0.41973482135213325</td><td>5.925917175281109</td><td>0.29778709244145846</td><td>6.383056048212385</td><td>5.598009080467778</td><td>3.6740963952273433</td><td>0.04391043428394752  </td><td>4.917421103690606</td><td>5.92260817021062  </td><td>0.6738849461587579</td><td>0.579595844849873  </td><td>3.7602187988071627</td><td>5.794065973786528 </td><td>1.471120797189073   </td><td>2.3969890168045977</td><td>0.43687035277310166</td><td>5.080288906161806</td><td>0.7431501265613594</td><td>0.6187021081890652</td><td>1.3721117974209114</td><td>5.718156585934717 </td><td>5.5592209158229755</td><td>5.805669684985209 </td><td>5.845141816752134 </td><td>0.6433065931098965</td><td>0.10838886946186967 </td><td>0.04187063951520719  </td><td>3.8493612065546645</td><td>6.336521478921939</td><td>4.74157262929576 </td><td>0.37208846636759124  </td><td>0.16119753212616603</td><td>0.5298968726372433</td><td>0.13113900988801308 </td><td>4.692349645388535</td><td>6.017806104151572</td><td>2.821988420973609 </td><td>7.088596064568773</td><td>3.286054399965464 </td><td>3.375456609069359</td><td>2.6617787304685825</td><td>1.9817364414332932</td><td>0.11639068928241275</td><td>2.688440958916363</td><td>0.12451213869001214</td><td>0.8108183497207538</td><td>0.19941326312222518 </td><td>3.5922694378878424</td><td>1.2675886645216365</td><td>5.800075971399737 </td><td>1.0984782330593525</td><td>1.5199320895137438  </td><td>5.205915235993148</td><td>5.874528463406766 </td><td>0.12499932190702144</td><td>7.1212648464441095</td><td>2.6792225055663508</td><td>3.7569086663539917</td><td>3.037698274146515</td><td>0.0656755655392574</td><td>0.3194161454898796</td><td>0.19354010352076426  </td><td>0.007650995200979798</td><td>6.044290090745239</td><td>0.08613561058391465</td><td>2.1206835892806475</td><td>0.3866536856405037 </td><td>5.773672961254203 </td><td>0.4491832125651697 </td><td>6.7563871070086545</td><td>5.741253658087005 </td><td>0.1986429469669905</td><td>0.24564159482108483</td><td>0.4961822562245437</td><td>4.983730098495697</td><td>0.17259657034287043 </td><td>2.0803781026206565</td><td>0.7564973567280348</td><td>0.5006533318337489</td><td>0.18774877344496219</td><td>0.18563385629261236</td><td>5.065501580149793</td><td>0.3712520301858145 </td><td>0.08282596536509162 </td><td>3.293576878110178</td><td>4.982893830459656</td><td>5.806695127413456 </td><td>0.1324245742982475  </td></tr>\n",
       "<tr><td>zeros  </td><td>0                </td><td>        </td><td>          </td><td>           </td><td>            </td><td>            </td><td>            </td><td>            </td><td>            </td><td>            </td><td>            </td><td>            </td><td>            </td><td>            </td><td>           </td><td>            </td><td>            </td><td>            </td><td>            </td><td>            </td><td>            </td><td>            </td><td>            </td><td>            </td><td>            </td><td>           </td><td>            </td><td>            </td><td>            </td><td>            </td><td>           </td><td>           </td><td>           </td><td>           </td><td>           </td><td>           </td><td>           </td><td>          </td><td>           </td><td>           </td><td>           </td><td>           </td><td>           </td><td>           </td><td>           </td><td>           </td><td>           </td><td>           </td><td>          </td><td>           </td><td>           </td><td>           </td><td>           </td><td>           </td><td>           </td><td>           </td><td>           </td><td>           </td><td>           </td><td>          </td><td>           </td><td>           </td><td>           </td><td>           </td><td>           </td><td>           </td><td>           </td><td>           </td><td>           </td><td>           </td><td>          </td><td>           </td><td>           </td><td>           </td><td>           </td><td>           </td><td>           </td><td>           </td><td>           </td><td>           </td><td>           </td><td>          </td><td>           </td><td>           </td><td>           </td><td>           </td><td>           </td><td>           </td><td>           </td><td>           </td><td>           </td><td>           </td><td>          </td><td>           </td><td>           </td><td>           </td><td>           </td><td>           </td><td>           </td><td>           </td><td>           </td><td>           </td><td>           </td><td>          </td><td>           </td><td>           </td><td>           </td><td>           </td><td>           </td><td>           </td><td>           </td><td>           </td><td>           </td><td>           </td><td>          </td><td>           </td><td>           </td><td>           </td><td>           </td><td>           </td><td>           </td><td>           </td><td>           </td><td>           </td><td>           </td><td>12495             </td><td>0                </td><td>0                 </td><td>16852               </td><td>63                </td><td>12160              </td><td>1                 </td><td>0                 </td><td>8269              </td><td>61                 </td><td>10953              </td><td>0                 </td><td>0                   </td><td>1                </td><td>15976              </td><td>17082                </td><td>22                </td><td>62                </td><td>0                </td><td>0                  </td><td>4046             </td><td>15403              </td><td>5375             </td><td>0                </td><td>2649              </td><td>17050                </td><td>0                </td><td>0                 </td><td>0                 </td><td>13390              </td><td>471               </td><td>0                 </td><td>1099                </td><td>298               </td><td>0                  </td><td>0                </td><td>0                 </td><td>12574             </td><td>0                 </td><td>0                 </td><td>12356             </td><td>0                 </td><td>0                 </td><td>13776             </td><td>16886               </td><td>17053                </td><td>0                 </td><td>6527             </td><td>352              </td><td>16218                </td><td>16686              </td><td>8608              </td><td>16784               </td><td>11863            </td><td>3270             </td><td>3424              </td><td>153              </td><td>0                 </td><td>0                </td><td>0                 </td><td>377               </td><td>199                </td><td>0                </td><td>16817              </td><td>0                 </td><td>16742               </td><td>905               </td><td>0                 </td><td>0                 </td><td>1829              </td><td>1653                </td><td>490              </td><td>7177              </td><td>20                 </td><td>0                 </td><td>0                 </td><td>0                 </td><td>6042             </td><td>0                 </td><td>0                 </td><td>16608                </td><td>0                   </td><td>599              </td><td>30                 </td><td>7336              </td><td>14276              </td><td>2                 </td><td>13895              </td><td>0                 </td><td>0                 </td><td>23                </td><td>16207              </td><td>9597              </td><td>956              </td><td>16558               </td><td>0                 </td><td>0                 </td><td>3                 </td><td>0                  </td><td>16482              </td><td>0                </td><td>15295              </td><td>16965               </td><td>5522             </td><td>0                </td><td>93                </td><td>16778               </td></tr>\n",
       "<tr><td>missing</td><td>0                </td><td>5121    </td><td>0         </td><td>0          </td><td>0           </td><td>0           </td><td>0           </td><td>0           </td><td>0           </td><td>0           </td><td>0           </td><td>0           </td><td>0           </td><td>0           </td><td>0          </td><td>0           </td><td>0           </td><td>0           </td><td>0           </td><td>0           </td><td>0           </td><td>0           </td><td>0           </td><td>0           </td><td>0           </td><td>0          </td><td>0           </td><td>0           </td><td>0           </td><td>0           </td><td>0          </td><td>0          </td><td>0          </td><td>0          </td><td>0          </td><td>0          </td><td>0          </td><td>0         </td><td>0          </td><td>0          </td><td>0          </td><td>0          </td><td>0          </td><td>0          </td><td>0          </td><td>0          </td><td>0          </td><td>0          </td><td>0         </td><td>0          </td><td>0          </td><td>0          </td><td>0          </td><td>0          </td><td>0          </td><td>0          </td><td>0          </td><td>0          </td><td>0          </td><td>0         </td><td>0          </td><td>0          </td><td>0          </td><td>0          </td><td>0          </td><td>0          </td><td>0          </td><td>0          </td><td>0          </td><td>0          </td><td>0         </td><td>0          </td><td>0          </td><td>0          </td><td>0          </td><td>0          </td><td>0          </td><td>0          </td><td>0          </td><td>0          </td><td>0          </td><td>0         </td><td>0          </td><td>0          </td><td>0          </td><td>0          </td><td>0          </td><td>0          </td><td>0          </td><td>0          </td><td>0          </td><td>0          </td><td>0         </td><td>0          </td><td>0          </td><td>0          </td><td>0          </td><td>0          </td><td>0          </td><td>0          </td><td>0          </td><td>0          </td><td>0          </td><td>0         </td><td>0          </td><td>0          </td><td>0          </td><td>0          </td><td>0          </td><td>0          </td><td>0          </td><td>0          </td><td>0          </td><td>0          </td><td>0         </td><td>0          </td><td>0          </td><td>0          </td><td>0          </td><td>0          </td><td>0          </td><td>0          </td><td>0          </td><td>0          </td><td>0          </td><td>0                 </td><td>0                </td><td>0                 </td><td>0                   </td><td>0                 </td><td>0                  </td><td>0                 </td><td>0                 </td><td>0                 </td><td>0                  </td><td>0                  </td><td>0                 </td><td>0                   </td><td>0                </td><td>0                  </td><td>0                    </td><td>0                 </td><td>0                 </td><td>0                </td><td>0                  </td><td>0                </td><td>0                  </td><td>0                </td><td>0                </td><td>0                 </td><td>0                    </td><td>0                </td><td>0                 </td><td>0                 </td><td>0                  </td><td>0                 </td><td>0                 </td><td>0                   </td><td>0                 </td><td>0                  </td><td>0                </td><td>0                 </td><td>0                 </td><td>0                 </td><td>0                 </td><td>0                 </td><td>0                 </td><td>0                 </td><td>0                 </td><td>0                   </td><td>0                    </td><td>0                 </td><td>0                </td><td>0                </td><td>0                    </td><td>0                  </td><td>0                 </td><td>0                   </td><td>0                </td><td>0                </td><td>0                 </td><td>0                </td><td>0                 </td><td>0                </td><td>0                 </td><td>0                 </td><td>0                  </td><td>0                </td><td>0                  </td><td>0                 </td><td>0                   </td><td>0                 </td><td>0                 </td><td>0                 </td><td>0                 </td><td>0                   </td><td>0                </td><td>0                 </td><td>0                  </td><td>0                 </td><td>0                 </td><td>0                 </td><td>0                </td><td>0                 </td><td>0                 </td><td>0                    </td><td>0                   </td><td>0                </td><td>0                  </td><td>0                 </td><td>0                  </td><td>0                 </td><td>0                  </td><td>0                 </td><td>0                 </td><td>0                 </td><td>0                  </td><td>0                 </td><td>0                </td><td>0                   </td><td>0                 </td><td>0                 </td><td>0                 </td><td>0                  </td><td>0                  </td><td>0                </td><td>0                  </td><td>0                   </td><td>0                </td><td>0                </td><td>0                 </td><td>0                   </td></tr>\n",
       "<tr><td>0      </td><td>1.0              </td><td>0       </td><td>G         </td><td>V          </td><td>q           </td><td>T           </td><td>F           </td><td>a           </td><td>t           </td><td>h           </td><td>Q           </td><td>Z           </td><td>P           </td><td>C           </td><td>T          </td><td>q           </td><td>e           </td><td>M           </td><td>h           </td><td>D           </td><td>p           </td><td>n           </td><td>s           </td><td>a           </td><td>z           </td><td>n          </td><td>q           </td><td>j           </td><td>W           </td><td>n           </td><td>u          </td><td>h          </td><td>C          </td><td>K          </td><td>N          </td><td>o          </td><td>I          </td><td>V         </td><td>Q          </td><td>S          </td><td>F          </td><td>U          </td><td>x          </td><td>r          </td><td>V          </td><td>j          </td><td>U          </td><td>G          </td><td>q         </td><td>e          </td><td>t          </td><td>D          </td><td>p          </td><td>n          </td><td>X          </td><td>Q          </td><td>U          </td><td>d          </td><td>Q          </td><td>S         </td><td>W          </td><td>p          </td><td>q          </td><td>p          </td><td>k          </td><td>R          </td><td>e          </td><td>A          </td><td>O          </td><td>s          </td><td>Q         </td><td>F          </td><td>b          </td><td>E          </td><td>h          </td><td>b          </td><td>a          </td><td>I          </td><td>N          </td><td>P          </td><td>E          </td><td>K         </td><td>E          </td><td>u          </td><td>D          </td><td>y          </td><td>P          </td><td>R          </td><td>B          </td><td>d          </td><td>m          </td><td>e          </td><td>Q         </td><td>h          </td><td>p          </td><td>o          </td><td>w          </td><td>S          </td><td>q          </td><td>l          </td><td>K          </td><td>b          </td><td>G          </td><td>d         </td><td>w          </td><td>D          </td><td>c          </td><td>h          </td><td>Y          </td><td>E          </td><td>f          </td><td>E          </td><td>L          </td><td>l          </td><td>Y         </td><td>d          </td><td>M          </td><td>f          </td><td>a          </td><td>R          </td><td>M          </td><td>u          </td><td>a          </td><td>E          </td><td>f          </td><td>0.0               </td><td>6.0              </td><td>1.0               </td><td>0.0                 </td><td>6.0               </td><td>0.0                </td><td>6.0               </td><td>8.0               </td><td>0.0               </td><td>1.0                </td><td>0.0                </td><td>16.0              </td><td>1.0                 </td><td>19.0             </td><td>0.0                </td><td>0.0                  </td><td>1.0               </td><td>3.0               </td><td>9.0              </td><td>1.0                </td><td>3.0              </td><td>0.0                </td><td>0.0              </td><td>11.0             </td><td>2.0               </td><td>0.0                  </td><td>3.0              </td><td>-1.0              </td><td>1.0               </td><td>0.0                </td><td>3.0               </td><td>18.0              </td><td>1.0                 </td><td>8.0               </td><td>1.0                </td><td>7.0              </td><td>2.0               </td><td>0.0               </td><td>1.0               </td><td>20.0              </td><td>0.0               </td><td>10.0              </td><td>10.0              </td><td>1.0               </td><td>0.0                 </td><td>0.0                  </td><td>7.0               </td><td>0.0              </td><td>11.0             </td><td>0.0                  </td><td>0.0                </td><td>0.0               </td><td>0.0                 </td><td>0.0              </td><td>14.0             </td><td>4.0               </td><td>13.0             </td><td>3.0               </td><td>7.0              </td><td>12.0              </td><td>7.0               </td><td>1.0                </td><td>1.0              </td><td>0.0                </td><td>3.0               </td><td>0.0                 </td><td>3.0               </td><td>7.0               </td><td>12.0              </td><td>0.0               </td><td>1.0                 </td><td>0.0              </td><td>-1.0              </td><td>1.0                </td><td>11.0              </td><td>12.0              </td><td>7.0               </td><td>7.0              </td><td>1.0               </td><td>2.0               </td><td>0.0                  </td><td>1.0                 </td><td>5.0              </td><td>1.0                </td><td>1.0               </td><td>0.0                </td><td>9.0               </td><td>0.0                </td><td>17.0              </td><td>20.0              </td><td>1.0               </td><td>0.0                </td><td>0.0               </td><td>16.0             </td><td>0.0                 </td><td>8.0               </td><td>2.0               </td><td>1.0               </td><td>1.0                </td><td>0.0                </td><td>10.0             </td><td>0.0                </td><td>0.0                 </td><td>0.0              </td><td>7.0              </td><td>10.0              </td><td>0.0                 </td></tr>\n",
       "<tr><td>1      </td><td>2.0              </td><td>0       </td><td>G         </td><td>p          </td><td>q           </td><td>v           </td><td>F           </td><td>a           </td><td>t           </td><td>i           </td><td>H           </td><td>Z           </td><td>P           </td><td>s           </td><td>B          </td><td>q           </td><td>q           </td><td>f           </td><td>h           </td><td>D           </td><td>F           </td><td>n           </td><td>s           </td><td>d           </td><td>z           </td><td>v          </td><td>q           </td><td>j           </td><td>W           </td><td>n           </td><td>u          </td><td>h          </td><td>C          </td><td>K          </td><td>N          </td><td>f          </td><td>I          </td><td>I         </td><td>g          </td><td>S          </td><td>F          </td><td>U          </td><td>x          </td><td>r          </td><td>S          </td><td>j          </td><td>N          </td><td>G          </td><td>q         </td><td>e          </td><td>t          </td><td>v          </td><td>p          </td><td>f          </td><td>X          </td><td>o          </td><td>U          </td><td>H          </td><td>Q          </td><td>S         </td><td>W          </td><td>j          </td><td>j          </td><td>T          </td><td>N          </td><td>J          </td><td>H          </td><td>j          </td><td>p          </td><td>s          </td><td>Q         </td><td>F          </td><td>b          </td><td>E          </td><td>B          </td><td>i          </td><td>a          </td><td>I          </td><td>N          </td><td>S          </td><td>o          </td><td>i         </td><td>E          </td><td>O          </td><td>B          </td><td>m          </td><td>U          </td><td>R          </td><td>O          </td><td>d          </td><td>X          </td><td>Q          </td><td>Q         </td><td>F          </td><td>p          </td><td>T          </td><td>c          </td><td>n          </td><td>p          </td><td>l          </td><td>K          </td><td>s          </td><td>C          </td><td>d         </td><td>l          </td><td>D          </td><td>c          </td><td>h          </td><td>q          </td><td>E          </td><td>f          </td><td>E          </td><td>L          </td><td>i          </td><td>I         </td><td>H          </td><td>M          </td><td>Q          </td><td>a          </td><td>E          </td><td>M          </td><td>u          </td><td>a          </td><td>E          </td><td>f          </td><td>0.0               </td><td>11.0             </td><td>1.0               </td><td>0.0                 </td><td>7.0               </td><td>1.0                </td><td>5.0               </td><td>1.0               </td><td>5.0               </td><td>1.0                </td><td>1.0                </td><td>7.0               </td><td>-2.0                </td><td>2.0              </td><td>0.0                </td><td>0.0                  </td><td>-2.0              </td><td>-2.0              </td><td>1.0              </td><td>1.0                </td><td>0.0              </td><td>0.0                </td><td>19.0             </td><td>2.0              </td><td>10.0              </td><td>0.0                  </td><td>15.0             </td><td>-2.0              </td><td>1.0               </td><td>0.0                </td><td>-1.0              </td><td>15.0              </td><td>-2.0                </td><td>5.0               </td><td>1.0                </td><td>5.0              </td><td>1.0               </td><td>0.0               </td><td>4.0               </td><td>3.0               </td><td>6.0               </td><td>5.0               </td><td>19.0              </td><td>0.0               </td><td>0.0                 </td><td>0.0                  </td><td>3.0               </td><td>10.0             </td><td>5.0              </td><td>0.0                  </td><td>0.0                </td><td>0.0               </td><td>0.0                 </td><td>8.0              </td><td>1.0              </td><td>0.0               </td><td>-2.0             </td><td>8.0               </td><td>3.0              </td><td>1.0               </td><td>3.0               </td><td>1.0                </td><td>12.0             </td><td>0.0                </td><td>1.0               </td><td>0.0                 </td><td>-2.0              </td><td>2.0               </td><td>2.0               </td><td>3.0               </td><td>-2.0                </td><td>13.0             </td><td>20.0              </td><td>1.0                </td><td>-2.0              </td><td>1.0               </td><td>1.0               </td><td>1.0              </td><td>1.0               </td><td>2.0               </td><td>0.0                  </td><td>1.0                 </td><td>18.0             </td><td>1.0                </td><td>0.0               </td><td>1.0                </td><td>3.0               </td><td>0.0                </td><td>-2.0              </td><td>2.0               </td><td>1.0               </td><td>0.0                </td><td>0.0               </td><td>8.0              </td><td>0.0                 </td><td>5.0               </td><td>2.0               </td><td>1.0               </td><td>1.0                </td><td>0.0                </td><td>4.0              </td><td>0.0                </td><td>0.0                 </td><td>0.0              </td><td>16.0             </td><td>2.0               </td><td>0.0                 </td></tr>\n",
       "<tr><td>2      </td><td>3.0              </td><td>0       </td><td>G         </td><td>p          </td><td>q           </td><td>T           </td><td>F           </td><td>I           </td><td>t           </td><td>h           </td><td>H           </td><td>F           </td><td>P           </td><td>s           </td><td>T          </td><td>q           </td><td>q           </td><td>f           </td><td>B           </td><td>D           </td><td>F           </td><td>n           </td><td>s           </td><td>d           </td><td>z           </td><td>M          </td><td>q           </td><td>j           </td><td>W           </td><td>n           </td><td>u          </td><td>h          </td><td>C          </td><td>q          </td><td>N          </td><td>f          </td><td>I          </td><td>I         </td><td>g          </td><td>w          </td><td>g          </td><td>U          </td><td>q          </td><td>r          </td><td>V          </td><td>H          </td><td>N          </td><td>G          </td><td>L         </td><td>e          </td><td>t          </td><td>v          </td><td>p          </td><td>f          </td><td>X          </td><td>Q          </td><td>U          </td><td>H          </td><td>e          </td><td>S         </td><td>W          </td><td>p          </td><td>j          </td><td>E          </td><td>C          </td><td>R          </td><td>H          </td><td>j          </td><td>p          </td><td>s          </td><td>Q         </td><td>F          </td><td>b          </td><td>E          </td><td>B          </td><td>i          </td><td>a          </td><td>Y          </td><td>S          </td><td>P          </td><td>o          </td><td>L         </td><td>E          </td><td>a          </td><td>i          </td><td>m          </td><td>U          </td><td>b          </td><td>C          </td><td>J          </td><td>X          </td><td>Q          </td><td>Q         </td><td>F          </td><td>p          </td><td>T          </td><td>F          </td><td>n          </td><td>p          </td><td>l          </td><td>P          </td><td>s          </td><td>C          </td><td>h         </td><td>l          </td><td>D          </td><td>c          </td><td>h          </td><td>q          </td><td>X          </td><td>i          </td><td>E          </td><td>L          </td><td>i          </td><td>I         </td><td>H          </td><td>M          </td><td>Q          </td><td>M          </td><td>E          </td><td>M          </td><td>q          </td><td>a          </td><td>E          </td><td>Y          </td><td>0.0               </td><td>3.0              </td><td>1.0               </td><td>0.0                 </td><td>6.0               </td><td>0.0                </td><td>8.0               </td><td>9.0               </td><td>0.0               </td><td>1.0                </td><td>0.0                </td><td>1.0               </td><td>-2.0                </td><td>4.0              </td><td>0.0                </td><td>0.0                  </td><td>-2.0              </td><td>-2.0              </td><td>10.0             </td><td>1.0                </td><td>10.0             </td><td>0.0                </td><td>0.0              </td><td>5.0              </td><td>3.0               </td><td>0.0                  </td><td>3.0              </td><td>-2.0              </td><td>1.0               </td><td>0.0                </td><td>-1.0              </td><td>12.0              </td><td>-2.0                </td><td>8.0               </td><td>1.0                </td><td>10.0             </td><td>1.0               </td><td>0.0               </td><td>2.0               </td><td>10.0              </td><td>0.0               </td><td>2.0               </td><td>4.0               </td><td>0.0               </td><td>0.0                 </td><td>0.0                  </td><td>10.0              </td><td>0.0              </td><td>7.0              </td><td>0.0                  </td><td>0.0                </td><td>0.0               </td><td>0.0                 </td><td>0.0              </td><td>3.0              </td><td>4.0               </td><td>-2.0             </td><td>1.0               </td><td>10.0             </td><td>6.0               </td><td>3.0               </td><td>1.0                </td><td>7.0              </td><td>0.0                </td><td>3.0               </td><td>0.0                 </td><td>-2.0              </td><td>5.0               </td><td>11.0              </td><td>1.0               </td><td>-2.0                </td><td>9.0              </td><td>-1.0              </td><td>1.0                </td><td>-2.0              </td><td>7.0               </td><td>7.0               </td><td>3.0              </td><td>1.0               </td><td>2.0               </td><td>0.0                  </td><td>1.0                 </td><td>4.0              </td><td>1.0                </td><td>4.0               </td><td>0.0                </td><td>3.0               </td><td>1.0                </td><td>-2.0              </td><td>11.0              </td><td>1.0               </td><td>0.0                </td><td>1.0               </td><td>15.0             </td><td>0.0                 </td><td>7.0               </td><td>1.0               </td><td>1.0               </td><td>1.0                </td><td>0.0                </td><td>13.0             </td><td>0.0                </td><td>0.0                 </td><td>0.0              </td><td>7.0              </td><td>3.0               </td><td>0.0                 </td></tr>\n",
       "<tr><td>3      </td><td>4.0              </td><td>1       </td><td>G         </td><td>p          </td><td>q           </td><td>T           </td><td>F           </td><td>z           </td><td>t           </td><td>h           </td><td>H           </td><td>Z           </td><td>P           </td><td>s           </td><td>T          </td><td>q           </td><td>q           </td><td>f           </td><td>h           </td><td>D           </td><td>F           </td><td>n           </td><td>s           </td><td>d           </td><td>z           </td><td>M          </td><td>q           </td><td>j           </td><td>W           </td><td>n           </td><td>u          </td><td>h          </td><td>C          </td><td>K          </td><td>N          </td><td>f          </td><td>I          </td><td>I         </td><td>g          </td><td>S          </td><td>g          </td><td>U          </td><td>q          </td><td>r          </td><td>V          </td><td>j          </td><td>N          </td><td>G          </td><td>q         </td><td>e          </td><td>t          </td><td>v          </td><td>p          </td><td>f          </td><td>X          </td><td>Q          </td><td>U          </td><td>H          </td><td>Q          </td><td>S         </td><td>W          </td><td>p          </td><td>j          </td><td>p          </td><td>C          </td><td>R          </td><td>H          </td><td>A          </td><td>p          </td><td>s          </td><td>Q         </td><td>F          </td><td>b          </td><td>E          </td><td>B          </td><td>i          </td><td>a          </td><td>Y          </td><td>N          </td><td>P          </td><td>o          </td><td>i         </td><td>E          </td><td>u          </td><td>e          </td><td>s          </td><td>U          </td><td>R          </td><td>O          </td><td>d          </td><td>X          </td><td>e          </td><td>Q         </td><td>h          </td><td>p          </td><td>T          </td><td>w          </td><td>n          </td><td>p          </td><td>l          </td><td>K          </td><td>s          </td><td>C          </td><td>h         </td><td>l          </td><td>D          </td><td>c          </td><td>h          </td><td>o          </td><td>E          </td><td>f          </td><td>E          </td><td>L          </td><td>i          </td><td>I         </td><td>H          </td><td>M          </td><td>Q          </td><td>a          </td><td>E          </td><td>M          </td><td>u          </td><td>a          </td><td>E          </td><td>f          </td><td>0.0               </td><td>8.0              </td><td>1.0               </td><td>0.0                 </td><td>6.0               </td><td>0.0                </td><td>8.0               </td><td>1.0               </td><td>0.0               </td><td>1.0                </td><td>0.0                </td><td>12.0              </td><td>-2.0                </td><td>8.0              </td><td>0.0                </td><td>0.0                  </td><td>-2.0              </td><td>-2.0              </td><td>3.0              </td><td>1.0                </td><td>7.0              </td><td>0.0                </td><td>0.0              </td><td>8.0              </td><td>4.0               </td><td>0.0                  </td><td>7.0              </td><td>-2.0              </td><td>1.0               </td><td>0.0                </td><td>-1.0              </td><td>19.0              </td><td>-2.0                </td><td>6.0               </td><td>1.0                </td><td>17.0             </td><td>1.0               </td><td>1.0               </td><td>1.0               </td><td>16.0              </td><td>0.0               </td><td>15.0              </td><td>7.0               </td><td>0.0               </td><td>0.0                 </td><td>0.0                  </td><td>6.0               </td><td>0.0              </td><td>2.0              </td><td>0.0                  </td><td>0.0                </td><td>0.0               </td><td>0.0                 </td><td>0.0              </td><td>5.0              </td><td>4.0               </td><td>-2.0             </td><td>5.0               </td><td>6.0              </td><td>10.0              </td><td>3.0               </td><td>1.0                </td><td>10.0             </td><td>1.0                </td><td>3.0               </td><td>0.0                 </td><td>-2.0              </td><td>4.0               </td><td>5.0               </td><td>1.0               </td><td>-2.0                </td><td>11.0             </td><td>-1.0              </td><td>1.0                </td><td>-2.0              </td><td>11.0              </td><td>7.0               </td><td>6.0              </td><td>1.0               </td><td>2.0               </td><td>0.0                  </td><td>1.0                 </td><td>1.0              </td><td>1.0                </td><td>4.0               </td><td>0.0                </td><td>9.0               </td><td>0.0                </td><td>-2.0              </td><td>17.0              </td><td>1.0               </td><td>0.0                </td><td>0.0               </td><td>16.0             </td><td>0.0                 </td><td>1.0               </td><td>3.0               </td><td>1.0               </td><td>1.0                </td><td>0.0                </td><td>18.0             </td><td>0.0                </td><td>0.0                 </td><td>0.0              </td><td>11.0             </td><td>10.0              </td><td>0.0                 </td></tr>\n",
       "<tr><td>4      </td><td>6.0              </td><td>0       </td><td>G         </td><td>V          </td><td>Q           </td><td>T           </td><td>F           </td><td>a           </td><td>S           </td><td>h           </td><td>Q           </td><td>Z           </td><td>P           </td><td>C           </td><td>B          </td><td>q           </td><td>e           </td><td>M           </td><td>h           </td><td>D           </td><td>p           </td><td>n           </td><td>s           </td><td>P           </td><td>z           </td><td>v          </td><td>q           </td><td>j           </td><td>W           </td><td>n           </td><td>u          </td><td>h          </td><td>C          </td><td>K          </td><td>N          </td><td>a          </td><td>I          </td><td>V         </td><td>g          </td><td>S          </td><td>g          </td><td>U          </td><td>x          </td><td>r          </td><td>X          </td><td>j          </td><td>U          </td><td>G          </td><td>q         </td><td>e          </td><td>t          </td><td>v          </td><td>p          </td><td>I          </td><td>X          </td><td>o          </td><td>U          </td><td>d          </td><td>Q          </td><td>S         </td><td>W          </td><td>p          </td><td>q          </td><td>f          </td><td>N          </td><td>R          </td><td>e          </td><td>j          </td><td>O          </td><td>s          </td><td>Q         </td><td>F          </td><td>b          </td><td>E          </td><td>L          </td><td>b          </td><td>a          </td><td>Y          </td><td>N          </td><td>P          </td><td>E          </td><td>i         </td><td>E          </td><td>K          </td><td>s          </td><td>m          </td><td>o          </td><td>R          </td><td>C          </td><td>d          </td><td>m          </td><td>Q          </td><td>Q         </td><td>M          </td><td>p          </td><td>o          </td><td>w          </td><td>S          </td><td>q          </td><td>l          </td><td>K          </td><td>h          </td><td>G          </td><td>d         </td><td>B          </td><td>D          </td><td>c          </td><td>h          </td><td>q          </td><td>E          </td><td>f          </td><td>E          </td><td>L          </td><td>l          </td><td>Y         </td><td>d          </td><td>M          </td><td>f          </td><td>a          </td><td>R          </td><td>M          </td><td>u          </td><td>a          </td><td>E          </td><td>f          </td><td>0.0               </td><td>8.0              </td><td>1.0               </td><td>0.0                 </td><td>11.0              </td><td>0.0                </td><td>5.0               </td><td>3.0               </td><td>0.0               </td><td>1.0                </td><td>0.0                </td><td>16.0              </td><td>1.0                 </td><td>4.0              </td><td>0.0                </td><td>0.0                  </td><td>4.0               </td><td>3.0               </td><td>6.0              </td><td>1.0                </td><td>11.0             </td><td>0.0                </td><td>0.0              </td><td>5.0              </td><td>6.0               </td><td>0.0                  </td><td>2.0              </td><td>14.0              </td><td>1.0               </td><td>2.0                </td><td>1.0               </td><td>16.0              </td><td>1.0                 </td><td>6.0               </td><td>1.0                </td><td>16.0             </td><td>1.0               </td><td>0.0               </td><td>1.0               </td><td>19.0              </td><td>0.0               </td><td>1.0               </td><td>4.0               </td><td>0.0               </td><td>0.0                 </td><td>0.0                  </td><td>13.0              </td><td>0.0              </td><td>2.0              </td><td>0.0                  </td><td>0.0                </td><td>0.0               </td><td>0.0                 </td><td>0.0              </td><td>4.0              </td><td>3.0               </td><td>9.0              </td><td>5.0               </td><td>12.0             </td><td>11.0              </td><td>3.0               </td><td>1.0                </td><td>10.0             </td><td>0.0                </td><td>5.0               </td><td>0.0                 </td><td>0.0               </td><td>5.0               </td><td>8.0               </td><td>1.0               </td><td>1.0                 </td><td>11.0             </td><td>-1.0              </td><td>1.0                </td><td>5.0               </td><td>12.0              </td><td>7.0               </td><td>1.0              </td><td>1.0               </td><td>2.0               </td><td>0.0                  </td><td>1.0                 </td><td>1.0              </td><td>1.0                </td><td>0.0               </td><td>0.0                </td><td>1.0               </td><td>0.0                </td><td>8.0               </td><td>17.0              </td><td>1.0               </td><td>0.0                </td><td>0.0               </td><td>6.0              </td><td>0.0                 </td><td>1.0               </td><td>3.0               </td><td>1.0               </td><td>2.0                </td><td>0.0                </td><td>17.0             </td><td>0.0                </td><td>0.0                 </td><td>0.0              </td><td>4.0              </td><td>1.0               </td><td>0.0                 </td></tr>\n",
       "<tr><td>5      </td><td>7.0              </td><td>0       </td><td>G         </td><td>p          </td><td>q           </td><td>T           </td><td>F           </td><td>I           </td><td>t           </td><td>h           </td><td>H           </td><td>F           </td><td>P           </td><td>s           </td><td>T          </td><td>q           </td><td>q           </td><td>f           </td><td>h           </td><td>D           </td><td>F           </td><td>n           </td><td>s           </td><td>d           </td><td>z           </td><td>v          </td><td>q           </td><td>j           </td><td>W           </td><td>n           </td><td>u          </td><td>h          </td><td>C          </td><td>q          </td><td>N          </td><td>f          </td><td>I          </td><td>I         </td><td>g          </td><td>w          </td><td>g          </td><td>U          </td><td>q          </td><td>r          </td><td>V          </td><td>H          </td><td>N          </td><td>G          </td><td>L         </td><td>e          </td><td>t          </td><td>v          </td><td>p          </td><td>f          </td><td>X          </td><td>o          </td><td>U          </td><td>H          </td><td>e          </td><td>S         </td><td>W          </td><td>p          </td><td>j          </td><td>Q          </td><td>N          </td><td>R          </td><td>H          </td><td>A          </td><td>p          </td><td>s          </td><td>Q         </td><td>F          </td><td>b          </td><td>E          </td><td>B          </td><td>i          </td><td>a          </td><td>I          </td><td>N          </td><td>P          </td><td>o          </td><td>L         </td><td>E          </td><td>a          </td><td>D          </td><td>s          </td><td>U          </td><td>b          </td><td>O          </td><td>d          </td><td>X          </td><td>Q          </td><td>Q         </td><td>h          </td><td>p          </td><td>T          </td><td>c          </td><td>n          </td><td>p          </td><td>l          </td><td>P          </td><td>s          </td><td>C          </td><td>h         </td><td>l          </td><td>D          </td><td>c          </td><td>h          </td><td>o          </td><td>N          </td><td>i          </td><td>E          </td><td>L          </td><td>i          </td><td>I         </td><td>H          </td><td>M          </td><td>Q          </td><td>a          </td><td>E          </td><td>M          </td><td>q          </td><td>a          </td><td>E          </td><td>f          </td><td>0.0               </td><td>9.0              </td><td>1.0               </td><td>0.0                 </td><td>6.0               </td><td>0.0                </td><td>7.0               </td><td>1.0               </td><td>0.0               </td><td>1.0                </td><td>0.0                </td><td>18.0              </td><td>-2.0                </td><td>5.0              </td><td>0.0                </td><td>0.0                  </td><td>-2.0              </td><td>-2.0              </td><td>2.0              </td><td>1.0                </td><td>15.0             </td><td>0.0                </td><td>0.0              </td><td>10.0             </td><td>1.0               </td><td>0.0                  </td><td>12.0             </td><td>-2.0              </td><td>1.0               </td><td>0.0                </td><td>-1.0              </td><td>9.0               </td><td>-2.0                </td><td>7.0               </td><td>1.0                </td><td>2.0              </td><td>1.0               </td><td>1.0               </td><td>2.0               </td><td>8.0               </td><td>0.0               </td><td>18.0              </td><td>9.0               </td><td>0.0               </td><td>0.0                 </td><td>0.0                  </td><td>4.0               </td><td>0.0              </td><td>7.0              </td><td>0.0                  </td><td>0.0                </td><td>0.0               </td><td>0.0                 </td><td>0.0              </td><td>11.0             </td><td>4.0               </td><td>-2.0             </td><td>6.0               </td><td>4.0              </td><td>6.0               </td><td>2.0               </td><td>1.0                </td><td>7.0              </td><td>1.0                </td><td>3.0               </td><td>0.0                 </td><td>-2.0              </td><td>5.0               </td><td>16.0              </td><td>1.0               </td><td>-2.0                </td><td>16.0             </td><td>-1.0              </td><td>1.0                </td><td>-2.0              </td><td>7.0               </td><td>7.0               </td><td>7.0              </td><td>1.0               </td><td>2.0               </td><td>0.0                  </td><td>1.0                 </td><td>17.0             </td><td>1.0                </td><td>2.0               </td><td>0.0                </td><td>15.0              </td><td>0.0                </td><td>-2.0              </td><td>14.0              </td><td>1.0               </td><td>0.0                </td><td>1.0               </td><td>4.0              </td><td>0.0                 </td><td>1.0               </td><td>3.0               </td><td>1.0               </td><td>1.0                </td><td>1.0                </td><td>3.0              </td><td>0.0                </td><td>0.0                 </td><td>0.0              </td><td>15.0             </td><td>16.0              </td><td>0.0                 </td></tr>\n",
       "<tr><td>6      </td><td>8.0              </td><td>0       </td><td>G         </td><td>V          </td><td>q           </td><td>T           </td><td>F           </td><td>a           </td><td>t           </td><td>h           </td><td>Q           </td><td>F           </td><td>P           </td><td>C           </td><td>T          </td><td>q           </td><td>e           </td><td>M           </td><td>B           </td><td>D           </td><td>Z           </td><td>n           </td><td>s           </td><td>X           </td><td>z           </td><td>n          </td><td>q           </td><td>j           </td><td>W           </td><td>n           </td><td>u          </td><td>t          </td><td>C          </td><td>q          </td><td>N          </td><td>a          </td><td>I          </td><td>q         </td><td>g          </td><td>w          </td><td>g          </td><td>U          </td><td>x          </td><td>r          </td><td>V          </td><td>H          </td><td>U          </td><td>G          </td><td>L         </td><td>e          </td><td>t          </td><td>v          </td><td>p          </td><td>I          </td><td>X          </td><td>Q          </td><td>U          </td><td>d          </td><td>e          </td><td>S         </td><td>W          </td><td>p          </td><td>N          </td><td>p          </td><td>k          </td><td>R          </td><td>q          </td><td>j          </td><td>O          </td><td>s          </td><td>O         </td><td>F          </td><td>b          </td><td>E          </td><td>h          </td><td>b          </td><td>a          </td><td>Y          </td><td>N          </td><td>P          </td><td>u          </td><td>L         </td><td>E          </td><td>a          </td><td>B          </td><td>m          </td><td>P          </td><td>b          </td><td>C          </td><td>d          </td><td>m          </td><td>Q          </td><td>Q         </td><td>F          </td><td>p          </td><td>o          </td><td>F          </td><td>S          </td><td>W          </td><td>l          </td><td>P          </td><td>h          </td><td>G          </td><td>d         </td><td>B          </td><td>B          </td><td>c          </td><td>h          </td><td>q          </td><td>E          </td><td>i          </td><td>E          </td><td>t          </td><td>j          </td><td>Y         </td><td>d          </td><td>M          </td><td>f          </td><td>a          </td><td>R          </td><td>M          </td><td>q          </td><td>a          </td><td>E          </td><td>Y          </td><td>0.0               </td><td>1.0              </td><td>1.0               </td><td>0.0                 </td><td>6.0               </td><td>0.0                </td><td>1.0               </td><td>3.0               </td><td>0.0               </td><td>1.0                </td><td>0.0                </td><td>8.0               </td><td>2.0                 </td><td>2.0              </td><td>0.0                </td><td>0.0                  </td><td>4.0               </td><td>10.0              </td><td>4.0              </td><td>1.0                </td><td>3.0              </td><td>0.0                </td><td>0.0              </td><td>3.0              </td><td>6.0               </td><td>0.0                  </td><td>1.0              </td><td>14.0              </td><td>1.0               </td><td>0.0                </td><td>6.0               </td><td>4.0               </td><td>1.0                 </td><td>6.0               </td><td>1.0                </td><td>7.0              </td><td>1.0               </td><td>0.0               </td><td>2.0               </td><td>11.0              </td><td>0.0               </td><td>5.0               </td><td>3.0               </td><td>0.0               </td><td>0.0                 </td><td>0.0                  </td><td>2.0               </td><td>0.0              </td><td>1.0              </td><td>0.0                  </td><td>0.0                </td><td>0.0               </td><td>0.0                 </td><td>0.0              </td><td>1.0              </td><td>4.0               </td><td>7.0              </td><td>1.0               </td><td>2.0              </td><td>6.0               </td><td>3.0               </td><td>1.0                </td><td>7.0              </td><td>0.0                </td><td>3.0               </td><td>0.0                 </td><td>9.0               </td><td>5.0               </td><td>13.0              </td><td>1.0               </td><td>2.0                 </td><td>14.0             </td><td>-1.0              </td><td>1.0                </td><td>4.0               </td><td>7.0               </td><td>7.0               </td><td>0.0              </td><td>1.0               </td><td>2.0               </td><td>0.0                  </td><td>1.0                 </td><td>2.0              </td><td>1.0                </td><td>6.0               </td><td>0.0                </td><td>18.0              </td><td>0.0                </td><td>7.0               </td><td>15.0              </td><td>1.0               </td><td>0.0                </td><td>1.0               </td><td>11.0             </td><td>0.0                 </td><td>4.0               </td><td>2.0               </td><td>1.0               </td><td>1.0                </td><td>0.0                </td><td>10.0             </td><td>0.0                </td><td>0.0                 </td><td>0.0              </td><td>1.0              </td><td>18.0              </td><td>0.0                 </td></tr>\n",
       "<tr><td>7      </td><td>9.0              </td><td>0       </td><td>G         </td><td>p          </td><td>q           </td><td>T           </td><td>F           </td><td>K           </td><td>t           </td><td>e           </td><td>H           </td><td>F           </td><td>P           </td><td>s           </td><td>T          </td><td>q           </td><td>q           </td><td>f           </td><td>B           </td><td>D           </td><td>F           </td><td>n           </td><td>s           </td><td>d           </td><td>z           </td><td>n          </td><td>q           </td><td>j           </td><td>W           </td><td>n           </td><td>u          </td><td>h          </td><td>C          </td><td>q          </td><td>N          </td><td>f          </td><td>Q          </td><td>I         </td><td>Q          </td><td>w          </td><td>g          </td><td>U          </td><td>q          </td><td>r          </td><td>V          </td><td>H          </td><td>N          </td><td>G          </td><td>L         </td><td>e          </td><td>t          </td><td>v          </td><td>p          </td><td>f          </td><td>X          </td><td>Q          </td><td>U          </td><td>H          </td><td>e          </td><td>S         </td><td>W          </td><td>p          </td><td>j          </td><td>E          </td><td>N          </td><td>R          </td><td>H          </td><td>j          </td><td>p          </td><td>s          </td><td>Q         </td><td>F          </td><td>b          </td><td>E          </td><td>B          </td><td>i          </td><td>a          </td><td>Y          </td><td>S          </td><td>P          </td><td>o          </td><td>L         </td><td>k          </td><td>a          </td><td>i          </td><td>s          </td><td>U          </td><td>b          </td><td>O          </td><td>J          </td><td>X          </td><td>Q          </td><td>Q         </td><td>h          </td><td>p          </td><td>T          </td><td>F          </td><td>n          </td><td>p          </td><td>l          </td><td>P          </td><td>s          </td><td>C          </td><td>h         </td><td>l          </td><td>D          </td><td>c          </td><td>h          </td><td>o          </td><td>E          </td><td>i          </td><td>E          </td><td>L          </td><td>i          </td><td>I         </td><td>H          </td><td>M          </td><td>Q          </td><td>a          </td><td>E          </td><td>M          </td><td>q          </td><td>a          </td><td>E          </td><td>Y          </td><td>0.0               </td><td>7.0              </td><td>2.0               </td><td>0.0                 </td><td>6.0               </td><td>0.0                </td><td>14.0              </td><td>5.0               </td><td>0.0               </td><td>1.0                </td><td>0.0                </td><td>18.0              </td><td>-2.0                </td><td>18.0             </td><td>0.0                </td><td>0.0                  </td><td>-2.0              </td><td>-2.0              </td><td>11.0             </td><td>1.0                </td><td>14.0             </td><td>0.0                </td><td>0.0              </td><td>13.0             </td><td>5.0               </td><td>0.0                  </td><td>5.0              </td><td>-2.0              </td><td>1.0               </td><td>0.0                </td><td>-1.0              </td><td>13.0              </td><td>-2.0                </td><td>8.0               </td><td>2.0                </td><td>8.0              </td><td>1.0               </td><td>3.0               </td><td>2.0               </td><td>8.0               </td><td>0.0               </td><td>17.0              </td><td>13.0              </td><td>0.0               </td><td>0.0                 </td><td>0.0                  </td><td>4.0               </td><td>0.0              </td><td>12.0             </td><td>0.0                  </td><td>0.0                </td><td>0.0               </td><td>0.0                 </td><td>0.0              </td><td>16.0             </td><td>4.0               </td><td>-2.0             </td><td>4.0               </td><td>4.0              </td><td>6.0               </td><td>3.0               </td><td>1.0                </td><td>7.0              </td><td>1.0                </td><td>3.0               </td><td>0.0                 </td><td>-2.0              </td><td>5.0               </td><td>12.0              </td><td>1.0               </td><td>-2.0                </td><td>9.0              </td><td>-1.0              </td><td>1.0                </td><td>-2.0              </td><td>7.0               </td><td>7.0               </td><td>2.0              </td><td>1.0               </td><td>1.0               </td><td>0.0                  </td><td>1.0                 </td><td>6.0              </td><td>1.0                </td><td>2.0               </td><td>0.0                </td><td>12.0              </td><td>0.0                </td><td>-2.0              </td><td>9.0               </td><td>1.0               </td><td>0.0                </td><td>1.0               </td><td>16.0             </td><td>0.0                 </td><td>1.0               </td><td>2.0               </td><td>1.0               </td><td>1.0                </td><td>1.0                </td><td>11.0             </td><td>1.0                </td><td>0.0                 </td><td>0.0              </td><td>10.0             </td><td>12.0              </td><td>0.0                 </td></tr>\n",
       "<tr><td>8      </td><td>12.0             </td><td>0       </td><td>G         </td><td>p          </td><td>q           </td><td>F           </td><td>F           </td><td>I           </td><td>t           </td><td>h           </td><td>H           </td><td>Z           </td><td>P           </td><td>s           </td><td>T          </td><td>q           </td><td>q           </td><td>f           </td><td>h           </td><td>D           </td><td>F           </td><td>n           </td><td>s           </td><td>d           </td><td>z           </td><td>v          </td><td>q           </td><td>j           </td><td>W           </td><td>n           </td><td>u          </td><td>h          </td><td>C          </td><td>K          </td><td>N          </td><td>f          </td><td>I          </td><td>I         </td><td>g          </td><td>S          </td><td>F          </td><td>U          </td><td>x          </td><td>r          </td><td>V          </td><td>j          </td><td>N          </td><td>G          </td><td>q         </td><td>e          </td><td>t          </td><td>D          </td><td>p          </td><td>f          </td><td>X          </td><td>Q          </td><td>U          </td><td>H          </td><td>Q          </td><td>S         </td><td>W          </td><td>j          </td><td>j          </td><td>f          </td><td>N          </td><td>p          </td><td>H          </td><td>A          </td><td>p          </td><td>s          </td><td>Q         </td><td>F          </td><td>b          </td><td>E          </td><td>B          </td><td>i          </td><td>a          </td><td>Y          </td><td>N          </td><td>P          </td><td>o          </td><td>i         </td><td>E          </td><td>j          </td><td>s          </td><td>s          </td><td>U          </td><td>z          </td><td>O          </td><td>d          </td><td>X          </td><td>Q          </td><td>V         </td><td>F          </td><td>p          </td><td>T          </td><td>w          </td><td>n          </td><td>p          </td><td>l          </td><td>K          </td><td>s          </td><td>C          </td><td>d         </td><td>l          </td><td>D          </td><td>c          </td><td>h          </td><td>o          </td><td>E          </td><td>f          </td><td>E          </td><td>L          </td><td>i          </td><td>I         </td><td>H          </td><td>M          </td><td>Q          </td><td>a          </td><td>E          </td><td>M          </td><td>u          </td><td>a          </td><td>E          </td><td>f          </td><td>0.0               </td><td>2.0              </td><td>1.0               </td><td>0.0                 </td><td>11.0              </td><td>0.0                </td><td>4.0               </td><td>3.0               </td><td>1.0               </td><td>1.0                </td><td>0.0                </td><td>15.0              </td><td>-2.0                </td><td>5.0              </td><td>0.0                </td><td>0.0                  </td><td>-2.0              </td><td>-2.0              </td><td>5.0              </td><td>1.0                </td><td>0.0              </td><td>0.0                </td><td>4.0              </td><td>6.0              </td><td>4.0               </td><td>0.0                  </td><td>1.0              </td><td>-2.0              </td><td>1.0               </td><td>1.0                </td><td>-1.0              </td><td>10.0              </td><td>-2.0                </td><td>1.0               </td><td>1.0                </td><td>9.0              </td><td>1.0               </td><td>0.0               </td><td>2.0               </td><td>17.0              </td><td>0.0               </td><td>7.0               </td><td>6.0               </td><td>0.0               </td><td>0.0                 </td><td>0.0                  </td><td>6.0               </td><td>5.0              </td><td>1.0              </td><td>0.0                  </td><td>0.0                </td><td>0.0               </td><td>0.0                 </td><td>0.0              </td><td>2.0              </td><td>1.0               </td><td>-2.0             </td><td>1.0               </td><td>6.0              </td><td>6.0               </td><td>3.0               </td><td>1.0                </td><td>2.0              </td><td>0.0                </td><td>5.0               </td><td>0.0                 </td><td>-2.0              </td><td>3.0               </td><td>11.0              </td><td>3.0               </td><td>-2.0                </td><td>13.0             </td><td>6.0               </td><td>1.0                </td><td>-2.0              </td><td>11.0              </td><td>2.0               </td><td>0.0              </td><td>1.0               </td><td>2.0               </td><td>0.0                  </td><td>1.0                 </td><td>2.0              </td><td>1.0                </td><td>0.0               </td><td>0.0                </td><td>1.0               </td><td>0.0                </td><td>-2.0              </td><td>10.0              </td><td>1.0               </td><td>0.0                </td><td>0.0               </td><td>8.0              </td><td>0.0                 </td><td>3.0               </td><td>2.0               </td><td>1.0               </td><td>2.0                </td><td>0.0                </td><td>12.0             </td><td>0.0                </td><td>0.0                 </td><td>0.0              </td><td>1.0              </td><td>1.0               </td><td>0.0                 </td></tr>\n",
       "<tr><td>9      </td><td>14.0             </td><td>0       </td><td>G         </td><td>V          </td><td>g           </td><td>T           </td><td>F           </td><td>I           </td><td>t           </td><td>h           </td><td>Q           </td><td>F           </td><td>P           </td><td>C           </td><td>T          </td><td>q           </td><td>e           </td><td>M           </td><td>d           </td><td>D           </td><td>Z           </td><td>n           </td><td>s           </td><td>W           </td><td>z           </td><td>n          </td><td>q           </td><td>j           </td><td>X           </td><td>n           </td><td>u          </td><td>h          </td><td>C          </td><td>K          </td><td>N          </td><td>a          </td><td>I          </td><td>O         </td><td>g          </td><td>w          </td><td>g          </td><td>U          </td><td>q          </td><td>r          </td><td>V          </td><td>H          </td><td>U          </td><td>G          </td><td>L         </td><td>e          </td><td>t          </td><td>v          </td><td>p          </td><td>C          </td><td>X          </td><td>Q          </td><td>U          </td><td>d          </td><td>e          </td><td>S         </td><td>W          </td><td>p          </td><td>F          </td><td>p          </td><td>C          </td><td>R          </td><td>O          </td><td>A          </td><td>O          </td><td>s          </td><td>Q         </td><td>F          </td><td>b          </td><td>E          </td><td>C          </td><td>b          </td><td>a          </td><td>Y          </td><td>N          </td><td>P          </td><td>E          </td><td>L         </td><td>E          </td><td>p          </td><td>s          </td><td>m          </td><td>P          </td><td>b          </td><td>C          </td><td>d          </td><td>m          </td><td>Q          </td><td>Q         </td><td>h          </td><td>p          </td><td>o          </td><td>F          </td><td>S          </td><td>q          </td><td>l          </td><td>P          </td><td>h          </td><td>P          </td><td>h         </td><td>B          </td><td>D          </td><td>c          </td><td>h          </td><td>q          </td><td>E          </td><td>i          </td><td>E          </td><td>L          </td><td>l          </td><td>Y         </td><td>d          </td><td>M          </td><td>f          </td><td>a          </td><td>R          </td><td>M          </td><td>q          </td><td>a          </td><td>V          </td><td>Y          </td><td>0.0               </td><td>9.0              </td><td>1.0               </td><td>0.0                 </td><td>6.0               </td><td>0.0                </td><td>12.0              </td><td>3.0               </td><td>0.0               </td><td>1.0                </td><td>0.0                </td><td>10.0              </td><td>1.0                 </td><td>6.0              </td><td>0.0                </td><td>0.0                  </td><td>1.0               </td><td>-1.0              </td><td>6.0              </td><td>1.0                </td><td>16.0             </td><td>0.0                </td><td>0.0              </td><td>13.0             </td><td>3.0               </td><td>0.0                  </td><td>6.0              </td><td>7.0               </td><td>1.0               </td><td>0.0                </td><td>4.0               </td><td>2.0               </td><td>1.0                 </td><td>3.0               </td><td>1.0                </td><td>18.0             </td><td>1.0               </td><td>1.0               </td><td>2.0               </td><td>9.0               </td><td>0.0               </td><td>18.0              </td><td>13.0              </td><td>0.0               </td><td>0.0                 </td><td>0.0                  </td><td>12.0              </td><td>0.0              </td><td>1.0              </td><td>0.0                  </td><td>0.0                </td><td>0.0               </td><td>0.0                 </td><td>0.0              </td><td>13.0             </td><td>10.0              </td><td>17.0             </td><td>6.0               </td><td>11.0             </td><td>6.0               </td><td>3.0               </td><td>1.0                </td><td>7.0              </td><td>0.0                </td><td>3.0               </td><td>0.0                 </td><td>1.0               </td><td>5.0               </td><td>8.0               </td><td>1.0               </td><td>0.0                 </td><td>13.0             </td><td>-1.0              </td><td>1.0                </td><td>13.0              </td><td>7.0               </td><td>7.0               </td><td>7.0              </td><td>1.0               </td><td>2.0               </td><td>0.0                  </td><td>1.0                 </td><td>1.0              </td><td>1.0                </td><td>0.0               </td><td>0.0                </td><td>18.0              </td><td>0.0                </td><td>7.0               </td><td>4.0               </td><td>1.0               </td><td>0.0                </td><td>0.0               </td><td>0.0              </td><td>0.0                 </td><td>1.0               </td><td>2.0               </td><td>1.0               </td><td>1.0                </td><td>1.0                </td><td>18.0             </td><td>0.0                </td><td>0.0                 </td><td>0.0              </td><td>10.0             </td><td>19.0              </td><td>0.0                 </td></tr>\n",
       "</tbody>\n",
       "</table>"
      ]
     },
     "metadata": {},
     "output_type": "display_data"
    }
   ],
   "source": [
    "data.describe()"
   ]
  },
  {
   "cell_type": "code",
   "execution_count": 11,
   "metadata": {},
   "outputs": [
    {
     "name": "stdout",
     "output_type": "stream",
     "text": [
      "Train data rows = 12009, columns = 232\n",
      "Test data rows = 5074, columns = 232\n"
     ]
    }
   ],
   "source": [
    "# split into training and validation\n",
    "train, test = data.split_frame([0.7], seed=12345)\n",
    "\n",
    "# summarize split\n",
    "print('Train data rows = %d, columns = %d' % (train.shape[0], train.shape[1]))\n",
    "print('Test data rows = %d, columns = %d' % (test.shape[0], test.shape[1]))"
   ]
  },
  {
   "cell_type": "code",
   "execution_count": 12,
   "metadata": {},
   "outputs": [
    {
     "name": "stdout",
     "output_type": "stream",
     "text": [
      "gbm Model Build progress: |███████████████████████████████████████████████| 100%\n",
      "GBM Test AUC = 0.87\n"
     ]
    }
   ],
   "source": [
    "# initialize GBM model\n",
    "model = H2OGradientBoostingEstimator(ntrees=150,            # maximum 150 trees in GBM\n",
    "                                     max_depth=4,           # trees can have maximum depth of 4\n",
    "                                     sample_rate=0.9,       # use 90% of rows in each iteration (tree)\n",
    "                                     col_sample_rate=0.9,   # use 90% of variables in each iteration (tree)\n",
    "                                     stopping_rounds=5,     # stop if validation error does not decrease for 5 iterations (trees)\n",
    "                                     score_tree_interval=1, # for reproducibility, set higher for bigger data\n",
    "                                     seed=12345)            # random seed for reproducibility\n",
    "\n",
    "# train a GBM model\n",
    "model.train(y=y, x=X, training_frame=train, validation_frame=test)\n",
    "\n",
    "# print AUC\n",
    "print('GBM Test AUC = %.2f' % model.auc(valid=True))"
   ]
  },
  {
   "cell_type": "code",
   "execution_count": 13,
   "metadata": {},
   "outputs": [
    {
     "data": {
      "text/html": [
       "<table>\n",
       "<thead>\n",
       "<tr><th style=\"text-align: right;\">  id</th><th style=\"text-align: right;\">  target</th><th>v_char_1  </th><th>v_char_10  </th><th>v_char_100  </th><th>v_char_101  </th><th>v_char_102  </th><th>v_char_103  </th><th>v_char_104  </th><th>v_char_105  </th><th>v_char_106  </th><th>v_char_107  </th><th>v_char_108  </th><th>v_char_109  </th><th>v_char_11  </th><th>v_char_110  </th><th>v_char_111  </th><th>v_char_112  </th><th>v_char_113  </th><th>v_char_114  </th><th>v_char_115  </th><th>v_char_116  </th><th>v_char_117  </th><th>v_char_118  </th><th>v_char_119  </th><th>v_char_12  </th><th>v_char_120  </th><th>v_char_121  </th><th>v_char_122  </th><th>v_char_123  </th><th>v_char_13  </th><th>v_char_14  </th><th>v_char_15  </th><th>v_char_16  </th><th>v_char_17  </th><th>v_char_18  </th><th>v_char_19  </th><th>v_char_2  </th><th>v_char_20  </th><th>v_char_21  </th><th>v_char_22  </th><th>v_char_23  </th><th>v_char_24  </th><th>v_char_25  </th><th>v_char_26  </th><th>v_char_27  </th><th>v_char_28  </th><th>v_char_29  </th><th>v_char_3  </th><th>v_char_30  </th><th>v_char_31  </th><th>v_char_32  </th><th>v_char_33  </th><th>v_char_34  </th><th>v_char_35  </th><th>v_char_36  </th><th>v_char_37  </th><th>v_char_38  </th><th>v_char_39  </th><th>v_char_4  </th><th>v_char_40  </th><th>v_char_41  </th><th>v_char_42  </th><th>v_char_43  </th><th>v_char_44  </th><th>v_char_45  </th><th>v_char_46  </th><th>v_char_47  </th><th>v_char_48  </th><th>v_char_49  </th><th>v_char_5  </th><th>v_char_50  </th><th>v_char_51  </th><th>v_char_52  </th><th>v_char_53  </th><th>v_char_54  </th><th>v_char_55  </th><th>v_char_56  </th><th>v_char_57  </th><th>v_char_58  </th><th>v_char_59  </th><th>v_char_6  </th><th>v_char_60  </th><th>v_char_61  </th><th>v_char_62  </th><th>v_char_63  </th><th>v_char_64  </th><th>v_char_65  </th><th>v_char_66  </th><th>v_char_67  </th><th>v_char_68  </th><th>v_char_69  </th><th>v_char_7  </th><th>v_char_70  </th><th>v_char_71  </th><th>v_char_72  </th><th>v_char_73  </th><th>v_char_74  </th><th>v_char_75  </th><th>v_char_76  </th><th>v_char_77  </th><th>v_char_78  </th><th>v_char_79  </th><th>v_char_8  </th><th>v_char_80  </th><th>v_char_81  </th><th>v_char_82  </th><th>v_char_83  </th><th>v_char_84  </th><th>v_char_85  </th><th>v_char_86  </th><th>v_char_87  </th><th>v_char_88  </th><th>v_char_89  </th><th>v_char_9  </th><th>v_char_90  </th><th>v_char_91  </th><th>v_char_92  </th><th>v_char_93  </th><th>v_char_94  </th><th>v_char_95  </th><th>v_char_96  </th><th>v_char_97  </th><th>v_char_98  </th><th>v_char_99  </th><th style=\"text-align: right;\">  v_num_1</th><th style=\"text-align: right;\">  v_num_10</th><th style=\"text-align: right;\">  v_num_100</th><th style=\"text-align: right;\">  v_num_101</th><th style=\"text-align: right;\">  v_num_102</th><th style=\"text-align: right;\">  v_num_103</th><th style=\"text-align: right;\">  v_num_104</th><th style=\"text-align: right;\">  v_num_105</th><th style=\"text-align: right;\">  v_num_106</th><th style=\"text-align: right;\">  v_num_107</th><th style=\"text-align: right;\">  v_num_108</th><th style=\"text-align: right;\">  v_num_109</th><th style=\"text-align: right;\">  v_num_11</th><th style=\"text-align: right;\">  v_num_110</th><th style=\"text-align: right;\">  v_num_12</th><th style=\"text-align: right;\">  v_num_13</th><th style=\"text-align: right;\">  v_num_14</th><th style=\"text-align: right;\">  v_num_15</th><th style=\"text-align: right;\">  v_num_16</th><th style=\"text-align: right;\">  v_num_17</th><th style=\"text-align: right;\">  v_num_18</th><th style=\"text-align: right;\">  v_num_19</th><th style=\"text-align: right;\">  v_num_2</th><th style=\"text-align: right;\">  v_num_20</th><th style=\"text-align: right;\">  v_num_21</th><th style=\"text-align: right;\">  v_num_22</th><th style=\"text-align: right;\">  v_num_23</th><th style=\"text-align: right;\">  v_num_24</th><th style=\"text-align: right;\">  v_num_25</th><th style=\"text-align: right;\">  v_num_26</th><th style=\"text-align: right;\">  v_num_27</th><th style=\"text-align: right;\">  v_num_28</th><th style=\"text-align: right;\">  v_num_29</th><th style=\"text-align: right;\">  v_num_3</th><th style=\"text-align: right;\">  v_num_30</th><th style=\"text-align: right;\">  v_num_31</th><th style=\"text-align: right;\">  v_num_33</th><th style=\"text-align: right;\">  v_num_34</th><th style=\"text-align: right;\">  v_num_35</th><th style=\"text-align: right;\">  v_num_36</th><th style=\"text-align: right;\">  v_num_37</th><th style=\"text-align: right;\">  v_num_38</th><th style=\"text-align: right;\">  v_num_39</th><th style=\"text-align: right;\">  v_num_4</th><th style=\"text-align: right;\">  v_num_40</th><th style=\"text-align: right;\">  v_num_41</th><th style=\"text-align: right;\">  v_num_42</th><th style=\"text-align: right;\">  v_num_43</th><th style=\"text-align: right;\">  v_num_44</th><th style=\"text-align: right;\">  v_num_45</th><th style=\"text-align: right;\">  v_num_46</th><th style=\"text-align: right;\">  v_num_47</th><th style=\"text-align: right;\">  v_num_48</th><th style=\"text-align: right;\">  v_num_49</th><th style=\"text-align: right;\">  v_num_5</th><th style=\"text-align: right;\">  v_num_50</th><th style=\"text-align: right;\">  v_num_51</th><th style=\"text-align: right;\">  v_num_52</th><th style=\"text-align: right;\">  v_num_53</th><th style=\"text-align: right;\">  v_num_54</th><th style=\"text-align: right;\">  v_num_55</th><th style=\"text-align: right;\">  v_num_56</th><th style=\"text-align: right;\">  v_num_57</th><th style=\"text-align: right;\">  v_num_58</th><th style=\"text-align: right;\">  v_num_59</th><th style=\"text-align: right;\">  v_num_6</th><th style=\"text-align: right;\">  v_num_60</th><th style=\"text-align: right;\">  v_num_61</th><th style=\"text-align: right;\">  v_num_62</th><th style=\"text-align: right;\">  v_num_63</th><th style=\"text-align: right;\">  v_num_64</th><th style=\"text-align: right;\">  v_num_65</th><th style=\"text-align: right;\">  v_num_66</th><th style=\"text-align: right;\">  v_num_67</th><th style=\"text-align: right;\">  v_num_68</th><th style=\"text-align: right;\">  v_num_69</th><th style=\"text-align: right;\">  v_num_7</th><th style=\"text-align: right;\">  v_num_70</th><th style=\"text-align: right;\">  v_num_71</th><th style=\"text-align: right;\">  v_num_72</th><th style=\"text-align: right;\">  v_num_73</th><th style=\"text-align: right;\">  v_num_74</th><th style=\"text-align: right;\">  v_num_75</th><th style=\"text-align: right;\">  v_num_76</th><th style=\"text-align: right;\">  v_num_77</th><th style=\"text-align: right;\">  v_num_78</th><th style=\"text-align: right;\">  v_num_79</th><th style=\"text-align: right;\">  v_num_8</th><th style=\"text-align: right;\">  v_num_80</th><th style=\"text-align: right;\">  v_num_81</th><th style=\"text-align: right;\">  v_num_82</th><th style=\"text-align: right;\">  v_num_84</th><th style=\"text-align: right;\">  v_num_85</th><th style=\"text-align: right;\">  v_num_86</th><th style=\"text-align: right;\">  v_num_87</th><th style=\"text-align: right;\">  v_num_88</th><th style=\"text-align: right;\">  v_num_89</th><th style=\"text-align: right;\">  v_num_9</th><th style=\"text-align: right;\">  v_num_90</th><th style=\"text-align: right;\">  v_num_91</th><th style=\"text-align: right;\">  v_num_92</th><th style=\"text-align: right;\">  v_num_94</th><th style=\"text-align: right;\">  v_num_95</th><th style=\"text-align: right;\">  v_num_96</th><th style=\"text-align: right;\">  v_num_97</th><th style=\"text-align: right;\">  v_num_98</th><th style=\"text-align: right;\">  v_num_99</th></tr>\n",
       "</thead>\n",
       "<tbody>\n",
       "<tr><td style=\"text-align: right;\">9116</td><td style=\"text-align: right;\">       0</td><td>G         </td><td>V          </td><td>q           </td><td>T           </td><td>F           </td><td>a           </td><td>t           </td><td>i           </td><td>Q           </td><td>Z           </td><td>P           </td><td>C           </td><td>T          </td><td>q           </td><td>e           </td><td>M           </td><td>h           </td><td>D           </td><td>p           </td><td>n           </td><td>s           </td><td>P           </td><td>z           </td><td>n          </td><td>q           </td><td>j           </td><td>X           </td><td>n           </td><td>u          </td><td>h          </td><td>C          </td><td>K          </td><td>N          </td><td>a          </td><td>I          </td><td>q         </td><td>g          </td><td>S          </td><td>g          </td><td>U          </td><td>x          </td><td>r          </td><td>V          </td><td>j          </td><td>U          </td><td>G          </td><td>q         </td><td>e          </td><td>t          </td><td>v          </td><td>p          </td><td>I          </td><td>X          </td><td>o          </td><td>U          </td><td>d          </td><td>Q          </td><td>S         </td><td>W          </td><td>p          </td><td>q          </td><td>p          </td><td>N          </td><td>R          </td><td>O          </td><td>A          </td><td>O          </td><td>s          </td><td>Q         </td><td>F          </td><td>b          </td><td>E          </td><td>L          </td><td>b          </td><td>a          </td><td>Y          </td><td>N          </td><td>P          </td><td>E          </td><td>i         </td><td>E          </td><td>K          </td><td>D          </td><td>m          </td><td>P          </td><td>R          </td><td>C          </td><td>d          </td><td>m          </td><td>Q          </td><td>Q         </td><td>F          </td><td>p          </td><td>o          </td><td>w          </td><td>S          </td><td>q          </td><td>l          </td><td>K          </td><td>h          </td><td>G          </td><td>d         </td><td>B          </td><td>D          </td><td>c          </td><td>h          </td><td>q          </td><td>E          </td><td>f          </td><td>E          </td><td>L          </td><td>j          </td><td>Y         </td><td>h          </td><td>M          </td><td>f          </td><td>a          </td><td>R          </td><td>M          </td><td>u          </td><td>a          </td><td>V          </td><td>f          </td><td style=\"text-align: right;\">        0</td><td style=\"text-align: right;\">         3</td><td style=\"text-align: right;\">          1</td><td style=\"text-align: right;\">          0</td><td style=\"text-align: right;\">          6</td><td style=\"text-align: right;\">          0</td><td style=\"text-align: right;\">         10</td><td style=\"text-align: right;\">          1</td><td style=\"text-align: right;\">          0</td><td style=\"text-align: right;\">          1</td><td style=\"text-align: right;\">          0</td><td style=\"text-align: right;\">          1</td><td style=\"text-align: right;\">         1</td><td style=\"text-align: right;\">          7</td><td style=\"text-align: right;\">         0</td><td style=\"text-align: right;\">         0</td><td style=\"text-align: right;\">         6</td><td style=\"text-align: right;\">        11</td><td style=\"text-align: right;\">         1</td><td style=\"text-align: right;\">         1</td><td style=\"text-align: right;\">         8</td><td style=\"text-align: right;\">         0</td><td style=\"text-align: right;\">        0</td><td style=\"text-align: right;\">         2</td><td style=\"text-align: right;\">         1</td><td style=\"text-align: right;\">         0</td><td style=\"text-align: right;\">         1</td><td style=\"text-align: right;\">        -1</td><td style=\"text-align: right;\">         1</td><td style=\"text-align: right;\">         0</td><td style=\"text-align: right;\">         1</td><td style=\"text-align: right;\">         1</td><td style=\"text-align: right;\">         1</td><td style=\"text-align: right;\">        8</td><td style=\"text-align: right;\">         1</td><td style=\"text-align: right;\">         9</td><td style=\"text-align: right;\">         1</td><td style=\"text-align: right;\">         0</td><td style=\"text-align: right;\">         1</td><td style=\"text-align: right;\">         3</td><td style=\"text-align: right;\">         0</td><td style=\"text-align: right;\">        12</td><td style=\"text-align: right;\">         2</td><td style=\"text-align: right;\">        0</td><td style=\"text-align: right;\">         0</td><td style=\"text-align: right;\">         0</td><td style=\"text-align: right;\">         8</td><td style=\"text-align: right;\">         0</td><td style=\"text-align: right;\">         5</td><td style=\"text-align: right;\">         0</td><td style=\"text-align: right;\">         0</td><td style=\"text-align: right;\">         0</td><td style=\"text-align: right;\">         0</td><td style=\"text-align: right;\">         0</td><td style=\"text-align: right;\">        1</td><td style=\"text-align: right;\">         2</td><td style=\"text-align: right;\">         4</td><td style=\"text-align: right;\">         1</td><td style=\"text-align: right;\">         8</td><td style=\"text-align: right;\">         8</td><td style=\"text-align: right;\">         1</td><td style=\"text-align: right;\">         1</td><td style=\"text-align: right;\">         8</td><td style=\"text-align: right;\">         0</td><td style=\"text-align: right;\">         5</td><td style=\"text-align: right;\">        0</td><td style=\"text-align: right;\">         1</td><td style=\"text-align: right;\">         5</td><td style=\"text-align: right;\">         7</td><td style=\"text-align: right;\">         2</td><td style=\"text-align: right;\">         1</td><td style=\"text-align: right;\">         9</td><td style=\"text-align: right;\">        -1</td><td style=\"text-align: right;\">         1</td><td style=\"text-align: right;\">         3</td><td style=\"text-align: right;\">         1</td><td style=\"text-align: right;\">        7</td><td style=\"text-align: right;\">         1</td><td style=\"text-align: right;\">         1</td><td style=\"text-align: right;\">         2</td><td style=\"text-align: right;\">         0</td><td style=\"text-align: right;\">         1</td><td style=\"text-align: right;\">         1</td><td style=\"text-align: right;\">         1</td><td style=\"text-align: right;\">         0</td><td style=\"text-align: right;\">         0</td><td style=\"text-align: right;\">        18</td><td style=\"text-align: right;\">        0</td><td style=\"text-align: right;\">        10</td><td style=\"text-align: right;\">        14</td><td style=\"text-align: right;\">         1</td><td style=\"text-align: right;\">         0</td><td style=\"text-align: right;\">         1</td><td style=\"text-align: right;\">         1</td><td style=\"text-align: right;\">         0</td><td style=\"text-align: right;\">         4</td><td style=\"text-align: right;\">         3</td><td style=\"text-align: right;\">        1</td><td style=\"text-align: right;\">         1</td><td style=\"text-align: right;\">         0</td><td style=\"text-align: right;\">        12</td><td style=\"text-align: right;\">         0</td><td style=\"text-align: right;\">         0</td><td style=\"text-align: right;\">         0</td><td style=\"text-align: right;\">         1</td><td style=\"text-align: right;\">        19</td><td style=\"text-align: right;\">         0</td></tr>\n",
       "</tbody>\n",
       "</table>"
      ]
     },
     "metadata": {},
     "output_type": "display_data"
    },
    {
     "data": {
      "text/plain": []
     },
     "execution_count": 13,
     "metadata": {},
     "output_type": "execute_result"
    }
   ],
   "source": [
    "row = test[test['id'] == 9116]\n",
    "row"
   ]
  },
  {
   "cell_type": "code",
   "execution_count": 14,
   "metadata": {},
   "outputs": [
    {
     "data": {
      "text/html": [
       "<div>\n",
       "<style scoped>\n",
       "    .dataframe tbody tr th:only-of-type {\n",
       "        vertical-align: middle;\n",
       "    }\n",
       "\n",
       "    .dataframe tbody tr th {\n",
       "        vertical-align: top;\n",
       "    }\n",
       "\n",
       "    .dataframe thead th {\n",
       "        text-align: right;\n",
       "    }\n",
       "</style>\n",
       "<table border=\"1\" class=\"dataframe\">\n",
       "  <thead>\n",
       "    <tr style=\"text-align: right;\">\n",
       "      <th></th>\n",
       "      <th>v_char_1</th>\n",
       "      <th>v_char_10</th>\n",
       "      <th>v_char_100</th>\n",
       "      <th>v_char_101</th>\n",
       "      <th>v_char_102</th>\n",
       "      <th>v_char_103</th>\n",
       "      <th>v_char_104</th>\n",
       "      <th>v_char_105</th>\n",
       "      <th>v_char_106</th>\n",
       "      <th>v_char_107</th>\n",
       "      <th>...</th>\n",
       "      <th>v_num_9</th>\n",
       "      <th>v_num_90</th>\n",
       "      <th>v_num_91</th>\n",
       "      <th>v_num_92</th>\n",
       "      <th>v_num_94</th>\n",
       "      <th>v_num_95</th>\n",
       "      <th>v_num_96</th>\n",
       "      <th>v_num_97</th>\n",
       "      <th>v_num_98</th>\n",
       "      <th>v_num_99</th>\n",
       "    </tr>\n",
       "  </thead>\n",
       "  <tbody>\n",
       "    <tr>\n",
       "      <th>0</th>\n",
       "      <td>G</td>\n",
       "      <td>V</td>\n",
       "      <td>q</td>\n",
       "      <td>f</td>\n",
       "      <td>F</td>\n",
       "      <td>d</td>\n",
       "      <td>S</td>\n",
       "      <td>d</td>\n",
       "      <td>G</td>\n",
       "      <td>F</td>\n",
       "      <td>...</td>\n",
       "      <td>0.961294</td>\n",
       "      <td>0.985491</td>\n",
       "      <td>0.000000</td>\n",
       "      <td>11.605493</td>\n",
       "      <td>0.00000</td>\n",
       "      <td>0.000000</td>\n",
       "      <td>0.000000</td>\n",
       "      <td>0.612373</td>\n",
       "      <td>18.549989</td>\n",
       "      <td>0.000000</td>\n",
       "    </tr>\n",
       "    <tr>\n",
       "      <th>1</th>\n",
       "      <td>y</td>\n",
       "      <td>p</td>\n",
       "      <td>I</td>\n",
       "      <td>k</td>\n",
       "      <td>l</td>\n",
       "      <td>K</td>\n",
       "      <td>t</td>\n",
       "      <td>o</td>\n",
       "      <td>H</td>\n",
       "      <td>Z</td>\n",
       "      <td>...</td>\n",
       "      <td>1.622609</td>\n",
       "      <td>1.233382</td>\n",
       "      <td>0.233477</td>\n",
       "      <td>18.345799</td>\n",
       "      <td>0.45083</td>\n",
       "      <td>0.116437</td>\n",
       "      <td>4.106029</td>\n",
       "      <td>7.235137</td>\n",
       "      <td>26.238608</td>\n",
       "      <td>0.168336</td>\n",
       "    </tr>\n",
       "    <tr>\n",
       "      <th>2</th>\n",
       "      <td>y</td>\n",
       "      <td>p</td>\n",
       "      <td>w</td>\n",
       "      <td>f</td>\n",
       "      <td>l</td>\n",
       "      <td>d</td>\n",
       "      <td>t</td>\n",
       "      <td>h</td>\n",
       "      <td>t</td>\n",
       "      <td>Z</td>\n",
       "      <td>...</td>\n",
       "      <td>0.146231</td>\n",
       "      <td>0.679969</td>\n",
       "      <td>0.000000</td>\n",
       "      <td>3.298158</td>\n",
       "      <td>0.00000</td>\n",
       "      <td>0.000000</td>\n",
       "      <td>0.000000</td>\n",
       "      <td>1.000000</td>\n",
       "      <td>9.073871</td>\n",
       "      <td>0.000000</td>\n",
       "    </tr>\n",
       "  </tbody>\n",
       "</table>\n",
       "<p>3 rows × 230 columns</p>\n",
       "</div>"
      ],
      "text/plain": [
       "  v_char_1 v_char_10 v_char_100 v_char_101 v_char_102 v_char_103 v_char_104  \\\n",
       "0        G         V          q          f          F          d          S   \n",
       "1        y         p          I          k          l          K          t   \n",
       "2        y         p          w          f          l          d          t   \n",
       "\n",
       "  v_char_105 v_char_106 v_char_107  ...   v_num_9  v_num_90  v_num_91  \\\n",
       "0          d          G          F  ...  0.961294  0.985491  0.000000   \n",
       "1          o          H          Z  ...  1.622609  1.233382  0.233477   \n",
       "2          h          t          Z  ...  0.146231  0.679969  0.000000   \n",
       "\n",
       "    v_num_92 v_num_94  v_num_95  v_num_96  v_num_97   v_num_98  v_num_99  \n",
       "0  11.605493  0.00000  0.000000  0.000000  0.612373  18.549989  0.000000  \n",
       "1  18.345799  0.45083  0.116437  4.106029  7.235137  26.238608  0.168336  \n",
       "2   3.298158  0.00000  0.000000  0.000000  1.000000   9.073871  0.000000  \n",
       "\n",
       "[3 rows x 230 columns]"
      ]
     },
     "execution_count": 14,
     "metadata": {},
     "output_type": "execute_result"
    }
   ],
   "source": [
    "def generate_local_sample(row, frame, X, N=1000):\n",
    "    \n",
    "    \"\"\" Generates a perturbed sample around a row of interest.\n",
    "    \n",
    "    Args:\n",
    "        row: Row of H2OFrame to be explained.\n",
    "        frame: H2OFrame in which row is stored.\n",
    "        X: List of model input variables.\n",
    "        N: Number of samples to generate.\n",
    "    \n",
    "    Returns:\n",
    "        Pandas DataFrame containing perturbed sample.\n",
    "    \n",
    "    \"\"\"\n",
    "    \n",
    "    # initialize Pandas DataFrame\n",
    "    sample_frame = pd.DataFrame(data=np.zeros(shape=(N, len(X))), columns=X)\n",
    "    \n",
    "    # generate column vectors of \n",
    "    # randomly drawn levels for categorical variables\n",
    "    # normally distributed numeric values around mean of column for numeric variables\n",
    "    for key, val in frame[X].types.items():\n",
    "        if val == 'enum': # 'enum' means categorical\n",
    "            rs = np.random.RandomState(11111) # random seed for reproducibility\n",
    "            draw = rs.choice(frame[key].levels()[0], size=(1, N))[0]\n",
    "        else:\n",
    "            rs = np.random.RandomState(11111) # random seed for reproducibility\n",
    "            loc = row[key][0, 0]\n",
    "            sd = frame[key].sd()\n",
    "            draw = rs.normal(loc, sd, (N, 1))\n",
    "            draw[draw < 0] = loc # prevents unrealistic values when std. dev. is large\n",
    "        \n",
    "        sample_frame[key] = draw\n",
    "        \n",
    "    return sample_frame\n",
    "\n",
    "# run and display results\n",
    "perturbed_sample = generate_local_sample(row, test, X)\n",
    "perturbed_sample.head(n=3)"
   ]
  },
  {
   "cell_type": "code",
   "execution_count": 63,
   "metadata": {},
   "outputs": [
    {
     "data": {
      "text/html": [
       "<div>\n",
       "<style scoped>\n",
       "    .dataframe tbody tr th:only-of-type {\n",
       "        vertical-align: middle;\n",
       "    }\n",
       "\n",
       "    .dataframe tbody tr th {\n",
       "        vertical-align: top;\n",
       "    }\n",
       "\n",
       "    .dataframe thead th {\n",
       "        text-align: right;\n",
       "    }\n",
       "</style>\n",
       "<table border=\"1\" class=\"dataframe\">\n",
       "  <thead>\n",
       "    <tr style=\"text-align: right;\">\n",
       "      <th></th>\n",
       "      <th>id</th>\n",
       "      <th>target</th>\n",
       "      <th>v_num_1</th>\n",
       "      <th>v_num_10</th>\n",
       "      <th>v_num_100</th>\n",
       "      <th>v_num_101</th>\n",
       "      <th>v_num_102</th>\n",
       "      <th>v_num_103</th>\n",
       "      <th>v_num_104</th>\n",
       "      <th>v_num_105</th>\n",
       "      <th>...</th>\n",
       "      <th>v_char_94_R</th>\n",
       "      <th>v_char_94_p</th>\n",
       "      <th>v_char_96_q</th>\n",
       "      <th>v_char_96_u</th>\n",
       "      <th>v_char_97_T</th>\n",
       "      <th>v_char_97_a</th>\n",
       "      <th>v_char_97_b</th>\n",
       "      <th>v_char_98_V</th>\n",
       "      <th>v_char_99_Y</th>\n",
       "      <th>v_char_99_f</th>\n",
       "    </tr>\n",
       "  </thead>\n",
       "  <tbody>\n",
       "    <tr>\n",
       "      <th>0</th>\n",
       "      <td>4</td>\n",
       "      <td>1.0</td>\n",
       "      <td>-0.459899</td>\n",
       "      <td>0.792683</td>\n",
       "      <td>-0.566279</td>\n",
       "      <td>-0.123301</td>\n",
       "      <td>0.004294</td>\n",
       "      <td>-0.621607</td>\n",
       "      <td>0.301888</td>\n",
       "      <td>-1.091846</td>\n",
       "      <td>...</td>\n",
       "      <td>0</td>\n",
       "      <td>0</td>\n",
       "      <td>0</td>\n",
       "      <td>1</td>\n",
       "      <td>0</td>\n",
       "      <td>1</td>\n",
       "      <td>0</td>\n",
       "      <td>0</td>\n",
       "      <td>0</td>\n",
       "      <td>1</td>\n",
       "    </tr>\n",
       "    <tr>\n",
       "      <th>1</th>\n",
       "      <td>9</td>\n",
       "      <td>0.0</td>\n",
       "      <td>-0.459899</td>\n",
       "      <td>0.465685</td>\n",
       "      <td>1.358235</td>\n",
       "      <td>-0.123301</td>\n",
       "      <td>0.004294</td>\n",
       "      <td>-0.621607</td>\n",
       "      <td>1.916272</td>\n",
       "      <td>0.237415</td>\n",
       "      <td>...</td>\n",
       "      <td>0</td>\n",
       "      <td>0</td>\n",
       "      <td>1</td>\n",
       "      <td>0</td>\n",
       "      <td>0</td>\n",
       "      <td>1</td>\n",
       "      <td>0</td>\n",
       "      <td>0</td>\n",
       "      <td>1</td>\n",
       "      <td>0</td>\n",
       "    </tr>\n",
       "    <tr>\n",
       "      <th>2</th>\n",
       "      <td>14</td>\n",
       "      <td>0.0</td>\n",
       "      <td>-0.459899</td>\n",
       "      <td>1.119681</td>\n",
       "      <td>-0.566279</td>\n",
       "      <td>-0.123301</td>\n",
       "      <td>0.004294</td>\n",
       "      <td>-0.621607</td>\n",
       "      <td>1.378144</td>\n",
       "      <td>-0.427216</td>\n",
       "      <td>...</td>\n",
       "      <td>1</td>\n",
       "      <td>0</td>\n",
       "      <td>1</td>\n",
       "      <td>0</td>\n",
       "      <td>0</td>\n",
       "      <td>1</td>\n",
       "      <td>0</td>\n",
       "      <td>1</td>\n",
       "      <td>1</td>\n",
       "      <td>0</td>\n",
       "    </tr>\n",
       "    <tr>\n",
       "      <th>3</th>\n",
       "      <td>23</td>\n",
       "      <td>0.0</td>\n",
       "      <td>-0.459899</td>\n",
       "      <td>0.138687</td>\n",
       "      <td>-0.566279</td>\n",
       "      <td>-0.123301</td>\n",
       "      <td>0.004294</td>\n",
       "      <td>-0.621607</td>\n",
       "      <td>0.301888</td>\n",
       "      <td>-1.091846</td>\n",
       "      <td>...</td>\n",
       "      <td>1</td>\n",
       "      <td>0</td>\n",
       "      <td>0</td>\n",
       "      <td>1</td>\n",
       "      <td>1</td>\n",
       "      <td>0</td>\n",
       "      <td>0</td>\n",
       "      <td>0</td>\n",
       "      <td>0</td>\n",
       "      <td>1</td>\n",
       "    </tr>\n",
       "    <tr>\n",
       "      <th>4</th>\n",
       "      <td>24</td>\n",
       "      <td>1.0</td>\n",
       "      <td>-0.459899</td>\n",
       "      <td>1.773677</td>\n",
       "      <td>-0.566279</td>\n",
       "      <td>-0.123301</td>\n",
       "      <td>2.112943</td>\n",
       "      <td>-0.621607</td>\n",
       "      <td>-0.505304</td>\n",
       "      <td>0.237415</td>\n",
       "      <td>...</td>\n",
       "      <td>0</td>\n",
       "      <td>0</td>\n",
       "      <td>0</td>\n",
       "      <td>1</td>\n",
       "      <td>0</td>\n",
       "      <td>1</td>\n",
       "      <td>0</td>\n",
       "      <td>0</td>\n",
       "      <td>0</td>\n",
       "      <td>1</td>\n",
       "    </tr>\n",
       "  </tbody>\n",
       "</table>\n",
       "<p>5 rows × 477 columns</p>\n",
       "</div>"
      ],
      "text/plain": [
       "   id  target   v_num_1  v_num_10  v_num_100  v_num_101  v_num_102  v_num_103  \\\n",
       "0   4     1.0 -0.459899  0.792683  -0.566279  -0.123301   0.004294  -0.621607   \n",
       "1   9     0.0 -0.459899  0.465685   1.358235  -0.123301   0.004294  -0.621607   \n",
       "2  14     0.0 -0.459899  1.119681  -0.566279  -0.123301   0.004294  -0.621607   \n",
       "3  23     0.0 -0.459899  0.138687  -0.566279  -0.123301   0.004294  -0.621607   \n",
       "4  24     1.0 -0.459899  1.773677  -0.566279  -0.123301   2.112943  -0.621607   \n",
       "\n",
       "   v_num_104  v_num_105  ...  v_char_94_R  v_char_94_p  v_char_96_q  \\\n",
       "0   0.301888  -1.091846  ...            0            0            0   \n",
       "1   1.916272   0.237415  ...            0            0            1   \n",
       "2   1.378144  -0.427216  ...            1            0            1   \n",
       "3   0.301888  -1.091846  ...            1            0            0   \n",
       "4  -0.505304   0.237415  ...            0            0            0   \n",
       "\n",
       "   v_char_96_u  v_char_97_T  v_char_97_a  v_char_97_b  v_char_98_V  \\\n",
       "0            1            0            1            0            0   \n",
       "1            0            0            1            0            0   \n",
       "2            0            0            1            0            1   \n",
       "3            1            1            0            0            0   \n",
       "4            1            0            1            0            0   \n",
       "\n",
       "   v_char_99_Y  v_char_99_f  \n",
       "0            0            1  \n",
       "1            1            0  \n",
       "2            1            0  \n",
       "3            0            1  \n",
       "4            0            1  \n",
       "\n",
       "[5 rows x 477 columns]"
      ]
     },
     "execution_count": 63,
     "metadata": {},
     "output_type": "execute_result"
    }
   ],
   "source": [
    "# scaling and one-hot encoding for calculating Euclidian distance\n",
    "# for the row of interest\n",
    "\n",
    "# scale numeric\n",
    "numeric = vars_ind_numeric\n",
    "\n",
    "scaled_test = test.as_data_frame()\n",
    "scaled_test[numeric] = (scaled_test[numeric] - scaled_test[numeric].mean())/scaled_test[numeric].std()\n",
    "    \n",
    "# encode categorical\n",
    "row_df = scaled_test\n",
    "row_df_oneHot = pd.get_dummies(row_df[vars_ind_categorical],drop_first = True)\n",
    "row_df = pd.concat([row_df[var_not_toUse + var_dep+  vars_ind_numeric], row_df_oneHot], axis=1)\n",
    "row_df.head()"
   ]
  },
  {
   "cell_type": "code",
   "execution_count": 67,
   "metadata": {},
   "outputs": [
    {
     "name": "stdout",
     "output_type": "stream",
     "text": [
      "Parse progress: |█████████████████████████████████████████████████████████| 100%\n"
     ]
    }
   ],
   "source": [
    "row_df = h2o.H2OFrame(row_df)"
   ]
  },
  {
   "cell_type": "code",
   "execution_count": 72,
   "metadata": {},
   "outputs": [],
   "source": [
    "row_df[y] = row_df[y].asfactor() "
   ]
  },
  {
   "cell_type": "code",
   "execution_count": 73,
   "metadata": {},
   "outputs": [],
   "source": [
    "# assign target and inputs for GBM\n",
    "y = 'target'\n",
    "X = [name for name in row_df.columns if name not in [y, 'id']]"
   ]
  },
  {
   "cell_type": "code",
   "execution_count": 74,
   "metadata": {},
   "outputs": [
    {
     "name": "stdout",
     "output_type": "stream",
     "text": [
      "Train data rows = 3559, columns = 477\n",
      "Test data rows = 1515, columns = 477\n"
     ]
    }
   ],
   "source": [
    "# split into training and validation\n",
    "train, test = row_df.split_frame([0.7], seed=12345)\n",
    "\n",
    "# summarize split\n",
    "print('Train data rows = %d, columns = %d' % (train.shape[0], train.shape[1]))\n",
    "print('Test data rows = %d, columns = %d' % (test.shape[0], test.shape[1]))"
   ]
  },
  {
   "cell_type": "code",
   "execution_count": 75,
   "metadata": {},
   "outputs": [
    {
     "name": "stdout",
     "output_type": "stream",
     "text": [
      "gbm Model Build progress: |███████████████████████████████████████████████| 100%\n",
      "GBM Test AUC = 0.86\n"
     ]
    }
   ],
   "source": [
    "# initialize GBM model\n",
    "model = H2OGradientBoostingEstimator(ntrees=150,            # maximum 150 trees in GBM\n",
    "                                     max_depth=4,           # trees can have maximum depth of 4\n",
    "                                     sample_rate=0.9,       # use 90% of rows in each iteration (tree)\n",
    "                                     col_sample_rate=0.9,   # use 90% of variables in each iteration (tree)\n",
    "                                     stopping_rounds=5,     # stop if validation error does not decrease for 5 iterations (trees)\n",
    "                                     score_tree_interval=1, # for reproducibility, set higher for bigger data\n",
    "                                     seed=12345)            # random seed for reproducibility\n",
    "\n",
    "# train a GBM model\n",
    "model.train(y=y, x=X, training_frame=train, validation_frame=test)\n",
    "\n",
    "# print AUC\n",
    "print('GBM Test AUC = %.2f' % model.auc(valid=True))"
   ]
  },
  {
   "cell_type": "code",
   "execution_count": 76,
   "metadata": {},
   "outputs": [
    {
     "name": "stdout",
     "output_type": "stream",
     "text": [
      "Confusion Matrix (Act/Pred) for max f1 @ threshold = 0.31669460318220194: \n"
     ]
    },
    {
     "data": {
      "text/html": [
       "<div style=\"overflow:auto\"><table style=\"width:50%\"><tr><td><b></b></td>\n",
       "<td><b>0</b></td>\n",
       "<td><b>1</b></td>\n",
       "<td><b>Error</b></td>\n",
       "<td><b>Rate</b></td></tr>\n",
       "<tr><td>0</td>\n",
       "<td>2262.0</td>\n",
       "<td>15.0</td>\n",
       "<td>0.0066</td>\n",
       "<td> (15.0/2277.0)</td></tr>\n",
       "<tr><td>1</td>\n",
       "<td>50.0</td>\n",
       "<td>169.0</td>\n",
       "<td>0.2283</td>\n",
       "<td> (50.0/219.0)</td></tr>\n",
       "<tr><td>Total</td>\n",
       "<td>2312.0</td>\n",
       "<td>184.0</td>\n",
       "<td>0.026</td>\n",
       "<td> (65.0/2496.0)</td></tr></table></div>"
      ],
      "text/plain": [
       "       0     1    Error    Rate\n",
       "-----  ----  ---  -------  -------------\n",
       "0      2262  15   0.0066   (15.0/2277.0)\n",
       "1      50    169  0.2283   (50.0/219.0)\n",
       "Total  2312  184  0.026    (65.0/2496.0)"
      ]
     },
     "metadata": {},
     "output_type": "display_data"
    },
    {
     "data": {
      "text/plain": []
     },
     "execution_count": 76,
     "metadata": {},
     "output_type": "execute_result"
    }
   ],
   "source": [
    "model.confusion_matrix()"
   ]
  },
  {
   "cell_type": "code",
   "execution_count": 82,
   "metadata": {},
   "outputs": [
    {
     "name": "stdout",
     "output_type": "stream",
     "text": [
      "glm Grid Build progress: |████████████████████████████████████████████████| 100%\n"
     ]
    },
    {
     "name": "stderr",
     "output_type": "stream",
     "text": [
      "/anaconda3/envs/deep_learning/lib/python3.6/site-packages/h2o/job.py:69: UserWarning: Reached maximum number of iterations 50!\n",
      "  warnings.warn(w)\n"
     ]
    },
    {
     "ename": "TypeError",
     "evalue": "must be real number, not dict",
     "output_type": "error",
     "traceback": [
      "\u001b[0;31m---------------------------------------------------------------------------\u001b[0m",
      "\u001b[0;31mTypeError\u001b[0m                                 Traceback (most recent call last)",
      "\u001b[0;32m<ipython-input-82-a71bef4cd446>\u001b[0m in \u001b[0;36m<module>\u001b[0;34m\u001b[0m\n\u001b[1;32m     14\u001b[0m \u001b[0;34m\u001b[0m\u001b[0m\n\u001b[1;32m     15\u001b[0m \u001b[0;31m# print AUC\u001b[0m\u001b[0;34m\u001b[0m\u001b[0;34m\u001b[0m\u001b[0;34m\u001b[0m\u001b[0m\n\u001b[0;32m---> 16\u001b[0;31m \u001b[0mprint\u001b[0m\u001b[0;34m(\u001b[0m\u001b[0;34m'GLM Test AUC = %.2f'\u001b[0m \u001b[0;34m%\u001b[0m \u001b[0mglm2\u001b[0m\u001b[0;34m.\u001b[0m\u001b[0mauc\u001b[0m\u001b[0;34m(\u001b[0m\u001b[0mvalid\u001b[0m\u001b[0;34m=\u001b[0m\u001b[0;32mTrue\u001b[0m\u001b[0;34m)\u001b[0m\u001b[0;34m)\u001b[0m\u001b[0;34m\u001b[0m\u001b[0;34m\u001b[0m\u001b[0m\n\u001b[0m",
      "\u001b[0;31mTypeError\u001b[0m: must be real number, not dict"
     ]
    }
   ],
   "source": [
    "from h2o.grid.grid_search import H2OGridSearch\n",
    "\n",
    "hyper_parameters = { 'alpha': [0.01,0.1,0.3,0.5,0.7,0.9],\n",
    "                     'lambda': [1e-4,1e-5,1e-6,1e-7,1e-8] }\n",
    "search_criteria = { 'strategy': \"RandomDiscrete\", 'seed': 1,\n",
    "                    'stopping_metric': \"AUC\",\n",
    "                    'stopping_tolerance': 0.001,\n",
    "                    'stopping_rounds': 2 }\n",
    "glm2 = H2OGridSearch(H2OGeneralizedLinearEstimator(family='binomial', nfolds=5),\n",
    "      hyper_parameters,\n",
    "      grid_id=\"glm2\",\n",
    "      search_criteria=search_criteria)\n",
    "glm2.train(x=X,y=y, training_frame=train, validation_frame=test)"
   ]
  },
  {
   "cell_type": "code",
   "execution_count": 83,
   "metadata": {},
   "outputs": [],
   "source": [
    "best_glm2 = glm2[0]"
   ]
  },
  {
   "cell_type": "code",
   "execution_count": 84,
   "metadata": {},
   "outputs": [
    {
     "name": "stdout",
     "output_type": "stream",
     "text": [
      "GLM Test AUC = 0.70\n"
     ]
    }
   ],
   "source": [
    "# print AUC\n",
    "print('GLM Test AUC = %.2f' % best_glm2.auc(valid=True))"
   ]
  },
  {
   "cell_type": "code",
   "execution_count": 85,
   "metadata": {},
   "outputs": [
    {
     "name": "stdout",
     "output_type": "stream",
     "text": [
      "Confusion Matrix (Act/Pred) for max f1 @ threshold = 0.35986598596261704: \n"
     ]
    },
    {
     "data": {
      "text/html": [
       "<div style=\"overflow:auto\"><table style=\"width:50%\"><tr><td><b></b></td>\n",
       "<td><b>0</b></td>\n",
       "<td><b>1</b></td>\n",
       "<td><b>Error</b></td>\n",
       "<td><b>Rate</b></td></tr>\n",
       "<tr><td>0</td>\n",
       "<td>2210.0</td>\n",
       "<td>67.0</td>\n",
       "<td>0.0294</td>\n",
       "<td> (67.0/2277.0)</td></tr>\n",
       "<tr><td>1</td>\n",
       "<td>60.0</td>\n",
       "<td>159.0</td>\n",
       "<td>0.274</td>\n",
       "<td> (60.0/219.0)</td></tr>\n",
       "<tr><td>Total</td>\n",
       "<td>2270.0</td>\n",
       "<td>226.0</td>\n",
       "<td>0.0509</td>\n",
       "<td> (127.0/2496.0)</td></tr></table></div>"
      ],
      "text/plain": [
       "       0     1    Error    Rate\n",
       "-----  ----  ---  -------  --------------\n",
       "0      2210  67   0.0294   (67.0/2277.0)\n",
       "1      60    159  0.274    (60.0/219.0)\n",
       "Total  2270  226  0.0509   (127.0/2496.0)"
      ]
     },
     "metadata": {},
     "output_type": "display_data"
    },
    {
     "data": {
      "text/plain": []
     },
     "execution_count": 85,
     "metadata": {},
     "output_type": "execute_result"
    }
   ],
   "source": [
    "best_glm2.confusion_matrix()"
   ]
  },
  {
   "cell_type": "code",
   "execution_count": 86,
   "metadata": {},
   "outputs": [
    {
     "name": "stdout",
     "output_type": "stream",
     "text": [
      "H2O session _sid_aac9 closed.\n"
     ]
    }
   ],
   "source": [
    "h2o.cluster().shutdown()"
   ]
  },
  {
   "cell_type": "code",
   "execution_count": null,
   "metadata": {},
   "outputs": [],
   "source": [
    " "
   ]
  }
 ],
 "metadata": {
  "kernelspec": {
   "display_name": "Python 3",
   "language": "python",
   "name": "python3"
  },
  "language_info": {
   "codemirror_mode": {
    "name": "ipython",
    "version": 3
   },
   "file_extension": ".py",
   "mimetype": "text/x-python",
   "name": "python",
   "nbconvert_exporter": "python",
   "pygments_lexer": "ipython3",
   "version": "3.7.6"
  }
 },
 "nbformat": 4,
 "nbformat_minor": 2
}
