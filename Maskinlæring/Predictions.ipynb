{
 "cells": [
  {
   "cell_type": "code",
   "execution_count": 1,
   "metadata": {},
   "outputs": [],
   "source": [
    "import numpy as np\n",
    "import pandas as pd \n",
    "import matplotlib.pyplot as plt \n",
    "import seaborn as sns\n",
    "import scipy.stats as stats\n",
    "# Suppress warnings from pandas\n",
    "import warnings\n",
    "warnings.filterwarnings('ignore')\n",
    "import h2o\n",
    "from h2o.estimators import H2ORandomForestEstimator\n",
    "from h2o.grid.grid_search import H2OGridSearch\n",
    "from h2o.estimators.glm import H2OGeneralizedLinearEstimator\n",
    "\n",
    "\n",
    "%matplotlib inline"
   ]
  },
  {
   "cell_type": "code",
   "execution_count": 2,
   "metadata": {},
   "outputs": [],
   "source": [
    "df_train = pd.read_csv(\"train.csv\",index_col='id')\n",
    "df_test = pd.read_csv('test.csv', index_col='id')\n",
    "df_gender_sub = pd.read_csv(\"sampleSubmission.csv\", index_col='id')"
   ]
  },
  {
   "cell_type": "code",
   "execution_count": 3,
   "metadata": {},
   "outputs": [],
   "source": [
    "#Create variable for test data filled with nan\n",
    "df_test[\"target\"] = np.nan"
   ]
  },
  {
   "cell_type": "code",
   "execution_count": 4,
   "metadata": {},
   "outputs": [
    {
     "data": {
      "text/plain": [
       "(11962, 231)"
      ]
     },
     "execution_count": 4,
     "metadata": {},
     "output_type": "execute_result"
    }
   ],
   "source": [
    "df_train.shape"
   ]
  },
  {
   "cell_type": "code",
   "execution_count": 5,
   "metadata": {},
   "outputs": [
    {
     "data": {
      "text/plain": [
       "(5121, 231)"
      ]
     },
     "execution_count": 5,
     "metadata": {},
     "output_type": "execute_result"
    }
   ],
   "source": [
    "df_test.shape"
   ]
  },
  {
   "cell_type": "code",
   "execution_count": 6,
   "metadata": {},
   "outputs": [
    {
     "data": {
      "text/plain": [
       "(17083, 231)"
      ]
     },
     "execution_count": 6,
     "metadata": {},
     "output_type": "execute_result"
    }
   ],
   "source": [
    "df_all = pd.concat([df_train, df_test])\n",
    "df_all.shape"
   ]
  },
  {
   "cell_type": "code",
   "execution_count": 7,
   "metadata": {},
   "outputs": [
    {
     "data": {
      "text/plain": [
       "id\n",
       "1    0.0\n",
       "2    0.0\n",
       "3    0.0\n",
       "4    1.0\n",
       "6    0.0\n",
       "Name: target, dtype: float64"
      ]
     },
     "execution_count": 7,
     "metadata": {},
     "output_type": "execute_result"
    }
   ],
   "source": [
    "df_all[\"target\"].head()"
   ]
  },
  {
   "cell_type": "code",
   "execution_count": 8,
   "metadata": {},
   "outputs": [
    {
     "data": {
      "text/plain": [
       "id\n",
       "17074   NaN\n",
       "17076   NaN\n",
       "17079   NaN\n",
       "17082   NaN\n",
       "17083   NaN\n",
       "Name: target, dtype: float64"
      ]
     },
     "execution_count": 8,
     "metadata": {},
     "output_type": "execute_result"
    }
   ],
   "source": [
    "df_all[\"target\"].tail()"
   ]
  },
  {
   "cell_type": "code",
   "execution_count": 9,
   "metadata": {},
   "outputs": [],
   "source": [
    "cat_obs = df_all.select_dtypes(include = ['object'].copy())\n",
    "# converting to categorical data for faster computing purposes \n",
    "for i in cat_obs:\n",
    "    cat_obs[i] = cat_obs[i].astype('category')"
   ]
  },
  {
   "cell_type": "code",
   "execution_count": 10,
   "metadata": {},
   "outputs": [],
   "source": [
    "vars_all = df_all.columns.values\n",
    "var_dep = ['target']\n",
    "\n",
    "\n",
    "\n",
    "vars_ind = [var for var in vars_all if var not in (var_dep)]"
   ]
  },
  {
   "cell_type": "code",
   "execution_count": 11,
   "metadata": {},
   "outputs": [],
   "source": [
    "vars_ind_numeric = list(df_all[vars_ind].columns[df_all[vars_ind].dtypes != 'object'])\n",
    "vars_ind_categorical = list(df_all[vars_ind].columns[df_all[vars_ind].dtypes == 'object'])"
   ]
  },
  {
   "cell_type": "code",
   "execution_count": 12,
   "metadata": {},
   "outputs": [
    {
     "name": "stdout",
     "output_type": "stream",
     "text": [
      "Checking whether there is an H2O instance running at http://localhost:54321 ..... not found.\n",
      "Attempting to start a local H2O server...\n",
      "  Java Version: openjdk version \"11.0.1\" 2018-10-16 LTS; OpenJDK Runtime Environment Zulu11.2+3 (build 11.0.1+13-LTS); OpenJDK 64-Bit Server VM Zulu11.2+3 (build 11.0.1+13-LTS, mixed mode)\n",
      "  Starting server from /anaconda3/envs/deep_learning/lib/python3.6/site-packages/h2o/backend/bin/h2o.jar\n",
      "  Ice root: /var/folders/k7/m7h3wyzn4yb714dfsnq0ysx00000gn/T/tmpisswu3fb\n",
      "  JVM stdout: /var/folders/k7/m7h3wyzn4yb714dfsnq0ysx00000gn/T/tmpisswu3fb/h2o_gunnarwindsand_started_from_python.out\n",
      "  JVM stderr: /var/folders/k7/m7h3wyzn4yb714dfsnq0ysx00000gn/T/tmpisswu3fb/h2o_gunnarwindsand_started_from_python.err\n",
      "  Server is running at http://127.0.0.1:54321\n",
      "Connecting to H2O server at http://127.0.0.1:54321 ... successful.\n"
     ]
    },
    {
     "data": {
      "text/html": [
       "<div style=\"overflow:auto\"><table style=\"width:50%\"><tr><td>H2O cluster uptime:</td>\n",
       "<td>02 secs</td></tr>\n",
       "<tr><td>H2O cluster timezone:</td>\n",
       "<td>Europe/Paris</td></tr>\n",
       "<tr><td>H2O data parsing timezone:</td>\n",
       "<td>UTC</td></tr>\n",
       "<tr><td>H2O cluster version:</td>\n",
       "<td>3.24.0.3</td></tr>\n",
       "<tr><td>H2O cluster version age:</td>\n",
       "<td>1 month and 17 days </td></tr>\n",
       "<tr><td>H2O cluster name:</td>\n",
       "<td>H2O_from_python_gunnarwindsand_1azkcz</td></tr>\n",
       "<tr><td>H2O cluster total nodes:</td>\n",
       "<td>1</td></tr>\n",
       "<tr><td>H2O cluster free memory:</td>\n",
       "<td>4 Gb</td></tr>\n",
       "<tr><td>H2O cluster total cores:</td>\n",
       "<td>12</td></tr>\n",
       "<tr><td>H2O cluster allowed cores:</td>\n",
       "<td>12</td></tr>\n",
       "<tr><td>H2O cluster status:</td>\n",
       "<td>accepting new members, healthy</td></tr>\n",
       "<tr><td>H2O connection url:</td>\n",
       "<td>http://127.0.0.1:54321</td></tr>\n",
       "<tr><td>H2O connection proxy:</td>\n",
       "<td>None</td></tr>\n",
       "<tr><td>H2O internal security:</td>\n",
       "<td>False</td></tr>\n",
       "<tr><td>H2O API Extensions:</td>\n",
       "<td>Amazon S3, XGBoost, Algos, AutoML, Core V3, Core V4</td></tr>\n",
       "<tr><td>Python version:</td>\n",
       "<td>3.6.7 final</td></tr></table></div>"
      ],
      "text/plain": [
       "--------------------------  ---------------------------------------------------\n",
       "H2O cluster uptime:         02 secs\n",
       "H2O cluster timezone:       Europe/Paris\n",
       "H2O data parsing timezone:  UTC\n",
       "H2O cluster version:        3.24.0.3\n",
       "H2O cluster version age:    1 month and 17 days\n",
       "H2O cluster name:           H2O_from_python_gunnarwindsand_1azkcz\n",
       "H2O cluster total nodes:    1\n",
       "H2O cluster free memory:    4 Gb\n",
       "H2O cluster total cores:    12\n",
       "H2O cluster allowed cores:  12\n",
       "H2O cluster status:         accepting new members, healthy\n",
       "H2O connection url:         http://127.0.0.1:54321\n",
       "H2O connection proxy:\n",
       "H2O internal security:      False\n",
       "H2O API Extensions:         Amazon S3, XGBoost, Algos, AutoML, Core V3, Core V4\n",
       "Python version:             3.6.7 final\n",
       "--------------------------  ---------------------------------------------------"
      ]
     },
     "metadata": {},
     "output_type": "display_data"
    }
   ],
   "source": [
    "h2o.init()"
   ]
  },
  {
   "cell_type": "code",
   "execution_count": 162,
   "metadata": {},
   "outputs": [],
   "source": [
    "h2o.remove_all() "
   ]
  },
  {
   "cell_type": "code",
   "execution_count": 13,
   "metadata": {},
   "outputs": [
    {
     "name": "stdout",
     "output_type": "stream",
     "text": [
      "Parse progress: |█████████████████████████████████████████████████████████| 100%\n"
     ]
    }
   ],
   "source": [
    "h2o_df_all = h2o.H2OFrame(df_all[vars_ind + var_dep])"
   ]
  },
  {
   "cell_type": "code",
   "execution_count": 14,
   "metadata": {},
   "outputs": [
    {
     "name": "stdout",
     "output_type": "stream",
     "text": [
      "Parse progress: |█████████████████████████████████████████████████████████| 100%\n",
      "Parse progress: |█████████████████████████████████████████████████████████| 100%\n"
     ]
    }
   ],
   "source": [
    "# To use for predictions\n",
    "h2o_train = h2o.import_file(\"train.csv\")\n",
    "h2o_test = h2o.import_file(\"test.csv\")"
   ]
  },
  {
   "cell_type": "code",
   "execution_count": 15,
   "metadata": {},
   "outputs": [],
   "source": [
    "y = \"target\"\n",
    "x = h2o_df_all.names \n",
    "x.remove(y)"
   ]
  },
  {
   "cell_type": "code",
   "execution_count": 16,
   "metadata": {},
   "outputs": [],
   "source": [
    "train, valid, test = h2o_df_all.split_frame([0.75, 0.15 ])"
   ]
  },
  {
   "cell_type": "code",
   "execution_count": 17,
   "metadata": {},
   "outputs": [],
   "source": [
    "train[\"target\"] = train[\"target\"].asfactor()\n",
    "valid[\"target\"] = valid[\"target\"].asfactor()\n",
    "test[\"target\"] = test[\"target\"].asfactor()"
   ]
  },
  {
   "cell_type": "code",
   "execution_count": 18,
   "metadata": {},
   "outputs": [],
   "source": [
    "glm_1 = H2OGeneralizedLinearEstimator(alpha=1,\n",
    "                                     family=\"binomial\",\n",
    "                                      standardize = True,\n",
    "                                     link=\"logit\",\n",
    "                                     lambda_search=True,\n",
    "                                     seed=2000000)"
   ]
  },
  {
   "cell_type": "code",
   "execution_count": 19,
   "metadata": {},
   "outputs": [
    {
     "name": "stdout",
     "output_type": "stream",
     "text": [
      "glm Model Build progress: |███████████████████████████████████████████████| 100%\n"
     ]
    }
   ],
   "source": [
    "glm_1.train(x=x, y=y, training_frame=train, validation_frame=valid)"
   ]
  },
  {
   "cell_type": "code",
   "execution_count": 27,
   "metadata": {},
   "outputs": [
    {
     "data": {
      "text/plain": [
       "0.8752790111836225"
      ]
     },
     "execution_count": 27,
     "metadata": {},
     "output_type": "execute_result"
    }
   ],
   "source": [
    "glm_1.model_performance(train).auc()"
   ]
  },
  {
   "cell_type": "code",
   "execution_count": 29,
   "metadata": {},
   "outputs": [
    {
     "data": {
      "text/plain": [
       "0.8292279110957098"
      ]
     },
     "execution_count": 29,
     "metadata": {},
     "output_type": "execute_result"
    }
   ],
   "source": [
    "# fréature \n",
    "glm_1.model_performance(test).auc()\n",
    "glm_1.model_performance(train).auc()\n",
    "glm_1.accuracy()\n",
    "glm_1.confusion_matrix()"
   ]
  },
  {
   "cell_type": "code",
   "execution_count": 28,
   "metadata": {},
   "outputs": [
    {
     "data": {
      "text/plain": [
       "[[0.4159559226449708, 0.9262004868333702]]"
      ]
     },
     "execution_count": 28,
     "metadata": {},
     "output_type": "execute_result"
    }
   ],
   "source": [
    "# fréature \n",
    "glm_1.accuracy()"
   ]
  },
  {
   "cell_type": "code",
   "execution_count": 30,
   "metadata": {},
   "outputs": [
    {
     "name": "stdout",
     "output_type": "stream",
     "text": [
      "Confusion Matrix (Act/Pred) for max f1 @ threshold = 0.22158264574177716: \n"
     ]
    },
    {
     "data": {
      "text/html": [
       "<div style=\"overflow:auto\"><table style=\"width:50%\"><tr><td><b></b></td>\n",
       "<td><b>0</b></td>\n",
       "<td><b>1</b></td>\n",
       "<td><b>Error</b></td>\n",
       "<td><b>Rate</b></td></tr>\n",
       "<tr><td>0</td>\n",
       "<td>7724.0</td>\n",
       "<td>495.0</td>\n",
       "<td>0.0602</td>\n",
       "<td> (495.0/8219.0)</td></tr>\n",
       "<tr><td>1</td>\n",
       "<td>373.0</td>\n",
       "<td>446.0</td>\n",
       "<td>0.4554</td>\n",
       "<td> (373.0/819.0)</td></tr>\n",
       "<tr><td>Total</td>\n",
       "<td>8097.0</td>\n",
       "<td>941.0</td>\n",
       "<td>0.096</td>\n",
       "<td> (868.0/9038.0)</td></tr></table></div>"
      ],
      "text/plain": [
       "       0     1    Error    Rate\n",
       "-----  ----  ---  -------  --------------\n",
       "0      7724  495  0.0602   (495.0/8219.0)\n",
       "1      373   446  0.4554   (373.0/819.0)\n",
       "Total  8097  941  0.096    (868.0/9038.0)"
      ]
     },
     "metadata": {},
     "output_type": "display_data"
    },
    {
     "data": {
      "text/plain": []
     },
     "execution_count": 30,
     "metadata": {},
     "output_type": "execute_result"
    }
   ],
   "source": [
    "glm_1.confusion_matrix()"
   ]
  },
  {
   "cell_type": "code",
   "execution_count": 31,
   "metadata": {},
   "outputs": [
    {
     "data": {
      "image/png": "[encoded data removed]",
      "text/plain": [
       "<Figure size 1008x720 with 1 Axes>"
      ]
     },
     "metadata": {
      "needs_background": "light"
     },
     "output_type": "display_data"
    }
   ],
   "source": [
    "glm_1.varimp_plot()"
   ]
  },
  {
   "cell_type": "code",
   "execution_count": 32,
   "metadata": {},
   "outputs": [
    {
     "data": {
      "text/plain": [
       "Intercept      -4.768491\n",
       "v_char_100.q    0.232808\n",
       "v_char_43.T    -0.041053\n",
       "v_char_43.f     0.266351\n",
       "v_char_118.P    0.082253\n",
       "dtype: float64"
      ]
     },
     "execution_count": 32,
     "metadata": {},
     "output_type": "execute_result"
    }
   ],
   "source": [
    "df_coef= pd.Series(glm_1.coef())\n",
    "df_coef= df_coef[np.abs(df_coef) > 0]\n",
    "df_coef.head()"
   ]
  },
  {
   "cell_type": "code",
   "execution_count": 33,
   "metadata": {},
   "outputs": [
    {
     "data": {
      "text/plain": [
       "(118,)"
      ]
     },
     "execution_count": 33,
     "metadata": {},
     "output_type": "execute_result"
    }
   ],
   "source": [
    "df_coef.shape"
   ]
  },
  {
   "cell_type": "code",
   "execution_count": 34,
   "metadata": {},
   "outputs": [
    {
     "data": {
      "image/png": "[encoded data removed]",
      "text/plain": [
       "<Figure size 1008x720 with 1 Axes>"
      ]
     },
     "metadata": {
      "needs_background": "light"
     },
     "output_type": "display_data"
    }
   ],
   "source": [
    "glm_1.std_coef_plot(num_of_features=10)"
   ]
  },
  {
   "cell_type": "code",
   "execution_count": 35,
   "metadata": {},
   "outputs": [],
   "source": [
    "glm_perf1 = glm_1.model_performance(test)"
   ]
  },
  {
   "cell_type": "code",
   "execution_count": 36,
   "metadata": {},
   "outputs": [
    {
     "name": "stdout",
     "output_type": "stream",
     "text": [
      "0.6584558221914196\n"
     ]
    }
   ],
   "source": [
    "# Retreive test set AUC\n",
    "print(glm_perf1.gini())"
   ]
  },
  {
   "cell_type": "code",
   "execution_count": 37,
   "metadata": {},
   "outputs": [
    {
     "name": "stdout",
     "output_type": "stream",
     "text": [
      "0.750558022367245\n"
     ]
    }
   ],
   "source": [
    "# Compare test AUC to the training AUC and validation AUC\n",
    "print (glm_1.gini(train=True))"
   ]
  },
  {
   "cell_type": "code",
   "execution_count": 38,
   "metadata": {},
   "outputs": [
    {
     "name": "stdout",
     "output_type": "stream",
     "text": [
      "glm prediction progress: |████████████████████████████████████████████████| 100%\n"
     ]
    }
   ],
   "source": [
    "predictions = glm_1.predict(test_data=h2o_test)\n",
    "#pred = predictions.concat(h2o_test[\"id\"])\n",
    "#pred.head(5)"
   ]
  },
  {
   "cell_type": "code",
   "execution_count": 39,
   "metadata": {},
   "outputs": [],
   "source": [
    "submission = pd.read_csv('sampleSubmission.csv')\n",
    "# Using fraud as indicator\n",
    "submission['target'] = predictions['p1'].as_data_frame()"
   ]
  },
  {
   "cell_type": "code",
   "execution_count": 40,
   "metadata": {},
   "outputs": [
    {
     "data": {
      "text/html": [
       "<div>\n",
       "<style scoped>\n",
       "    .dataframe tbody tr th:only-of-type {\n",
       "        vertical-align: middle;\n",
       "    }\n",
       "\n",
       "    .dataframe tbody tr th {\n",
       "        vertical-align: top;\n",
       "    }\n",
       "\n",
       "    .dataframe thead th {\n",
       "        text-align: right;\n",
       "    }\n",
       "</style>\n",
       "<table border=\"1\" class=\"dataframe\">\n",
       "  <thead>\n",
       "    <tr style=\"text-align: right;\">\n",
       "      <th></th>\n",
       "      <th>id</th>\n",
       "      <th>target</th>\n",
       "    </tr>\n",
       "  </thead>\n",
       "  <tbody>\n",
       "    <tr>\n",
       "      <th>0</th>\n",
       "      <td>5</td>\n",
       "      <td>0.056435</td>\n",
       "    </tr>\n",
       "    <tr>\n",
       "      <th>1</th>\n",
       "      <td>10</td>\n",
       "      <td>0.170487</td>\n",
       "    </tr>\n",
       "    <tr>\n",
       "      <th>2</th>\n",
       "      <td>11</td>\n",
       "      <td>0.020365</td>\n",
       "    </tr>\n",
       "    <tr>\n",
       "      <th>3</th>\n",
       "      <td>13</td>\n",
       "      <td>0.193980</td>\n",
       "    </tr>\n",
       "    <tr>\n",
       "      <th>4</th>\n",
       "      <td>16</td>\n",
       "      <td>0.015281</td>\n",
       "    </tr>\n",
       "  </tbody>\n",
       "</table>\n",
       "</div>"
      ],
      "text/plain": [
       "   id    target\n",
       "0   5  0.056435\n",
       "1  10  0.170487\n",
       "2  11  0.020365\n",
       "3  13  0.193980\n",
       "4  16  0.015281"
      ]
     },
     "execution_count": 40,
     "metadata": {},
     "output_type": "execute_result"
    }
   ],
   "source": [
    "submission.head()"
   ]
  },
  {
   "cell_type": "code",
   "execution_count": 174,
   "metadata": {},
   "outputs": [
    {
     "data": {
      "text/html": [
       "<div>\n",
       "<style scoped>\n",
       "    .dataframe tbody tr th:only-of-type {\n",
       "        vertical-align: middle;\n",
       "    }\n",
       "\n",
       "    .dataframe tbody tr th {\n",
       "        vertical-align: top;\n",
       "    }\n",
       "\n",
       "    .dataframe thead th {\n",
       "        text-align: right;\n",
       "    }\n",
       "</style>\n",
       "<table border=\"1\" class=\"dataframe\">\n",
       "  <thead>\n",
       "    <tr style=\"text-align: right;\">\n",
       "      <th></th>\n",
       "      <th>id</th>\n",
       "      <th>target</th>\n",
       "    </tr>\n",
       "  </thead>\n",
       "  <tbody>\n",
       "    <tr>\n",
       "      <th>0</th>\n",
       "      <td>5</td>\n",
       "      <td>0.064768</td>\n",
       "    </tr>\n",
       "    <tr>\n",
       "      <th>1</th>\n",
       "      <td>10</td>\n",
       "      <td>0.162993</td>\n",
       "    </tr>\n",
       "    <tr>\n",
       "      <th>2</th>\n",
       "      <td>11</td>\n",
       "      <td>0.033675</td>\n",
       "    </tr>\n",
       "    <tr>\n",
       "      <th>3</th>\n",
       "      <td>13</td>\n",
       "      <td>0.150590</td>\n",
       "    </tr>\n",
       "    <tr>\n",
       "      <th>4</th>\n",
       "      <td>16</td>\n",
       "      <td>0.017898</td>\n",
       "    </tr>\n",
       "  </tbody>\n",
       "</table>\n",
       "</div>"
      ],
      "text/plain": [
       "   id    target\n",
       "0   5  0.064768\n",
       "1  10  0.162993\n",
       "2  11  0.033675\n",
       "3  13  0.150590\n",
       "4  16  0.017898"
      ]
     },
     "execution_count": 174,
     "metadata": {},
     "output_type": "execute_result"
    }
   ],
   "source": [
    "submission.to_csv('glm_20_submission.csv', index = False)\n",
    "submission.head()"
   ]
  },
  {
   "cell_type": "code",
   "execution_count": null,
   "metadata": {},
   "outputs": [],
   "source": []
  },
  {
   "cell_type": "markdown",
   "metadata": {},
   "source": [
    "## Random Forest"
   ]
  },
  {
   "cell_type": "code",
   "execution_count": 41,
   "metadata": {},
   "outputs": [],
   "source": [
    "# Import H2O RF:\n",
    "from h2o.estimators.random_forest import H2ORandomForestEstimator\n",
    "# Initialize the RF estimator:\n",
    "\n",
    "rf_fit1 = H2ORandomForestEstimator(model_id='rf_fit1',   seed=1)"
   ]
  },
  {
   "cell_type": "code",
   "execution_count": 42,
   "metadata": {},
   "outputs": [
    {
     "name": "stdout",
     "output_type": "stream",
     "text": [
      "drf Model Build progress: |███████████████████████████████████████████████| 100%\n"
     ]
    }
   ],
   "source": [
    "rf_fit1.train(x=x, y=y, training_frame=train, validation_frame=valid)"
   ]
  },
  {
   "cell_type": "code",
   "execution_count": 43,
   "metadata": {},
   "outputs": [
    {
     "name": "stdout",
     "output_type": "stream",
     "text": [
      "drf Model Build progress: |███████████████████████████████████████████████| 100%\n"
     ]
    }
   ],
   "source": [
    "rf_fit2 = H2ORandomForestEstimator(model_id='rf_fit2', ntrees=100,   seed=1)\n",
    "rf_fit2.train(x=x, y=y, training_frame=train,validation_frame=valid)"
   ]
  },
  {
   "cell_type": "code",
   "execution_count": 45,
   "metadata": {},
   "outputs": [
    {
     "name": "stdout",
     "output_type": "stream",
     "text": [
      "0.6857835917872304\n",
      "0.6892103920606043\n"
     ]
    }
   ],
   "source": [
    "rf_perf1 = rf_fit1.model_performance(test)\n",
    "rf_perf2 = rf_fit2.model_performance(test)\n",
    "# Retreive test set AUC\n",
    "print(rf_perf1.gini())\n",
    "print(rf_perf2.gini())"
   ]
  },
  {
   "cell_type": "code",
   "execution_count": 46,
   "metadata": {},
   "outputs": [
    {
     "name": "stdout",
     "output_type": "stream",
     "text": [
      "0.8446051960303022\n",
      "1.0\n",
      "[[0.4586909895053702, 0.9213321531312237]]\n",
      "Confusion Matrix (Act/Pred) for max f1 @ threshold = 0.23787546832781664: \n"
     ]
    },
    {
     "data": {
      "text/html": [
       "<div style=\"overflow:auto\"><table style=\"width:50%\"><tr><td><b></b></td>\n",
       "<td><b>0</b></td>\n",
       "<td><b>1</b></td>\n",
       "<td><b>Error</b></td>\n",
       "<td><b>Rate</b></td></tr>\n",
       "<tr><td>0</td>\n",
       "<td>7687.0</td>\n",
       "<td>532.0</td>\n",
       "<td>0.0647</td>\n",
       "<td> (532.0/8219.0)</td></tr>\n",
       "<tr><td>1</td>\n",
       "<td>404.0</td>\n",
       "<td>415.0</td>\n",
       "<td>0.4933</td>\n",
       "<td> (404.0/819.0)</td></tr>\n",
       "<tr><td>Total</td>\n",
       "<td>8091.0</td>\n",
       "<td>947.0</td>\n",
       "<td>0.1036</td>\n",
       "<td> (936.0/9038.0)</td></tr></table></div>"
      ],
      "text/plain": [
       "       0     1    Error    Rate\n",
       "-----  ----  ---  -------  --------------\n",
       "0      7687  532  0.0647   (532.0/8219.0)\n",
       "1      404   415  0.4933   (404.0/819.0)\n",
       "Total  8091  947  0.1036   (936.0/9038.0)"
      ]
     },
     "metadata": {},
     "output_type": "display_data"
    },
    {
     "name": "stdout",
     "output_type": "stream",
     "text": [
      "\n"
     ]
    }
   ],
   "source": [
    "print(rf_fit2.model_performance(test).auc())\n",
    "print(rf_fit2.model_performance(train).auc())\n",
    "print(rf_fit2.accuracy())\n",
    "print(rf_fit2.confusion_matrix())"
   ]
  },
  {
   "cell_type": "code",
   "execution_count": 57,
   "metadata": {},
   "outputs": [
    {
     "name": "stdout",
     "output_type": "stream",
     "text": [
      "drf Model Build progress: |███████████████████████████████████████████████| 100%\n"
     ]
    }
   ],
   "source": [
    "# initialize rf model\n",
    "rf_model = H2ORandomForestEstimator(\n",
    "    ntrees=50,                      # Up to 500 decision trees in the forest \n",
    "    max_depth=30,                    # trees can grow to depth of 30\n",
    "    stopping_rounds=5,               # stop after validation error does not decrease for 5 iterations/new trees\n",
    "    score_each_iteration=True,       # score validation error on every iteration/new tree\n",
    "    model_id='rf_model',             # for easy lookup in flow\n",
    "    seed=12345)                      \n",
    "\n",
    "# train rf model\n",
    "rf_model.train(\n",
    "    x=x,\n",
    "    y=y,\n",
    "    training_frame=train,\n",
    "    validation_frame=valid)"
   ]
  },
  {
   "cell_type": "code",
   "execution_count": 58,
   "metadata": {},
   "outputs": [
    {
     "name": "stdout",
     "output_type": "stream",
     "text": [
      "0.8079799166914389\n",
      "0.847049551220236\n",
      "0.8414767969043287\n"
     ]
    }
   ],
   "source": [
    "# measure rf AUC\n",
    "print(rf_model.auc(train=True))\n",
    "print(rf_model.auc(valid=True))\n",
    "print(rf_model.model_performance(test_data=test).auc())"
   ]
  },
  {
   "cell_type": "code",
   "execution_count": 59,
   "metadata": {},
   "outputs": [
    {
     "name": "stdout",
     "output_type": "stream",
     "text": [
      "Confusion Matrix (Act/Pred) for max f1 @ threshold = 0.2692307692307693: \n"
     ]
    },
    {
     "data": {
      "text/html": [
       "<div style=\"overflow:auto\"><table style=\"width:50%\"><tr><td><b></b></td>\n",
       "<td><b>0</b></td>\n",
       "<td><b>1</b></td>\n",
       "<td><b>Error</b></td>\n",
       "<td><b>Rate</b></td></tr>\n",
       "<tr><td>0</td>\n",
       "<td>7781.0</td>\n",
       "<td>438.0</td>\n",
       "<td>0.0533</td>\n",
       "<td> (438.0/8219.0)</td></tr>\n",
       "<tr><td>1</td>\n",
       "<td>469.0</td>\n",
       "<td>350.0</td>\n",
       "<td>0.5726</td>\n",
       "<td> (469.0/819.0)</td></tr>\n",
       "<tr><td>Total</td>\n",
       "<td>8250.0</td>\n",
       "<td>788.0</td>\n",
       "<td>0.1004</td>\n",
       "<td> (907.0/9038.0)</td></tr></table></div>"
      ],
      "text/plain": [
       "       0     1    Error    Rate\n",
       "-----  ----  ---  -------  --------------\n",
       "0      7781  438  0.0533   (438.0/8219.0)\n",
       "1      469   350  0.5726   (469.0/819.0)\n",
       "Total  8250  788  0.1004   (907.0/9038.0)"
      ]
     },
     "metadata": {},
     "output_type": "display_data"
    },
    {
     "data": {
      "text/plain": []
     },
     "execution_count": 59,
     "metadata": {},
     "output_type": "execute_result"
    }
   ],
   "source": [
    "rf_model.confusion_matrix()"
   ]
  },
  {
   "cell_type": "code",
   "execution_count": null,
   "metadata": {},
   "outputs": [],
   "source": []
  },
  {
   "cell_type": "code",
   "execution_count": null,
   "metadata": {},
   "outputs": [],
   "source": []
  },
  {
   "cell_type": "code",
   "execution_count": null,
   "metadata": {},
   "outputs": [],
   "source": []
  },
  {
   "cell_type": "code",
   "execution_count": null,
   "metadata": {},
   "outputs": [],
   "source": []
  },
  {
   "cell_type": "code",
   "execution_count": 47,
   "metadata": {},
   "outputs": [],
   "source": [
    "# Import H2O Grid Search:\n",
    "from h2o.grid.grid_search import H2OGridSearch\n",
    "\n",
    "# Import H2O GBM:\n",
    "from h2o.estimators.gbm import H2OGradientBoostingEstimator"
   ]
  },
  {
   "cell_type": "code",
   "execution_count": 48,
   "metadata": {},
   "outputs": [],
   "source": [
    "# GBM hyperparameters\n",
    "gbm_params1 = {'learn_rate': [0.01, 0.1], \n",
    "                'max_depth': [3, 5, 9],\n",
    "                'sample_rate': [0.8, 1.0],\n",
    "                'col_sample_rate': [0.2, 0.5, 1.0]}"
   ]
  },
  {
   "cell_type": "code",
   "execution_count": 49,
   "metadata": {},
   "outputs": [
    {
     "name": "stdout",
     "output_type": "stream",
     "text": [
      "gbm Grid Build progress: |████████████████████████████████████████████████| 100%\n"
     ]
    }
   ],
   "source": [
    "gbm_grid1 = H2OGridSearch(model=H2OGradientBoostingEstimator,\n",
    "                          grid_id='gbm_grid1',\n",
    "                          hyper_params=gbm_params1)\n",
    "gbm_grid1.train(x=x, y=y, \n",
    "                training_frame=train, \n",
    "                validation_frame=valid, \n",
    "                ntrees=100,\n",
    "                seed=1)"
   ]
  },
  {
   "cell_type": "code",
   "execution_count": 52,
   "metadata": {},
   "outputs": [],
   "source": [
    "gbm_gridperf1 = gbm_grid1.get_grid(sort_by='auc', decreasing=True)\n",
    "best1 = gbm_gridperf1[0]"
   ]
  },
  {
   "cell_type": "code",
   "execution_count": 54,
   "metadata": {},
   "outputs": [
    {
     "name": "stdout",
     "output_type": "stream",
     "text": [
      "0.7311790695659706\n",
      "0.7311790695659706\n"
     ]
    }
   ],
   "source": [
    "gbm_perf1 = best1.model_performance(test)\n",
    "gbm_perf2 = best1.model_performance(test)\n",
    "# Retreive test set AUC\n",
    "print(gbm_perf1.gini())\n",
    "print(gbm_perf2.gini())"
   ]
  },
  {
   "cell_type": "markdown",
   "metadata": {},
   "source": [
    "\n",
    "### Random Grid Search\n",
    "This example is set to run fairly quickly -- increase max_runtime_secs or max_models to cover more of the hyperparameter space. Also, you can expand the hyperparameter space of each of the algorithms by modifying the hyper parameter list below.\n",
    "In addition to the hyperparameter dictionary, we will specify the search_criteria as 'RandomDiscrete', with a max numeber of models equal to 36."
   ]
  },
  {
   "cell_type": "code",
   "execution_count": 60,
   "metadata": {},
   "outputs": [],
   "source": [
    "# GBM hyperparameters\n",
    "gbm_params2 = {'learn_rate': [i * 0.01 for i in range(1, 11)], \n",
    "                'max_depth': list(range(2, 11)),\n",
    "                'sample_rate': [i * 0.1 for i in range(5, 11)],\n",
    "                'col_sample_rate': [i * 0.1 for i in range(1, 11)]}\n",
    "\n",
    "# Search criteria\n",
    "search_criteria2 = {'strategy': 'RandomDiscrete', 'max_models': 36}"
   ]
  },
  {
   "cell_type": "code",
   "execution_count": 61,
   "metadata": {},
   "outputs": [
    {
     "name": "stdout",
     "output_type": "stream",
     "text": [
      "gbm Grid Build progress: |████████████████████████████████████████████████| 100%\n"
     ]
    }
   ],
   "source": [
    "gbm_grid2 = H2OGridSearch(model=H2OGradientBoostingEstimator,\n",
    "                          grid_id='gbm_grid2',\n",
    "                          hyper_params=gbm_params2,\n",
    "                          search_criteria=search_criteria2)\n",
    "gbm_grid2.train(x=x, y=y, \n",
    "                training_frame=train, \n",
    "                validation_frame=valid, \n",
    "                ntrees=100,\n",
    "                seed=1)"
   ]
  },
  {
   "cell_type": "code",
   "execution_count": 63,
   "metadata": {},
   "outputs": [],
   "source": [
    "gbm_gridperf2 = gbm_grid2.get_grid(sort_by='auc', decreasing=True)\n",
    "best2 = gbm_gridperf2[0]"
   ]
  },
  {
   "cell_type": "code",
   "execution_count": 64,
   "metadata": {},
   "outputs": [
    {
     "data": {
      "text/plain": [
       "[[0.2057634900066371, 0.9675813233016154]]"
      ]
     },
     "execution_count": 64,
     "metadata": {},
     "output_type": "execute_result"
    }
   ],
   "source": [
    "best2.accuracy()"
   ]
  },
  {
   "cell_type": "code",
   "execution_count": 69,
   "metadata": {},
   "outputs": [
    {
     "name": "stdout",
     "output_type": "stream",
     "text": [
      "\n",
      "ModelMetricsBinomial: gbm\n",
      "** Reported on test data. **\n",
      "\n",
      "MSE: 0.04770889981103608\n",
      "RMSE: 0.21842367044584723\n",
      "LogLoss: 0.17867677070183502\n",
      "Mean Per-Class Error: 0.10356538595983789\n",
      "AUC: 0.9665611456583595\n",
      "pr_auc: 0.8596851719217736\n",
      "Gini: 0.933122291316719\n",
      "Confusion Matrix (Act/Pred) for max f1 @ threshold = 0.1987598916426681: \n"
     ]
    },
    {
     "data": {
      "text/html": [
       "<div style=\"overflow:auto\"><table style=\"width:50%\"><tr><td><b></b></td>\n",
       "<td><b>0</b></td>\n",
       "<td><b>1</b></td>\n",
       "<td><b>Error</b></td>\n",
       "<td><b>Rate</b></td></tr>\n",
       "<tr><td>0</td>\n",
       "<td>8149.0</td>\n",
       "<td>70.0</td>\n",
       "<td>0.0085</td>\n",
       "<td> (70.0/8219.0)</td></tr>\n",
       "<tr><td>1</td>\n",
       "<td>226.0</td>\n",
       "<td>593.0</td>\n",
       "<td>0.2759</td>\n",
       "<td> (226.0/819.0)</td></tr>\n",
       "<tr><td>Total</td>\n",
       "<td>8375.0</td>\n",
       "<td>663.0</td>\n",
       "<td>0.0328</td>\n",
       "<td> (296.0/9038.0)</td></tr></table></div>"
      ],
      "text/plain": [
       "       0     1    Error    Rate\n",
       "-----  ----  ---  -------  --------------\n",
       "0      8149  70   0.0085   (70.0/8219.0)\n",
       "1      226   593  0.2759   (226.0/819.0)\n",
       "Total  8375  663  0.0328   (296.0/9038.0)"
      ]
     },
     "metadata": {},
     "output_type": "display_data"
    },
    {
     "name": "stdout",
     "output_type": "stream",
     "text": [
      "Maximum Metrics: Maximum metrics at their respective thresholds\n",
      "\n"
     ]
    },
    {
     "data": {
      "text/html": [
       "<div style=\"overflow:auto\"><table style=\"width:50%\"><tr><td><b>metric</b></td>\n",
       "<td><b>threshold</b></td>\n",
       "<td><b>value</b></td>\n",
       "<td><b>idx</b></td></tr>\n",
       "<tr><td>max f1</td>\n",
       "<td>0.1987599</td>\n",
       "<td>0.8002699</td>\n",
       "<td>182.0</td></tr>\n",
       "<tr><td>max f2</td>\n",
       "<td>0.1663522</td>\n",
       "<td>0.7724477</td>\n",
       "<td>201.0</td></tr>\n",
       "<tr><td>max f0point5</td>\n",
       "<td>0.2571066</td>\n",
       "<td>0.8857809</td>\n",
       "<td>157.0</td></tr>\n",
       "<tr><td>max accuracy</td>\n",
       "<td>0.2076505</td>\n",
       "<td>0.9675813</td>\n",
       "<td>177.0</td></tr>\n",
       "<tr><td>max precision</td>\n",
       "<td>0.6863604</td>\n",
       "<td>1.0</td>\n",
       "<td>0.0</td></tr>\n",
       "<tr><td>max recall</td>\n",
       "<td>0.0521441</td>\n",
       "<td>1.0</td>\n",
       "<td>359.0</td></tr>\n",
       "<tr><td>max specificity</td>\n",
       "<td>0.6863604</td>\n",
       "<td>1.0</td>\n",
       "<td>0.0</td></tr>\n",
       "<tr><td>max absolute_mcc</td>\n",
       "<td>0.2076505</td>\n",
       "<td>0.7889641</td>\n",
       "<td>177.0</td></tr>\n",
       "<tr><td>max min_per_class_accuracy</td>\n",
       "<td>0.0979139</td>\n",
       "<td>0.8913309</td>\n",
       "<td>263.0</td></tr>\n",
       "<tr><td>max mean_per_class_accuracy</td>\n",
       "<td>0.0918658</td>\n",
       "<td>0.8964346</td>\n",
       "<td>271.0</td></tr></table></div>"
      ],
      "text/plain": [
       "metric                       threshold    value     idx\n",
       "---------------------------  -----------  --------  -----\n",
       "max f1                       0.19876      0.80027   182\n",
       "max f2                       0.166352     0.772448  201\n",
       "max f0point5                 0.257107     0.885781  157\n",
       "max accuracy                 0.20765      0.967581  177\n",
       "max precision                0.68636      1         0\n",
       "max recall                   0.0521441    1         359\n",
       "max specificity              0.68636      1         0\n",
       "max absolute_mcc             0.20765      0.788964  177\n",
       "max min_per_class_accuracy   0.0979139    0.891331  263\n",
       "max mean_per_class_accuracy  0.0918658    0.896435  271"
      ]
     },
     "metadata": {},
     "output_type": "display_data"
    },
    {
     "name": "stdout",
     "output_type": "stream",
     "text": [
      "Gains/Lift Table: Avg response rate:  9.06 %, avg score:  9.05 %\n",
      "\n"
     ]
    },
    {
     "data": {
      "text/html": [
       "<div style=\"overflow:auto\"><table style=\"width:50%\"><tr><td><b></b></td>\n",
       "<td><b>group</b></td>\n",
       "<td><b>cumulative_data_fraction</b></td>\n",
       "<td><b>lower_threshold</b></td>\n",
       "<td><b>lift</b></td>\n",
       "<td><b>cumulative_lift</b></td>\n",
       "<td><b>response_rate</b></td>\n",
       "<td><b>score</b></td>\n",
       "<td><b>cumulative_response_rate</b></td>\n",
       "<td><b>cumulative_score</b></td>\n",
       "<td><b>capture_rate</b></td>\n",
       "<td><b>cumulative_capture_rate</b></td>\n",
       "<td><b>gain</b></td>\n",
       "<td><b>cumulative_gain</b></td></tr>\n",
       "<tr><td></td>\n",
       "<td>1</td>\n",
       "<td>0.0123921</td>\n",
       "<td>0.5490279</td>\n",
       "<td>11.0354090</td>\n",
       "<td>11.0354090</td>\n",
       "<td>1.0</td>\n",
       "<td>0.6039644</td>\n",
       "<td>1.0</td>\n",
       "<td>0.6039644</td>\n",
       "<td>0.1367521</td>\n",
       "<td>0.1367521</td>\n",
       "<td>1003.5409035</td>\n",
       "<td>1003.5409035</td></tr>\n",
       "<tr><td></td>\n",
       "<td>2</td>\n",
       "<td>0.0241204</td>\n",
       "<td>0.4653945</td>\n",
       "<td>11.0354090</td>\n",
       "<td>11.0354090</td>\n",
       "<td>1.0</td>\n",
       "<td>0.5035575</td>\n",
       "<td>1.0</td>\n",
       "<td>0.5551427</td>\n",
       "<td>0.1294261</td>\n",
       "<td>0.2661783</td>\n",
       "<td>1003.5409035</td>\n",
       "<td>1003.5409035</td></tr>\n",
       "<tr><td></td>\n",
       "<td>3</td>\n",
       "<td>0.0356274</td>\n",
       "<td>0.3962288</td>\n",
       "<td>11.0354090</td>\n",
       "<td>11.0354090</td>\n",
       "<td>1.0</td>\n",
       "<td>0.4291789</td>\n",
       "<td>1.0</td>\n",
       "<td>0.5144588</td>\n",
       "<td>0.1269841</td>\n",
       "<td>0.3931624</td>\n",
       "<td>1003.5409035</td>\n",
       "<td>1003.5409035</td></tr>\n",
       "<tr><td></td>\n",
       "<td>4</td>\n",
       "<td>0.0454747</td>\n",
       "<td>0.3398111</td>\n",
       "<td>10.7874223</td>\n",
       "<td>10.9817087</td>\n",
       "<td>0.9775281</td>\n",
       "<td>0.3682545</td>\n",
       "<td>0.9951338</td>\n",
       "<td>0.4827990</td>\n",
       "<td>0.1062271</td>\n",
       "<td>0.4993895</td>\n",
       "<td>978.7422316</td>\n",
       "<td>998.1708748</td></tr>\n",
       "<tr><td></td>\n",
       "<td>5</td>\n",
       "<td>0.0559858</td>\n",
       "<td>0.2820937</td>\n",
       "<td>10.1061114</td>\n",
       "<td>10.8173179</td>\n",
       "<td>0.9157895</td>\n",
       "<td>0.3110040</td>\n",
       "<td>0.9802372</td>\n",
       "<td>0.4505450</td>\n",
       "<td>0.1062271</td>\n",
       "<td>0.6056166</td>\n",
       "<td>910.6111432</td>\n",
       "<td>981.7317948</td></tr>\n",
       "<tr><td></td>\n",
       "<td>6</td>\n",
       "<td>0.0972560</td>\n",
       "<td>0.1488534</td>\n",
       "<td>4.2603188</td>\n",
       "<td>8.0348826</td>\n",
       "<td>0.3860590</td>\n",
       "<td>0.1984036</td>\n",
       "<td>0.7281001</td>\n",
       "<td>0.3435498</td>\n",
       "<td>0.1758242</td>\n",
       "<td>0.7814408</td>\n",
       "<td>326.0318770</td>\n",
       "<td>703.4882574</td></tr>\n",
       "<tr><td></td>\n",
       "<td>7</td>\n",
       "<td>0.1453861</td>\n",
       "<td>0.1094110</td>\n",
       "<td>1.4713879</td>\n",
       "<td>5.8620362</td>\n",
       "<td>0.1333333</td>\n",
       "<td>0.1259951</td>\n",
       "<td>0.5312024</td>\n",
       "<td>0.2715283</td>\n",
       "<td>0.0708181</td>\n",
       "<td>0.8522589</td>\n",
       "<td>47.1387871</td>\n",
       "<td>486.2036154</td></tr>\n",
       "<tr><td></td>\n",
       "<td>8</td>\n",
       "<td>0.1949546</td>\n",
       "<td>0.0918651</td>\n",
       "<td>1.3055283</td>\n",
       "<td>4.7035143</td>\n",
       "<td>0.1183036</td>\n",
       "<td>0.0997596</td>\n",
       "<td>0.4262202</td>\n",
       "<td>0.2278550</td>\n",
       "<td>0.0647131</td>\n",
       "<td>0.9169719</td>\n",
       "<td>30.5528301</td>\n",
       "<td>370.3514294</td></tr>\n",
       "<tr><td></td>\n",
       "<td>9</td>\n",
       "<td>0.2947555</td>\n",
       "<td>0.0747312</td>\n",
       "<td>0.4526720</td>\n",
       "<td>3.2642276</td>\n",
       "<td>0.0410200</td>\n",
       "<td>0.0818274</td>\n",
       "<td>0.2957958</td>\n",
       "<td>0.1784117</td>\n",
       "<td>0.0451770</td>\n",
       "<td>0.9621490</td>\n",
       "<td>-54.7328011</td>\n",
       "<td>226.4227598</td></tr>\n",
       "<tr><td></td>\n",
       "<td>10</td>\n",
       "<td>0.3957734</td>\n",
       "<td>0.0658382</td>\n",
       "<td>0.1329567</td>\n",
       "<td>2.4649963</td>\n",
       "<td>0.0120482</td>\n",
       "<td>0.0697887</td>\n",
       "<td>0.2233715</td>\n",
       "<td>0.1506866</td>\n",
       "<td>0.0134310</td>\n",
       "<td>0.9755800</td>\n",
       "<td>-86.7043265</td>\n",
       "<td>146.4996315</td></tr>\n",
       "<tr><td></td>\n",
       "<td>11</td>\n",
       "<td>0.4970126</td>\n",
       "<td>0.0596223</td>\n",
       "<td>0.1447267</td>\n",
       "<td>1.9923679</td>\n",
       "<td>0.0131148</td>\n",
       "<td>0.0626203</td>\n",
       "<td>0.1805432</td>\n",
       "<td>0.1327479</td>\n",
       "<td>0.0146520</td>\n",
       "<td>0.9902320</td>\n",
       "<td>-85.5273324</td>\n",
       "<td>99.2367927</td></tr>\n",
       "<tr><td></td>\n",
       "<td>12</td>\n",
       "<td>0.5982518</td>\n",
       "<td>0.0544182</td>\n",
       "<td>0.0723633</td>\n",
       "<td>1.6674550</td>\n",
       "<td>0.0065574</td>\n",
       "<td>0.0568950</td>\n",
       "<td>0.1511004</td>\n",
       "<td>0.1199117</td>\n",
       "<td>0.0073260</td>\n",
       "<td>0.9975580</td>\n",
       "<td>-92.7636662</td>\n",
       "<td>66.7454999</td></tr>\n",
       "<tr><td></td>\n",
       "<td>13</td>\n",
       "<td>0.7005975</td>\n",
       "<td>0.0499335</td>\n",
       "<td>0.0238603</td>\n",
       "<td>1.4273531</td>\n",
       "<td>0.0021622</td>\n",
       "<td>0.0520073</td>\n",
       "<td>0.1293430</td>\n",
       "<td>0.1099920</td>\n",
       "<td>0.0024420</td>\n",
       "<td>1.0</td>\n",
       "<td>-97.6139656</td>\n",
       "<td>42.7353127</td></tr>\n",
       "<tr><td></td>\n",
       "<td>14</td>\n",
       "<td>0.8019473</td>\n",
       "<td>0.0466647</td>\n",
       "<td>0.0</td>\n",
       "<td>1.2469647</td>\n",
       "<td>0.0</td>\n",
       "<td>0.0482692</td>\n",
       "<td>0.1129967</td>\n",
       "<td>0.1021915</td>\n",
       "<td>0.0</td>\n",
       "<td>1.0</td>\n",
       "<td>-100.0</td>\n",
       "<td>24.6964680</td></tr>\n",
       "<tr><td></td>\n",
       "<td>15</td>\n",
       "<td>0.9007524</td>\n",
       "<td>0.0435442</td>\n",
       "<td>0.0</td>\n",
       "<td>1.1101830</td>\n",
       "<td>0.0</td>\n",
       "<td>0.0451208</td>\n",
       "<td>0.1006019</td>\n",
       "<td>0.0959313</td>\n",
       "<td>0.0</td>\n",
       "<td>1.0</td>\n",
       "<td>-100.0</td>\n",
       "<td>11.0183024</td></tr>\n",
       "<tr><td></td>\n",
       "<td>16</td>\n",
       "<td>1.0</td>\n",
       "<td>0.0379905</td>\n",
       "<td>0.0</td>\n",
       "<td>1.0</td>\n",
       "<td>0.0</td>\n",
       "<td>0.0413968</td>\n",
       "<td>0.0906174</td>\n",
       "<td>0.0905189</td>\n",
       "<td>0.0</td>\n",
       "<td>1.0</td>\n",
       "<td>-100.0</td>\n",
       "<td>0.0</td></tr></table></div>"
      ],
      "text/plain": [
       "    group    cumulative_data_fraction    lower_threshold    lift       cumulative_lift    response_rate    score      cumulative_response_rate    cumulative_score    capture_rate    cumulative_capture_rate    gain      cumulative_gain\n",
       "--  -------  --------------------------  -----------------  ---------  -----------------  ---------------  ---------  --------------------------  ------------------  --------------  -------------------------  --------  -----------------\n",
       "    1        0.0123921                   0.549028           11.0354    11.0354            1                0.603964   1                           0.603964            0.136752        0.136752                   1003.54   1003.54\n",
       "    2        0.0241204                   0.465394           11.0354    11.0354            1                0.503558   1                           0.555143            0.129426        0.266178                   1003.54   1003.54\n",
       "    3        0.0356274                   0.396229           11.0354    11.0354            1                0.429179   1                           0.514459            0.126984        0.393162                   1003.54   1003.54\n",
       "    4        0.0454747                   0.339811           10.7874    10.9817            0.977528         0.368254   0.995134                    0.482799            0.106227        0.499389                   978.742   998.171\n",
       "    5        0.0559858                   0.282094           10.1061    10.8173            0.915789         0.311004   0.980237                    0.450545            0.106227        0.605617                   910.611   981.732\n",
       "    6        0.097256                    0.148853           4.26032    8.03488            0.386059         0.198404   0.7281                      0.34355             0.175824        0.781441                   326.032   703.488\n",
       "    7        0.145386                    0.109411           1.47139    5.86204            0.133333         0.125995   0.531202                    0.271528            0.0708181       0.852259                   47.1388   486.204\n",
       "    8        0.194955                    0.0918651          1.30553    4.70351            0.118304         0.0997596  0.42622                     0.227855            0.0647131       0.916972                   30.5528   370.351\n",
       "    9        0.294755                    0.0747312          0.452672   3.26423            0.04102          0.0818274  0.295796                    0.178412            0.045177        0.962149                   -54.7328  226.423\n",
       "    10       0.395773                    0.0658382          0.132957   2.465              0.0120482        0.0697887  0.223372                    0.150687            0.013431        0.97558                    -86.7043  146.5\n",
       "    11       0.497013                    0.0596223          0.144727   1.99237            0.0131148        0.0626203  0.180543                    0.132748            0.014652        0.990232                   -85.5273  99.2368\n",
       "    12       0.598252                    0.0544182          0.0723633  1.66745            0.00655738       0.056895   0.1511                      0.119912            0.00732601      0.997558                   -92.7637  66.7455\n",
       "    13       0.700597                    0.0499335          0.0238603  1.42735            0.00216216       0.0520073  0.129343                    0.109992            0.002442        1                          -97.614   42.7353\n",
       "    14       0.801947                    0.0466647          0          1.24696            0                0.0482692  0.112997                    0.102191            0               1                          -100      24.6965\n",
       "    15       0.900752                    0.0435442          0          1.11018            0                0.0451208  0.100602                    0.0959313           0               1                          -100      11.0183\n",
       "    16       1                           0.0379905          0          1                  0                0.0413968  0.0906174                   0.0905189           0               1                          -100      0"
      ]
     },
     "metadata": {},
     "output_type": "display_data"
    },
    {
     "name": "stdout",
     "output_type": "stream",
     "text": [
      "\n"
     ]
    },
    {
     "data": {
      "text/plain": []
     },
     "execution_count": 69,
     "metadata": {},
     "output_type": "execute_result"
    }
   ],
   "source": [
    "best2.model_performance(train)"
   ]
  },
  {
   "cell_type": "code",
   "execution_count": 65,
   "metadata": {},
   "outputs": [
    {
     "name": "stdout",
     "output_type": "stream",
     "text": [
      "Confusion Matrix (Act/Pred) for max f1 @ threshold = 0.2039585391862765: \n"
     ]
    },
    {
     "data": {
      "text/html": [
       "<div style=\"overflow:auto\"><table style=\"width:50%\"><tr><td><b></b></td>\n",
       "<td><b>0</b></td>\n",
       "<td><b>1</b></td>\n",
       "<td><b>Error</b></td>\n",
       "<td><b>Rate</b></td></tr>\n",
       "<tr><td>0</td>\n",
       "<td>8154.0</td>\n",
       "<td>65.0</td>\n",
       "<td>0.0079</td>\n",
       "<td> (65.0/8219.0)</td></tr>\n",
       "<tr><td>1</td>\n",
       "<td>229.0</td>\n",
       "<td>590.0</td>\n",
       "<td>0.2796</td>\n",
       "<td> (229.0/819.0)</td></tr>\n",
       "<tr><td>Total</td>\n",
       "<td>8383.0</td>\n",
       "<td>655.0</td>\n",
       "<td>0.0325</td>\n",
       "<td> (294.0/9038.0)</td></tr></table></div>"
      ],
      "text/plain": [
       "       0     1    Error    Rate\n",
       "-----  ----  ---  -------  --------------\n",
       "0      8154  65   0.0079   (65.0/8219.0)\n",
       "1      229   590  0.2796   (229.0/819.0)\n",
       "Total  8383  655  0.0325   (294.0/9038.0)"
      ]
     },
     "metadata": {},
     "output_type": "display_data"
    },
    {
     "data": {
      "text/plain": []
     },
     "execution_count": 65,
     "metadata": {},
     "output_type": "execute_result"
    }
   ],
   "source": [
    "best2.confusion_matrix()"
   ]
  },
  {
   "cell_type": "code",
   "execution_count": null,
   "metadata": {},
   "outputs": [],
   "source": []
  },
  {
   "cell_type": "code",
   "execution_count": 70,
   "metadata": {},
   "outputs": [],
   "source": [
    "# GBM hyperparameters\n",
    "gbm_params = {'learn_rate': [i * 0.01 for i in range(1, 31)],  #updated\n",
    "                'max_depth': list(range(2, 11)),\n",
    "                'sample_rate': [0.9, 0.95, 1.0],  #updated\n",
    "                'col_sample_rate': [i * 0.1 for i in range(1, 11)]}\n",
    "\n",
    "# Search criteria\n",
    "search_criteria = {'strategy': 'RandomDiscrete', 'max_runtime_secs': 60}  #updated"
   ]
  },
  {
   "cell_type": "code",
   "execution_count": 71,
   "metadata": {},
   "outputs": [
    {
     "name": "stdout",
     "output_type": "stream",
     "text": [
      "gbm Grid Build progress: |████████████████████████████████████████████████| 100%\n"
     ]
    }
   ],
   "source": [
    "gbm_grid = H2OGridSearch(model=H2OGradientBoostingEstimator,\n",
    "                         grid_id='gbm_grid2',\n",
    "                         hyper_params=gbm_params,\n",
    "                         search_criteria=search_criteria)\n",
    "gbm_grid.train(x=x, y=y, \n",
    "               training_frame=train, \n",
    "               validation_frame=valid, \n",
    "               ntrees=100,\n",
    "               seed=1)"
   ]
  },
  {
   "cell_type": "code",
   "execution_count": 74,
   "metadata": {},
   "outputs": [],
   "source": [
    "gbm_gridperf = gbm_grid.get_grid(sort_by='auc', decreasing=True)\n",
    "best3 = gbm_gridperf[0]"
   ]
  },
  {
   "cell_type": "code",
   "execution_count": 75,
   "metadata": {},
   "outputs": [
    {
     "data": {
      "text/plain": [
       "[[0.2057634900066371, 0.9675813233016154]]"
      ]
     },
     "execution_count": 75,
     "metadata": {},
     "output_type": "execute_result"
    }
   ],
   "source": [
    "best3.accuracy()"
   ]
  },
  {
   "cell_type": "code",
   "execution_count": 76,
   "metadata": {},
   "outputs": [
    {
     "name": "stdout",
     "output_type": "stream",
     "text": [
      "\n",
      "ModelMetricsBinomial: gbm\n",
      "** Reported on test data. **\n",
      "\n",
      "MSE: 0.04770889981103608\n",
      "RMSE: 0.21842367044584723\n",
      "LogLoss: 0.17867677070183502\n",
      "Mean Per-Class Error: 0.10356538595983789\n",
      "AUC: 0.9665611456583595\n",
      "pr_auc: 0.8596851719217736\n",
      "Gini: 0.933122291316719\n",
      "Confusion Matrix (Act/Pred) for max f1 @ threshold = 0.1987598916426681: \n"
     ]
    },
    {
     "data": {
      "text/html": [
       "<div style=\"overflow:auto\"><table style=\"width:50%\"><tr><td><b></b></td>\n",
       "<td><b>0</b></td>\n",
       "<td><b>1</b></td>\n",
       "<td><b>Error</b></td>\n",
       "<td><b>Rate</b></td></tr>\n",
       "<tr><td>0</td>\n",
       "<td>8149.0</td>\n",
       "<td>70.0</td>\n",
       "<td>0.0085</td>\n",
       "<td> (70.0/8219.0)</td></tr>\n",
       "<tr><td>1</td>\n",
       "<td>226.0</td>\n",
       "<td>593.0</td>\n",
       "<td>0.2759</td>\n",
       "<td> (226.0/819.0)</td></tr>\n",
       "<tr><td>Total</td>\n",
       "<td>8375.0</td>\n",
       "<td>663.0</td>\n",
       "<td>0.0328</td>\n",
       "<td> (296.0/9038.0)</td></tr></table></div>"
      ],
      "text/plain": [
       "       0     1    Error    Rate\n",
       "-----  ----  ---  -------  --------------\n",
       "0      8149  70   0.0085   (70.0/8219.0)\n",
       "1      226   593  0.2759   (226.0/819.0)\n",
       "Total  8375  663  0.0328   (296.0/9038.0)"
      ]
     },
     "metadata": {},
     "output_type": "display_data"
    },
    {
     "name": "stdout",
     "output_type": "stream",
     "text": [
      "Maximum Metrics: Maximum metrics at their respective thresholds\n",
      "\n"
     ]
    },
    {
     "data": {
      "text/html": [
       "<div style=\"overflow:auto\"><table style=\"width:50%\"><tr><td><b>metric</b></td>\n",
       "<td><b>threshold</b></td>\n",
       "<td><b>value</b></td>\n",
       "<td><b>idx</b></td></tr>\n",
       "<tr><td>max f1</td>\n",
       "<td>0.1987599</td>\n",
       "<td>0.8002699</td>\n",
       "<td>182.0</td></tr>\n",
       "<tr><td>max f2</td>\n",
       "<td>0.1663522</td>\n",
       "<td>0.7724477</td>\n",
       "<td>201.0</td></tr>\n",
       "<tr><td>max f0point5</td>\n",
       "<td>0.2571066</td>\n",
       "<td>0.8857809</td>\n",
       "<td>157.0</td></tr>\n",
       "<tr><td>max accuracy</td>\n",
       "<td>0.2076505</td>\n",
       "<td>0.9675813</td>\n",
       "<td>177.0</td></tr>\n",
       "<tr><td>max precision</td>\n",
       "<td>0.6863604</td>\n",
       "<td>1.0</td>\n",
       "<td>0.0</td></tr>\n",
       "<tr><td>max recall</td>\n",
       "<td>0.0521441</td>\n",
       "<td>1.0</td>\n",
       "<td>359.0</td></tr>\n",
       "<tr><td>max specificity</td>\n",
       "<td>0.6863604</td>\n",
       "<td>1.0</td>\n",
       "<td>0.0</td></tr>\n",
       "<tr><td>max absolute_mcc</td>\n",
       "<td>0.2076505</td>\n",
       "<td>0.7889641</td>\n",
       "<td>177.0</td></tr>\n",
       "<tr><td>max min_per_class_accuracy</td>\n",
       "<td>0.0979139</td>\n",
       "<td>0.8913309</td>\n",
       "<td>263.0</td></tr>\n",
       "<tr><td>max mean_per_class_accuracy</td>\n",
       "<td>0.0918658</td>\n",
       "<td>0.8964346</td>\n",
       "<td>271.0</td></tr></table></div>"
      ],
      "text/plain": [
       "metric                       threshold    value     idx\n",
       "---------------------------  -----------  --------  -----\n",
       "max f1                       0.19876      0.80027   182\n",
       "max f2                       0.166352     0.772448  201\n",
       "max f0point5                 0.257107     0.885781  157\n",
       "max accuracy                 0.20765      0.967581  177\n",
       "max precision                0.68636      1         0\n",
       "max recall                   0.0521441    1         359\n",
       "max specificity              0.68636      1         0\n",
       "max absolute_mcc             0.20765      0.788964  177\n",
       "max min_per_class_accuracy   0.0979139    0.891331  263\n",
       "max mean_per_class_accuracy  0.0918658    0.896435  271"
      ]
     },
     "metadata": {},
     "output_type": "display_data"
    },
    {
     "name": "stdout",
     "output_type": "stream",
     "text": [
      "Gains/Lift Table: Avg response rate:  9.06 %, avg score:  9.05 %\n",
      "\n"
     ]
    },
    {
     "data": {
      "text/html": [
       "<div style=\"overflow:auto\"><table style=\"width:50%\"><tr><td><b></b></td>\n",
       "<td><b>group</b></td>\n",
       "<td><b>cumulative_data_fraction</b></td>\n",
       "<td><b>lower_threshold</b></td>\n",
       "<td><b>lift</b></td>\n",
       "<td><b>cumulative_lift</b></td>\n",
       "<td><b>response_rate</b></td>\n",
       "<td><b>score</b></td>\n",
       "<td><b>cumulative_response_rate</b></td>\n",
       "<td><b>cumulative_score</b></td>\n",
       "<td><b>capture_rate</b></td>\n",
       "<td><b>cumulative_capture_rate</b></td>\n",
       "<td><b>gain</b></td>\n",
       "<td><b>cumulative_gain</b></td></tr>\n",
       "<tr><td></td>\n",
       "<td>1</td>\n",
       "<td>0.0123921</td>\n",
       "<td>0.5490279</td>\n",
       "<td>11.0354090</td>\n",
       "<td>11.0354090</td>\n",
       "<td>1.0</td>\n",
       "<td>0.6039644</td>\n",
       "<td>1.0</td>\n",
       "<td>0.6039644</td>\n",
       "<td>0.1367521</td>\n",
       "<td>0.1367521</td>\n",
       "<td>1003.5409035</td>\n",
       "<td>1003.5409035</td></tr>\n",
       "<tr><td></td>\n",
       "<td>2</td>\n",
       "<td>0.0241204</td>\n",
       "<td>0.4653945</td>\n",
       "<td>11.0354090</td>\n",
       "<td>11.0354090</td>\n",
       "<td>1.0</td>\n",
       "<td>0.5035575</td>\n",
       "<td>1.0</td>\n",
       "<td>0.5551427</td>\n",
       "<td>0.1294261</td>\n",
       "<td>0.2661783</td>\n",
       "<td>1003.5409035</td>\n",
       "<td>1003.5409035</td></tr>\n",
       "<tr><td></td>\n",
       "<td>3</td>\n",
       "<td>0.0356274</td>\n",
       "<td>0.3962288</td>\n",
       "<td>11.0354090</td>\n",
       "<td>11.0354090</td>\n",
       "<td>1.0</td>\n",
       "<td>0.4291789</td>\n",
       "<td>1.0</td>\n",
       "<td>0.5144588</td>\n",
       "<td>0.1269841</td>\n",
       "<td>0.3931624</td>\n",
       "<td>1003.5409035</td>\n",
       "<td>1003.5409035</td></tr>\n",
       "<tr><td></td>\n",
       "<td>4</td>\n",
       "<td>0.0454747</td>\n",
       "<td>0.3398111</td>\n",
       "<td>10.7874223</td>\n",
       "<td>10.9817087</td>\n",
       "<td>0.9775281</td>\n",
       "<td>0.3682545</td>\n",
       "<td>0.9951338</td>\n",
       "<td>0.4827990</td>\n",
       "<td>0.1062271</td>\n",
       "<td>0.4993895</td>\n",
       "<td>978.7422316</td>\n",
       "<td>998.1708748</td></tr>\n",
       "<tr><td></td>\n",
       "<td>5</td>\n",
       "<td>0.0559858</td>\n",
       "<td>0.2820937</td>\n",
       "<td>10.1061114</td>\n",
       "<td>10.8173179</td>\n",
       "<td>0.9157895</td>\n",
       "<td>0.3110040</td>\n",
       "<td>0.9802372</td>\n",
       "<td>0.4505450</td>\n",
       "<td>0.1062271</td>\n",
       "<td>0.6056166</td>\n",
       "<td>910.6111432</td>\n",
       "<td>981.7317948</td></tr>\n",
       "<tr><td></td>\n",
       "<td>6</td>\n",
       "<td>0.0972560</td>\n",
       "<td>0.1488534</td>\n",
       "<td>4.2603188</td>\n",
       "<td>8.0348826</td>\n",
       "<td>0.3860590</td>\n",
       "<td>0.1984036</td>\n",
       "<td>0.7281001</td>\n",
       "<td>0.3435498</td>\n",
       "<td>0.1758242</td>\n",
       "<td>0.7814408</td>\n",
       "<td>326.0318770</td>\n",
       "<td>703.4882574</td></tr>\n",
       "<tr><td></td>\n",
       "<td>7</td>\n",
       "<td>0.1453861</td>\n",
       "<td>0.1094110</td>\n",
       "<td>1.4713879</td>\n",
       "<td>5.8620362</td>\n",
       "<td>0.1333333</td>\n",
       "<td>0.1259951</td>\n",
       "<td>0.5312024</td>\n",
       "<td>0.2715283</td>\n",
       "<td>0.0708181</td>\n",
       "<td>0.8522589</td>\n",
       "<td>47.1387871</td>\n",
       "<td>486.2036154</td></tr>\n",
       "<tr><td></td>\n",
       "<td>8</td>\n",
       "<td>0.1949546</td>\n",
       "<td>0.0918651</td>\n",
       "<td>1.3055283</td>\n",
       "<td>4.7035143</td>\n",
       "<td>0.1183036</td>\n",
       "<td>0.0997596</td>\n",
       "<td>0.4262202</td>\n",
       "<td>0.2278550</td>\n",
       "<td>0.0647131</td>\n",
       "<td>0.9169719</td>\n",
       "<td>30.5528301</td>\n",
       "<td>370.3514294</td></tr>\n",
       "<tr><td></td>\n",
       "<td>9</td>\n",
       "<td>0.2947555</td>\n",
       "<td>0.0747312</td>\n",
       "<td>0.4526720</td>\n",
       "<td>3.2642276</td>\n",
       "<td>0.0410200</td>\n",
       "<td>0.0818274</td>\n",
       "<td>0.2957958</td>\n",
       "<td>0.1784117</td>\n",
       "<td>0.0451770</td>\n",
       "<td>0.9621490</td>\n",
       "<td>-54.7328011</td>\n",
       "<td>226.4227598</td></tr>\n",
       "<tr><td></td>\n",
       "<td>10</td>\n",
       "<td>0.3957734</td>\n",
       "<td>0.0658382</td>\n",
       "<td>0.1329567</td>\n",
       "<td>2.4649963</td>\n",
       "<td>0.0120482</td>\n",
       "<td>0.0697887</td>\n",
       "<td>0.2233715</td>\n",
       "<td>0.1506866</td>\n",
       "<td>0.0134310</td>\n",
       "<td>0.9755800</td>\n",
       "<td>-86.7043265</td>\n",
       "<td>146.4996315</td></tr>\n",
       "<tr><td></td>\n",
       "<td>11</td>\n",
       "<td>0.4970126</td>\n",
       "<td>0.0596223</td>\n",
       "<td>0.1447267</td>\n",
       "<td>1.9923679</td>\n",
       "<td>0.0131148</td>\n",
       "<td>0.0626203</td>\n",
       "<td>0.1805432</td>\n",
       "<td>0.1327479</td>\n",
       "<td>0.0146520</td>\n",
       "<td>0.9902320</td>\n",
       "<td>-85.5273324</td>\n",
       "<td>99.2367927</td></tr>\n",
       "<tr><td></td>\n",
       "<td>12</td>\n",
       "<td>0.5982518</td>\n",
       "<td>0.0544182</td>\n",
       "<td>0.0723633</td>\n",
       "<td>1.6674550</td>\n",
       "<td>0.0065574</td>\n",
       "<td>0.0568950</td>\n",
       "<td>0.1511004</td>\n",
       "<td>0.1199117</td>\n",
       "<td>0.0073260</td>\n",
       "<td>0.9975580</td>\n",
       "<td>-92.7636662</td>\n",
       "<td>66.7454999</td></tr>\n",
       "<tr><td></td>\n",
       "<td>13</td>\n",
       "<td>0.7005975</td>\n",
       "<td>0.0499335</td>\n",
       "<td>0.0238603</td>\n",
       "<td>1.4273531</td>\n",
       "<td>0.0021622</td>\n",
       "<td>0.0520073</td>\n",
       "<td>0.1293430</td>\n",
       "<td>0.1099920</td>\n",
       "<td>0.0024420</td>\n",
       "<td>1.0</td>\n",
       "<td>-97.6139656</td>\n",
       "<td>42.7353127</td></tr>\n",
       "<tr><td></td>\n",
       "<td>14</td>\n",
       "<td>0.8019473</td>\n",
       "<td>0.0466647</td>\n",
       "<td>0.0</td>\n",
       "<td>1.2469647</td>\n",
       "<td>0.0</td>\n",
       "<td>0.0482692</td>\n",
       "<td>0.1129967</td>\n",
       "<td>0.1021915</td>\n",
       "<td>0.0</td>\n",
       "<td>1.0</td>\n",
       "<td>-100.0</td>\n",
       "<td>24.6964680</td></tr>\n",
       "<tr><td></td>\n",
       "<td>15</td>\n",
       "<td>0.9007524</td>\n",
       "<td>0.0435442</td>\n",
       "<td>0.0</td>\n",
       "<td>1.1101830</td>\n",
       "<td>0.0</td>\n",
       "<td>0.0451208</td>\n",
       "<td>0.1006019</td>\n",
       "<td>0.0959313</td>\n",
       "<td>0.0</td>\n",
       "<td>1.0</td>\n",
       "<td>-100.0</td>\n",
       "<td>11.0183024</td></tr>\n",
       "<tr><td></td>\n",
       "<td>16</td>\n",
       "<td>1.0</td>\n",
       "<td>0.0379905</td>\n",
       "<td>0.0</td>\n",
       "<td>1.0</td>\n",
       "<td>0.0</td>\n",
       "<td>0.0413968</td>\n",
       "<td>0.0906174</td>\n",
       "<td>0.0905189</td>\n",
       "<td>0.0</td>\n",
       "<td>1.0</td>\n",
       "<td>-100.0</td>\n",
       "<td>0.0</td></tr></table></div>"
      ],
      "text/plain": [
       "    group    cumulative_data_fraction    lower_threshold    lift       cumulative_lift    response_rate    score      cumulative_response_rate    cumulative_score    capture_rate    cumulative_capture_rate    gain      cumulative_gain\n",
       "--  -------  --------------------------  -----------------  ---------  -----------------  ---------------  ---------  --------------------------  ------------------  --------------  -------------------------  --------  -----------------\n",
       "    1        0.0123921                   0.549028           11.0354    11.0354            1                0.603964   1                           0.603964            0.136752        0.136752                   1003.54   1003.54\n",
       "    2        0.0241204                   0.465394           11.0354    11.0354            1                0.503558   1                           0.555143            0.129426        0.266178                   1003.54   1003.54\n",
       "    3        0.0356274                   0.396229           11.0354    11.0354            1                0.429179   1                           0.514459            0.126984        0.393162                   1003.54   1003.54\n",
       "    4        0.0454747                   0.339811           10.7874    10.9817            0.977528         0.368254   0.995134                    0.482799            0.106227        0.499389                   978.742   998.171\n",
       "    5        0.0559858                   0.282094           10.1061    10.8173            0.915789         0.311004   0.980237                    0.450545            0.106227        0.605617                   910.611   981.732\n",
       "    6        0.097256                    0.148853           4.26032    8.03488            0.386059         0.198404   0.7281                      0.34355             0.175824        0.781441                   326.032   703.488\n",
       "    7        0.145386                    0.109411           1.47139    5.86204            0.133333         0.125995   0.531202                    0.271528            0.0708181       0.852259                   47.1388   486.204\n",
       "    8        0.194955                    0.0918651          1.30553    4.70351            0.118304         0.0997596  0.42622                     0.227855            0.0647131       0.916972                   30.5528   370.351\n",
       "    9        0.294755                    0.0747312          0.452672   3.26423            0.04102          0.0818274  0.295796                    0.178412            0.045177        0.962149                   -54.7328  226.423\n",
       "    10       0.395773                    0.0658382          0.132957   2.465              0.0120482        0.0697887  0.223372                    0.150687            0.013431        0.97558                    -86.7043  146.5\n",
       "    11       0.497013                    0.0596223          0.144727   1.99237            0.0131148        0.0626203  0.180543                    0.132748            0.014652        0.990232                   -85.5273  99.2368\n",
       "    12       0.598252                    0.0544182          0.0723633  1.66745            0.00655738       0.056895   0.1511                      0.119912            0.00732601      0.997558                   -92.7637  66.7455\n",
       "    13       0.700597                    0.0499335          0.0238603  1.42735            0.00216216       0.0520073  0.129343                    0.109992            0.002442        1                          -97.614   42.7353\n",
       "    14       0.801947                    0.0466647          0          1.24696            0                0.0482692  0.112997                    0.102191            0               1                          -100      24.6965\n",
       "    15       0.900752                    0.0435442          0          1.11018            0                0.0451208  0.100602                    0.0959313           0               1                          -100      11.0183\n",
       "    16       1                           0.0379905          0          1                  0                0.0413968  0.0906174                   0.0905189           0               1                          -100      0"
      ]
     },
     "metadata": {},
     "output_type": "display_data"
    },
    {
     "name": "stdout",
     "output_type": "stream",
     "text": [
      "\n"
     ]
    },
    {
     "data": {
      "text/plain": []
     },
     "execution_count": 76,
     "metadata": {},
     "output_type": "execute_result"
    }
   ],
   "source": [
    "best3.model_performance(train)"
   ]
  },
  {
   "cell_type": "code",
   "execution_count": 77,
   "metadata": {},
   "outputs": [
    {
     "name": "stdout",
     "output_type": "stream",
     "text": [
      "Confusion Matrix (Act/Pred) for max f1 @ threshold = 0.2039585391862765: \n"
     ]
    },
    {
     "data": {
      "text/html": [
       "<div style=\"overflow:auto\"><table style=\"width:50%\"><tr><td><b></b></td>\n",
       "<td><b>0</b></td>\n",
       "<td><b>1</b></td>\n",
       "<td><b>Error</b></td>\n",
       "<td><b>Rate</b></td></tr>\n",
       "<tr><td>0</td>\n",
       "<td>8154.0</td>\n",
       "<td>65.0</td>\n",
       "<td>0.0079</td>\n",
       "<td> (65.0/8219.0)</td></tr>\n",
       "<tr><td>1</td>\n",
       "<td>229.0</td>\n",
       "<td>590.0</td>\n",
       "<td>0.2796</td>\n",
       "<td> (229.0/819.0)</td></tr>\n",
       "<tr><td>Total</td>\n",
       "<td>8383.0</td>\n",
       "<td>655.0</td>\n",
       "<td>0.0325</td>\n",
       "<td> (294.0/9038.0)</td></tr></table></div>"
      ],
      "text/plain": [
       "       0     1    Error    Rate\n",
       "-----  ----  ---  -------  --------------\n",
       "0      8154  65   0.0079   (65.0/8219.0)\n",
       "1      229   590  0.2796   (229.0/819.0)\n",
       "Total  8383  655  0.0325   (294.0/9038.0)"
      ]
     },
     "metadata": {},
     "output_type": "display_data"
    },
    {
     "data": {
      "text/plain": []
     },
     "execution_count": 77,
     "metadata": {},
     "output_type": "execute_result"
    }
   ],
   "source": [
    "best3.confusion_matrix()"
   ]
  },
  {
   "cell_type": "code",
   "execution_count": null,
   "metadata": {},
   "outputs": [],
   "source": []
  },
  {
   "cell_type": "code",
   "execution_count": null,
   "metadata": {},
   "outputs": [],
   "source": []
  },
  {
   "cell_type": "code",
   "execution_count": null,
   "metadata": {},
   "outputs": [],
   "source": []
  },
  {
   "cell_type": "code",
   "execution_count": 175,
   "metadata": {},
   "outputs": [
    {
     "name": "stdout",
     "output_type": "stream",
     "text": [
      "H2O session _sid_a8e6 closed.\n"
     ]
    }
   ],
   "source": [
    "h2o.cluster().shutdown()"
   ]
  },
  {
   "cell_type": "code",
   "execution_count": null,
   "metadata": {},
   "outputs": [],
   "source": []
  },
  {
   "cell_type": "code",
   "execution_count": 1,
   "metadata": {},
   "outputs": [],
   "source": [
    "import numpy as np # linear algebra\n",
    "import pandas as pd # data processing, CSV file I/O (e.g. pd.read_csv)\n",
    "import h2o\n",
    "from h2o.estimators.gbm import H2OGradientBoostingEstimator\n",
    "from h2o.grid.grid_search import H2OGridSearch\n",
    "from h2o.estimators.glm import H2OGeneralizedLinearEstimator\n",
    "from h2o.estimators import H2ORandomForestEstimator\n",
    "\n",
    "\n",
    "from sklearn.model_selection import train_test_split\n",
    "import matplotlib.pyplot as plt\n",
    "%matplotlib inline\n",
    "import os, gc\n",
    "\n",
    "# Suppress warnings from pandas\n",
    "import warnings\n",
    "warnings.filterwarnings('ignore')"
   ]
  },
  {
   "cell_type": "code",
   "execution_count": 2,
   "metadata": {},
   "outputs": [],
   "source": [
    "df_train = pd.read_csv(\"train.csv\",index_col='id')\n",
    "df_test = pd.read_csv('test.csv', index_col='id')\n",
    "df_gender_sub = pd.read_csv(\"sampleSubmission.csv\", index_col='id')"
   ]
  },
  {
   "cell_type": "code",
   "execution_count": 3,
   "metadata": {},
   "outputs": [
    {
     "data": {
      "text/plain": [
       "(17083, 231)"
      ]
     },
     "execution_count": 3,
     "metadata": {},
     "output_type": "execute_result"
    }
   ],
   "source": [
    "#Create variable for test data filled with nan\n",
    "df_test[\"target\"] = np.nan\n",
    "\n",
    "df_all = pd.concat([df_train, df_test])\n",
    "df_all.shape"
   ]
  },
  {
   "cell_type": "code",
   "execution_count": 4,
   "metadata": {},
   "outputs": [],
   "source": [
    "cat_obs = df_all.select_dtypes(include = ['object'].copy())\n",
    "# converting to categorical data for faster computing purposes \n",
    "for i in cat_obs:\n",
    "    cat_obs[i] = cat_obs[i].astype('category')\n",
    "    \n",
    "    \n",
    "vars_all = df_all.columns.values\n",
    "var_dep = ['target']\n",
    "\n",
    "vars_ind = [var for var in vars_all if var not in (var_dep)]\n",
    "vars_ind_numeric = list(df_all[vars_ind].columns[df_all[vars_ind].dtypes != 'object'])\n",
    "vars_ind_categorical = list(df_all[vars_ind].columns[df_all[vars_ind].dtypes == 'object'])"
   ]
  },
  {
   "cell_type": "code",
   "execution_count": 5,
   "metadata": {},
   "outputs": [
    {
     "name": "stdout",
     "output_type": "stream",
     "text": [
      "Checking whether there is an H2O instance running at http://localhost:54321 ..... not found.\n",
      "Attempting to start a local H2O server...\n",
      "  Java Version: openjdk version \"11.0.1\" 2018-10-16 LTS; OpenJDK Runtime Environment Zulu11.2+3 (build 11.0.1+13-LTS); OpenJDK 64-Bit Server VM Zulu11.2+3 (build 11.0.1+13-LTS, mixed mode)\n",
      "  Starting server from /anaconda3/envs/deep_learning/lib/python3.6/site-packages/h2o/backend/bin/h2o.jar\n",
      "  Ice root: /var/folders/k7/m7h3wyzn4yb714dfsnq0ysx00000gn/T/tmpj3mwmzn1\n",
      "  JVM stdout: /var/folders/k7/m7h3wyzn4yb714dfsnq0ysx00000gn/T/tmpj3mwmzn1/h2o_gunnarwindsand_started_from_python.out\n",
      "  JVM stderr: /var/folders/k7/m7h3wyzn4yb714dfsnq0ysx00000gn/T/tmpj3mwmzn1/h2o_gunnarwindsand_started_from_python.err\n",
      "  Server is running at http://127.0.0.1:54321\n",
      "Connecting to H2O server at http://127.0.0.1:54321 ... successful.\n"
     ]
    },
    {
     "data": {
      "text/html": [
       "<div style=\"overflow:auto\"><table style=\"width:50%\"><tr><td>H2O cluster uptime:</td>\n",
       "<td>01 secs</td></tr>\n",
       "<tr><td>H2O cluster timezone:</td>\n",
       "<td>Europe/Paris</td></tr>\n",
       "<tr><td>H2O data parsing timezone:</td>\n",
       "<td>UTC</td></tr>\n",
       "<tr><td>H2O cluster version:</td>\n",
       "<td>3.24.0.3</td></tr>\n",
       "<tr><td>H2O cluster version age:</td>\n",
       "<td>1 month and 20 days </td></tr>\n",
       "<tr><td>H2O cluster name:</td>\n",
       "<td>H2O_from_python_gunnarwindsand_ocznra</td></tr>\n",
       "<tr><td>H2O cluster total nodes:</td>\n",
       "<td>1</td></tr>\n",
       "<tr><td>H2O cluster free memory:</td>\n",
       "<td>4 Gb</td></tr>\n",
       "<tr><td>H2O cluster total cores:</td>\n",
       "<td>12</td></tr>\n",
       "<tr><td>H2O cluster allowed cores:</td>\n",
       "<td>12</td></tr>\n",
       "<tr><td>H2O cluster status:</td>\n",
       "<td>accepting new members, healthy</td></tr>\n",
       "<tr><td>H2O connection url:</td>\n",
       "<td>http://127.0.0.1:54321</td></tr>\n",
       "<tr><td>H2O connection proxy:</td>\n",
       "<td>None</td></tr>\n",
       "<tr><td>H2O internal security:</td>\n",
       "<td>False</td></tr>\n",
       "<tr><td>H2O API Extensions:</td>\n",
       "<td>Amazon S3, XGBoost, Algos, AutoML, Core V3, Core V4</td></tr>\n",
       "<tr><td>Python version:</td>\n",
       "<td>3.6.7 final</td></tr></table></div>"
      ],
      "text/plain": [
       "--------------------------  ---------------------------------------------------\n",
       "H2O cluster uptime:         01 secs\n",
       "H2O cluster timezone:       Europe/Paris\n",
       "H2O data parsing timezone:  UTC\n",
       "H2O cluster version:        3.24.0.3\n",
       "H2O cluster version age:    1 month and 20 days\n",
       "H2O cluster name:           H2O_from_python_gunnarwindsand_ocznra\n",
       "H2O cluster total nodes:    1\n",
       "H2O cluster free memory:    4 Gb\n",
       "H2O cluster total cores:    12\n",
       "H2O cluster allowed cores:  12\n",
       "H2O cluster status:         accepting new members, healthy\n",
       "H2O connection url:         http://127.0.0.1:54321\n",
       "H2O connection proxy:\n",
       "H2O internal security:      False\n",
       "H2O API Extensions:         Amazon S3, XGBoost, Algos, AutoML, Core V3, Core V4\n",
       "Python version:             3.6.7 final\n",
       "--------------------------  ---------------------------------------------------"
      ]
     },
     "metadata": {},
     "output_type": "display_data"
    }
   ],
   "source": [
    "h2o.init()\n",
    "h2o.remove_all() "
   ]
  },
  {
   "cell_type": "code",
   "execution_count": 6,
   "metadata": {},
   "outputs": [
    {
     "name": "stdout",
     "output_type": "stream",
     "text": [
      "Parse progress: |█████████████████████████████████████████████████████████| 100%\n",
      "Parse progress: |█████████████████████████████████████████████████████████| 100%\n",
      "Parse progress: |█████████████████████████████████████████████████████████| 100%\n"
     ]
    }
   ],
   "source": [
    "h2o_df_all = h2o.H2OFrame(df_all[vars_ind + var_dep])\n",
    "# To use for predictions\n",
    "h2o_train = h2o.import_file(\"train.csv\")\n",
    "h2o_test = h2o.import_file(\"test.csv\")"
   ]
  },
  {
   "cell_type": "code",
   "execution_count": 7,
   "metadata": {},
   "outputs": [],
   "source": [
    "y = \"target\"\n",
    "x = h2o_df_all.names \n",
    "x.remove(y)\n",
    "\n",
    "\n",
    "train, valid, test = h2o_df_all.split_frame([0.75, 0.15 ])"
   ]
  },
  {
   "cell_type": "code",
   "execution_count": 8,
   "metadata": {},
   "outputs": [],
   "source": [
    "train[\"target\"] = train[\"target\"].asfactor()\n",
    "valid[\"target\"] = valid[\"target\"].asfactor()\n",
    "test[\"target\"] = test[\"target\"].asfactor()"
   ]
  },
  {
   "cell_type": "code",
   "execution_count": null,
   "metadata": {},
   "outputs": [],
   "source": [
    "### RF1"
   ]
  },
  {
   "cell_type": "code",
   "execution_count": 19,
   "metadata": {},
   "outputs": [],
   "source": [
    "param = {\n",
    "      \"ntrees\" : 200\n",
    "    , \"max_depth\" : 20\n",
    "    #Row sample rate per tree (from 0.0 to 1.0). (default: ``0.6320000291``)\n",
    "    , \"sample_rate\" : 0.7\n",
    "    #col_sample_rate_per_tree: column sampling rate for each tree (without replacement)\n",
    "    , \"col_sample_rate_per_tree\" : 0.9\n",
    "    #mtries is applied AFTER col_sample_rate_per_tree\n",
    "    , \"mtries\" : -1\n",
    "    , \"min_rows\" : 10\n",
    "    # beware of default min split improvement if using imbalanced classes\n",
    "    #, min_split_improvement\n",
    "    , \"seed\": 1\n",
    "    , \"score_each_iteration\": True\n",
    "    , \"score_tree_interval\": 1\n",
    "    , \"stopping_metric\": 'AUC'\n",
    "    , \"stopping_rounds\": 20\n",
    "}"
   ]
  },
  {
   "cell_type": "code",
   "execution_count": 20,
   "metadata": {},
   "outputs": [
    {
     "name": "stdout",
     "output_type": "stream",
     "text": [
      "drf Model Build progress: |███████████████████████████████████████████████| 100%\n"
     ]
    }
   ],
   "source": [
    "rf1 = H2ORandomForestEstimator(**param)\n",
    "rf1.train(x=x, \n",
    "            y=y,\n",
    "            training_frame=train,\n",
    "            validation_frame=valid\n",
    "            )"
   ]
  },
  {
   "cell_type": "code",
   "execution_count": 30,
   "metadata": {},
   "outputs": [
    {
     "name": "stdout",
     "output_type": "stream",
     "text": [
      "0.8517082109596605\n",
      "0.8448840965228958\n",
      "0.8801177082037054\n"
     ]
    }
   ],
   "source": [
    "# measure rf AUC\n",
    "print(rf1.auc(train=True))\n",
    "print(rf1.auc(valid=True))\n",
    "print(rf1.model_performance(test_data=test).auc())"
   ]
  },
  {
   "cell_type": "code",
   "execution_count": 31,
   "metadata": {},
   "outputs": [
    {
     "name": "stdout",
     "output_type": "stream",
     "text": [
      "Confusion Matrix (Act/Pred) for max f1 @ threshold = 0.20519105253197356: \n"
     ]
    },
    {
     "data": {
      "text/html": [
       "<div style=\"overflow:auto\"><table style=\"width:50%\"><tr><td><b></b></td>\n",
       "<td><b>0</b></td>\n",
       "<td><b>1</b></td>\n",
       "<td><b>Error</b></td>\n",
       "<td><b>Rate</b></td></tr>\n",
       "<tr><td>0</td>\n",
       "<td>7602.0</td>\n",
       "<td>483.0</td>\n",
       "<td>0.0597</td>\n",
       "<td> (483.0/8085.0)</td></tr>\n",
       "<tr><td>1</td>\n",
       "<td>399.0</td>\n",
       "<td>414.0</td>\n",
       "<td>0.4908</td>\n",
       "<td> (399.0/813.0)</td></tr>\n",
       "<tr><td>Total</td>\n",
       "<td>8001.0</td>\n",
       "<td>897.0</td>\n",
       "<td>0.0991</td>\n",
       "<td> (882.0/8898.0)</td></tr></table></div>"
      ],
      "text/plain": [
       "       0     1    Error    Rate\n",
       "-----  ----  ---  -------  --------------\n",
       "0      7602  483  0.0597   (483.0/8085.0)\n",
       "1      399   414  0.4908   (399.0/813.0)\n",
       "Total  8001  897  0.0991   (882.0/8898.0)"
      ]
     },
     "metadata": {},
     "output_type": "display_data"
    },
    {
     "data": {
      "text/plain": []
     },
     "execution_count": 31,
     "metadata": {},
     "output_type": "execute_result"
    }
   ],
   "source": [
    "rf1.confusion_matrix()"
   ]
  },
  {
   "cell_type": "code",
   "execution_count": null,
   "metadata": {},
   "outputs": [],
   "source": [
    "### rf2"
   ]
  },
  {
   "cell_type": "code",
   "execution_count": 28,
   "metadata": {},
   "outputs": [
    {
     "name": "stdout",
     "output_type": "stream",
     "text": [
      "drf Model Build progress: |███████████████████████████████████████████████| 100%\n"
     ]
    }
   ],
   "source": [
    "# initialize rf model\n",
    "rf2 = H2ORandomForestEstimator(\n",
    "    ntrees=200,                      # Up to 500 decision trees in the forest \n",
    "    max_depth=30,                    # trees can grow to depth of 30\n",
    "    stopping_rounds=5,               # stop after validation error does not decrease for 5 iterations/new trees\n",
    "    score_each_iteration=True,       # score validation error on every iteration/new tree\n",
    "    model_id='rf2',             # for easy lookup in flow\n",
    "    seed=1)                      \n",
    "\n",
    "# train rf model\n",
    "rf2.train(\n",
    "    x=x,\n",
    "    y=y,\n",
    "    training_frame=train,\n",
    "    validation_frame=valid)"
   ]
  },
  {
   "cell_type": "code",
   "execution_count": 29,
   "metadata": {},
   "outputs": [
    {
     "name": "stdout",
     "output_type": "stream",
     "text": [
      "0.8236034568137889\n",
      "0.8067186807270885\n",
      "0.8698402008652432\n"
     ]
    }
   ],
   "source": [
    "# measure rf AUC\n",
    "print(rf2.auc(train=True))\n",
    "print(rf2.auc(valid=True))\n",
    "print(rf2.model_performance(test_data=test).auc())"
   ]
  },
  {
   "cell_type": "code",
   "execution_count": 49,
   "metadata": {},
   "outputs": [],
   "source": [
    "n_models=8\n",
    "hyper_params = {\n",
    "    'max_depth':[4,8,16,24, 30],\n",
    "    'ntrees':[50, 250, 1000],\n",
    "    \"min_rows\" :[2, 5, 10, 20, 40],\n",
    "    \"col_sample_rate_per_tree\" : [0.1, 0.2, 0.4, 0.6, 0.8, 0.9],\n",
    "    \"sample_rate\" : [0.5, 0.6, 0.7, 0.8, 0.9, 1],\n",
    "    \"stopping_metric\" : \"AUC\",\n",
    "    \"seed\" : 1,\n",
    "    \"stopping_rounds\" : 25\n",
    "}\n"
   ]
  },
  {
   "cell_type": "code",
   "execution_count": 50,
   "metadata": {},
   "outputs": [],
   "source": [
    "rf3 = H2OGridSearch(model=h2o.estimators.H2ORandomForestEstimator,\n",
    "                     grid_id='rf3',\n",
    "                     hyper_params=hyper_params,\n",
    "                     search_criteria={'strategy': 'RandomDiscrete', 'max_models': n_models})"
   ]
  },
  {
   "cell_type": "code",
   "execution_count": 51,
   "metadata": {},
   "outputs": [
    {
     "name": "stdout",
     "output_type": "stream",
     "text": [
      "drf Grid Build progress: |████████████████████████████████████████████████| 100%\n",
      "Errors/Warnings building gridsearch model\n",
      "\n",
      "Hyper-parameter: col_sample_rate_per_tree, 0.9\n",
      "Hyper-parameter: max_depth, 16\n",
      "Hyper-parameter: min_rows, 10.0\n",
      "Hyper-parameter: ntrees, 1000\n",
      "Hyper-parameter: sample_rate, 0.9\n",
      "Hyper-parameter: seed, 1\n",
      "Hyper-parameter: stopping_metric, AUC\n",
      "Hyper-parameter: stopping_rounds, 25\n",
      "failure_details: None\n",
      "failure_stack_traces: water.Job$JobCancelledException\n",
      "\tat hex.tree.SharedTree$Driver.scoreAndBuildTrees(SharedTree.java:450)\n",
      "\tat hex.tree.SharedTree$Driver.computeImpl(SharedTree.java:360)\n",
      "\tat hex.ModelBuilder$Driver.compute2(ModelBuilder.java:222)\n",
      "\tat hex.ModelBuilder.trainModelNested(ModelBuilder.java:348)\n",
      "\tat hex.ModelBuilder$TrainModelNestedRunnable.run(ModelBuilder.java:383)\n",
      "\tat water.H2O.runOnH2ONode(H2O.java:1304)\n",
      "\tat water.H2O.runOnH2ONode(H2O.java:1297)\n",
      "\tat hex.ModelBuilder.trainModelNested(ModelBuilder.java:364)\n",
      "\tat hex.grid.GridSearch.buildModel(GridSearch.java:345)\n",
      "\tat hex.grid.GridSearch.gridSearch(GridSearch.java:221)\n",
      "\tat hex.grid.GridSearch.access$000(GridSearch.java:71)\n",
      "\tat hex.grid.GridSearch$1.compute2(GridSearch.java:139)\n",
      "\tat water.H2O$H2OCountedCompleter.compute(H2O.java:1416)\n",
      "\tat jsr166y.CountedCompleter.exec(CountedCompleter.java:468)\n",
      "\tat jsr166y.ForkJoinTask.doExec(ForkJoinTask.java:263)\n",
      "\tat jsr166y.ForkJoinPool$WorkQueue.runTask(ForkJoinPool.java:974)\n",
      "\tat jsr166y.ForkJoinPool.runWorker(ForkJoinPool.java:1477)\n",
      "\tat jsr166y.ForkJoinWorkerThread.run(ForkJoinWorkerThread.java:104)\n",
      "\n",
      "\n"
     ]
    },
    {
     "ename": "TypeError",
     "evalue": "unsupported operand type(s) for +: 'NoneType' and 'str'",
     "output_type": "error",
     "traceback": [
      "\u001b[0;31m---------------------------------------------------------------------------\u001b[0m",
      "\u001b[0;31mTypeError\u001b[0m                                 Traceback (most recent call last)",
      "\u001b[0;32m<ipython-input-51-606f8513ec19>\u001b[0m in \u001b[0;36m<module>\u001b[0;34m\u001b[0m\n\u001b[1;32m      3\u001b[0m            \u001b[0my\u001b[0m\u001b[0;34m=\u001b[0m\u001b[0my\u001b[0m\u001b[0;34m,\u001b[0m\u001b[0;34m\u001b[0m\u001b[0;34m\u001b[0m\u001b[0m\n\u001b[1;32m      4\u001b[0m            \u001b[0mtraining_frame\u001b[0m\u001b[0;34m=\u001b[0m\u001b[0mtrain\u001b[0m\u001b[0;34m,\u001b[0m\u001b[0;34m\u001b[0m\u001b[0;34m\u001b[0m\u001b[0m\n\u001b[0;32m----> 5\u001b[0;31m            validation_frame=valid)\n\u001b[0m",
      "\u001b[0;32m/anaconda3/envs/deep_learning/lib/python3.6/site-packages/h2o/grid/grid_search.py\u001b[0m in \u001b[0;36mtrain\u001b[0;34m(self, x, y, training_frame, offset_column, fold_column, weights_column, validation_frame, **params)\u001b[0m\n\u001b[1;32m    207\u001b[0m         \u001b[0mx\u001b[0m \u001b[0;34m=\u001b[0m \u001b[0mlist\u001b[0m\u001b[0;34m(\u001b[0m\u001b[0mxset\u001b[0m\u001b[0;34m)\u001b[0m\u001b[0;34m\u001b[0m\u001b[0;34m\u001b[0m\u001b[0m\n\u001b[1;32m    208\u001b[0m         \u001b[0mparms\u001b[0m\u001b[0;34m[\u001b[0m\u001b[0;34m\"x\"\u001b[0m\u001b[0;34m]\u001b[0m \u001b[0;34m=\u001b[0m \u001b[0mx\u001b[0m\u001b[0;34m\u001b[0m\u001b[0;34m\u001b[0m\u001b[0m\n\u001b[0;32m--> 209\u001b[0;31m         \u001b[0mself\u001b[0m\u001b[0;34m.\u001b[0m\u001b[0mbuild_model\u001b[0m\u001b[0;34m(\u001b[0m\u001b[0mparms\u001b[0m\u001b[0;34m)\u001b[0m\u001b[0;34m\u001b[0m\u001b[0;34m\u001b[0m\u001b[0m\n\u001b[0m\u001b[1;32m    210\u001b[0m \u001b[0;34m\u001b[0m\u001b[0m\n\u001b[1;32m    211\u001b[0m \u001b[0;34m\u001b[0m\u001b[0m\n",
      "\u001b[0;32m/anaconda3/envs/deep_learning/lib/python3.6/site-packages/h2o/grid/grid_search.py\u001b[0m in \u001b[0;36mbuild_model\u001b[0;34m(self, algo_params)\u001b[0m\n\u001b[1;32m    225\u001b[0m             \u001b[0my\u001b[0m \u001b[0;34m=\u001b[0m \u001b[0my\u001b[0m \u001b[0;32mif\u001b[0m \u001b[0my\u001b[0m \u001b[0;32min\u001b[0m \u001b[0mtraining_frame\u001b[0m\u001b[0;34m.\u001b[0m\u001b[0mnames\u001b[0m \u001b[0;32melse\u001b[0m \u001b[0mtraining_frame\u001b[0m\u001b[0;34m.\u001b[0m\u001b[0mnames\u001b[0m\u001b[0;34m[\u001b[0m\u001b[0my\u001b[0m\u001b[0;34m]\u001b[0m\u001b[0;34m\u001b[0m\u001b[0;34m\u001b[0m\u001b[0m\n\u001b[1;32m    226\u001b[0m             \u001b[0mself\u001b[0m\u001b[0;34m.\u001b[0m\u001b[0mmodel\u001b[0m\u001b[0;34m.\u001b[0m\u001b[0m_estimator_type\u001b[0m \u001b[0;34m=\u001b[0m \u001b[0;34m\"classifier\"\u001b[0m \u001b[0;32mif\u001b[0m \u001b[0mtraining_frame\u001b[0m\u001b[0;34m.\u001b[0m\u001b[0mtypes\u001b[0m\u001b[0;34m[\u001b[0m\u001b[0my\u001b[0m\u001b[0;34m]\u001b[0m \u001b[0;34m==\u001b[0m \u001b[0;34m\"enum\"\u001b[0m \u001b[0;32melse\u001b[0m \u001b[0;34m\"regressor\"\u001b[0m\u001b[0;34m\u001b[0m\u001b[0;34m\u001b[0m\u001b[0m\n\u001b[0;32m--> 227\u001b[0;31m         \u001b[0mself\u001b[0m\u001b[0;34m.\u001b[0m\u001b[0m_model_build\u001b[0m\u001b[0;34m(\u001b[0m\u001b[0mx\u001b[0m\u001b[0;34m,\u001b[0m \u001b[0my\u001b[0m\u001b[0;34m,\u001b[0m \u001b[0mtraining_frame\u001b[0m\u001b[0;34m,\u001b[0m \u001b[0mvalidation_frame\u001b[0m\u001b[0;34m,\u001b[0m \u001b[0malgo_params\u001b[0m\u001b[0;34m)\u001b[0m\u001b[0;34m\u001b[0m\u001b[0;34m\u001b[0m\u001b[0m\n\u001b[0m\u001b[1;32m    228\u001b[0m \u001b[0;34m\u001b[0m\u001b[0m\n\u001b[1;32m    229\u001b[0m \u001b[0;34m\u001b[0m\u001b[0m\n",
      "\u001b[0;32m/anaconda3/envs/deep_learning/lib/python3.6/site-packages/h2o/grid/grid_search.py\u001b[0m in \u001b[0;36m_model_build\u001b[0;34m(self, x, y, tframe, vframe, kwargs)\u001b[0m\n\u001b[1;32m    271\u001b[0m                     print(\"failure_details: {0}\\nfailure_stack_traces: \"\n\u001b[1;32m    272\u001b[0m                           \"{1}\\n\".format(error_message, grid_json['failure_stack_traces'][error_index]))\n\u001b[0;32m--> 273\u001b[0;31m                     \u001b[0mfailure_messages_stacks\u001b[0m \u001b[0;34m+=\u001b[0m \u001b[0merror_message\u001b[0m\u001b[0;34m+\u001b[0m\u001b[0;34m'\\n'\u001b[0m\u001b[0;34m\u001b[0m\u001b[0;34m\u001b[0m\u001b[0m\n\u001b[0m\u001b[1;32m    274\u001b[0m                 \u001b[0merror_index\u001b[0m \u001b[0;34m+=\u001b[0m \u001b[0;36m1\u001b[0m\u001b[0;34m\u001b[0m\u001b[0;34m\u001b[0m\u001b[0m\n\u001b[1;32m    275\u001b[0m \u001b[0;34m\u001b[0m\u001b[0m\n",
      "\u001b[0;31mTypeError\u001b[0m: unsupported operand type(s) for +: 'NoneType' and 'str'"
     ]
    }
   ],
   "source": [
    "#Train grid search\n",
    "rf3.train(x=x, \n",
    "           y=y,\n",
    "           training_frame=train,\n",
    "           validation_frame=valid)"
   ]
  },
  {
   "cell_type": "code",
   "execution_count": null,
   "metadata": {},
   "outputs": [],
   "source": [
    "grids_rf = rf3.get_grid(sort_by='auc', decreasing=True)\n",
    "best_model_rf = grids_rf.models[0] # will be the best model from grid seach sorted by AUC\n",
    "for par in grid_params:\n",
    "    if par in best_model_gbm.params:\n",
    "        print('par: ' + par); print(best_model_gbm.params[par])"
   ]
  },
  {
   "cell_type": "code",
   "execution_count": null,
   "metadata": {},
   "outputs": [],
   "source": []
  }
 ],
 "metadata": {
  "kernelspec": {
   "display_name": "Python 3",
   "language": "python",
   "name": "python3"
  },
  "language_info": {
   "codemirror_mode": {
    "name": "ipython",
    "version": 3
   },
   "file_extension": ".py",
   "mimetype": "text/x-python",
   "name": "python",
   "nbconvert_exporter": "python",
   "pygments_lexer": "ipython3",
   "version": "3.6.7"
  }
 },
 "nbformat": 4,
 "nbformat_minor": 2
}
